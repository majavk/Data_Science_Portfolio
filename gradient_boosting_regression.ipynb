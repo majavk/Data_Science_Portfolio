{
  "nbformat": 4,
  "nbformat_minor": 0,
  "metadata": {
    "colab": {
      "name": "gradient_boosting_regression.ipynb",
      "provenance": [],
      "collapsed_sections": [],
      "toc_visible": true,
      "authorship_tag": "ABX9TyOU9zthMX467qaNjAEnAmzv",
      "include_colab_link": true
    },
    "kernelspec": {
      "name": "python3",
      "display_name": "Python 3"
    },
    "language_info": {
      "name": "python"
    }
  },
  "cells": [
    {
      "cell_type": "markdown",
      "metadata": {
        "id": "view-in-github",
        "colab_type": "text"
      },
      "source": [
        "<a href=\"https://colab.research.google.com/github/majavk/Data_Science_Portfolio/blob/main/gradient_boosting_regression.ipynb\" target=\"_parent\"><img src=\"https://colab.research.google.com/assets/colab-badge.svg\" alt=\"Open In Colab\"/></a>"
      ]
    },
    {
      "cell_type": "markdown",
      "source": [
        "#ENSEMBLE Machine Learning - Gradeint Boosting Regression"
      ],
      "metadata": {
        "id": "d1DMJ3hjtrK6"
      }
    },
    {
      "cell_type": "code",
      "execution_count": null,
      "metadata": {
        "id": "4cWXGCTNtozV"
      },
      "outputs": [],
      "source": [
        "import matplotlib.pyplot as plt\n",
        "import numpy as np\n",
        "import pandas as pd\n",
        "import pandas.util.testing as tm\n",
        "import seaborn as sns\n",
        "\n",
        "import sklearn\n",
        "from sklearn.model_selection import cross_val_score\n",
        "from sklearn.model_selection import GridSearchCV\n",
        "from sklearn import model_selection, preprocessing, feature_selection, ensemble, linear_model, metrics, decomposition\n",
        "from sklearn.ensemble import GradientBoostingRegressor\n",
        "from sklearn.metrics import mean_squared_error, mean_absolute_error\n",
        "from sklearn.model_selection import train_test_split\n",
        "from sklearn.preprocessing import PolynomialFeatures\n",
        "\n",
        "import warnings\n",
        "import xgboost\n",
        "from xgboost import XGBRegressor"
      ]
    },
    {
      "cell_type": "code",
      "source": [
        "warnings.filterwarnings(\"ignore\")"
      ],
      "metadata": {
        "id": "cLhCcOICqka2"
      },
      "execution_count": null,
      "outputs": []
    },
    {
      "cell_type": "code",
      "source": [
        "from google.colab import drive\n",
        "drive.mount('/content/drive')"
      ],
      "metadata": {
        "colab": {
          "base_uri": "https://localhost:8080/"
        },
        "id": "j8-QiVinuErY",
        "outputId": "2e695782-a23c-4e1e-c99b-62ba625610da"
      },
      "execution_count": null,
      "outputs": [
        {
          "output_type": "stream",
          "name": "stdout",
          "text": [
            "Drive already mounted at /content/drive; to attempt to forcibly remount, call drive.mount(\"/content/drive\", force_remount=True).\n"
          ]
        }
      ]
    },
    {
      "cell_type": "markdown",
      "source": [
        "#Features"
      ],
      "metadata": {
        "id": "9h1tfSgzqf6x"
      }
    },
    {
      "cell_type": "code",
      "source": [
        "path = '/content/drive/MyDrive/Colab Notebooks/udemy_tensorflow/1st_lecture/FINAL_TF2_FILES/TF_2_Notebooks_and_Data/03-ANNs/portfolio_example_regression/housing prices/'"
      ],
      "metadata": {
        "id": "T72eQeeDkULS"
      },
      "execution_count": null,
      "outputs": []
    },
    {
      "cell_type": "code",
      "source": [
        "df_train = pd.read_csv(path + 'train_features.csv')\n",
        "df_test = pd.read_csv(path + 'test_features.csv')\n"
      ],
      "metadata": {
        "id": "yRWyemNdqkxE"
      },
      "execution_count": null,
      "outputs": []
    },
    {
      "cell_type": "code",
      "source": [
        "X = df_train.drop('SalePrice', axis=1)\n",
        "y = df_train['SalePrice'].values.reshape(-1,1)\n",
        "X_test = df_test\n"
      ],
      "metadata": {
        "id": "xygKqK6-i_yP"
      },
      "execution_count": null,
      "outputs": []
    },
    {
      "cell_type": "markdown",
      "source": [
        "#Building a model"
      ],
      "metadata": {
        "id": "SFUIHUxcbxuH"
      }
    },
    {
      "cell_type": "code",
      "source": [
        "X_train, X_validate, y_train,  y_validate = train_test_split(X, y, test_size=0.2, random_state=101)\n",
        "X_train.shape\n"
      ],
      "metadata": {
        "id": "vyX0iixpK7hm",
        "colab": {
          "base_uri": "https://localhost:8080/"
        },
        "outputId": "8d5d5c24-d789-41ac-e022-eba872f125b9"
      },
      "execution_count": null,
      "outputs": [
        {
          "output_type": "execute_result",
          "data": {
            "text/plain": [
              "(1165, 50)"
            ]
          },
          "metadata": {},
          "execution_count": 94
        }
      ]
    },
    {
      "cell_type": "code",
      "source": [
        "scalerX = preprocessing.RobustScaler()\n",
        "scalerX.fit(X_train)\n"
      ],
      "metadata": {
        "id": "GFDQ0I6XsKUG",
        "colab": {
          "base_uri": "https://localhost:8080/"
        },
        "outputId": "71c1e4b6-154e-4da9-bee5-7e1caf8ab177"
      },
      "execution_count": null,
      "outputs": [
        {
          "output_type": "execute_result",
          "data": {
            "text/plain": [
              "RobustScaler()"
            ]
          },
          "metadata": {},
          "execution_count": 95
        }
      ]
    },
    {
      "cell_type": "code",
      "source": [
        "X_train_scaled = scalerX.transform(X_train)\n",
        "X_validate_scaled = scalerX.transform(X_validate)\n",
        "X_test_scaled = scalerX.transform(X_test)\n"
      ],
      "metadata": {
        "id": "uLT2xDWkYTxD"
      },
      "execution_count": null,
      "outputs": []
    },
    {
      "cell_type": "markdown",
      "source": [
        "##Gradient Boosting Regressor"
      ],
      "metadata": {
        "id": "1RAFa_C3YiWG"
      }
    },
    {
      "cell_type": "markdown",
      "source": [
        "###Optimization of parameters"
      ],
      "metadata": {
        "id": "X6mf119Iwdxj"
      }
    },
    {
      "cell_type": "code",
      "source": [
        "GBR = GradientBoostingRegressor()\n",
        "param_grid = {'learning_rate': [0.1,0.05,0.2], 'n_estimators': [50,100], 'max_depth' : [3,4,5,8]}\n",
        "\n",
        "Grid_g = GridSearchCV(GBR, param_grid, cv=4, n_jobs=4)\n",
        "Grid_g.fit(X_train_scaled, y_train)\n",
        "BestGBR = Grid_g.best_estimator_\n",
        "\n",
        "BestGBR"
      ],
      "metadata": {
        "id": "Sids5NQtRa9H",
        "colab": {
          "base_uri": "https://localhost:8080/"
        },
        "outputId": "765815e7-f326-49ce-9260-9afca95ce8c7"
      },
      "execution_count": null,
      "outputs": [
        {
          "output_type": "execute_result",
          "data": {
            "text/plain": [
              "GradientBoostingRegressor(learning_rate=0.2)"
            ]
          },
          "metadata": {},
          "execution_count": 15
        }
      ]
    },
    {
      "cell_type": "code",
      "source": [
        "BestGBR.fit(X_train_scaled, y_train)\n",
        "BestGBR_rmse = mean_squared_error(y_train, BestGBR.predict(X_train_scaled))\n",
        "print(f\"Gradient Boosting Regressor GBR RMSE:{BestGBR_rmse:.15f}\")\n",
        "BestGBR_mabser = mean_absolute_error(y_train, BestGBR.predict(X_train_scaled))\n",
        "print(f\"Gradient Boosting Regressor GBR RMSE:{BestGBR_mabser:.15f}\")\n",
        "Best_GBR_r2 = metrics.r2_score(y_train, BestGBR.predict(X_train_scaled))\n",
        "print(f\"Gradient Boosting Regressor GBR R2:{Best_GBR_r2:.15f}\")\n",
        "\n",
        "BestGBR_rmse_val = mean_squared_error(y_validate, BestGBR.predict(X_validate_scaled))\n",
        "print(f\"Gradient Boosting Regressor RMSE_VAL:{BestGBR_rmse_val:.15f}\")\n",
        "BestGBR_mabser_val = mean_absolute_error(y_validate, BestGBR.predict(X_validate_scaled))\n",
        "print(f\"Gradient Boosting Regressor RMSE_VAL:{BestGBR_mabser_val:.15f}\")\n",
        "Best_GBR_r2_val = metrics.r2_score(y_validate, BestGBR.predict(X_validate_scaled))\n",
        "print(f\"Gradient Boosting Regressor R2_VAL:{Best_GBR_r2_val:.15f}\")\n"
      ],
      "metadata": {
        "id": "5RgxjBtQRpqU",
        "colab": {
          "base_uri": "https://localhost:8080/"
        },
        "outputId": "81ed9744-aea5-4717-acc6-2dad33b2de39"
      },
      "execution_count": null,
      "outputs": [
        {
          "output_type": "stream",
          "name": "stdout",
          "text": [
            "Gradient Boosting Regressor GBR RMSE:109174173.062265634536743\n",
            "Gradient Boosting Regressor GBR RMSE:8075.584347808188795\n",
            "Gradient Boosting Regressor GBR R2:0.982963971866437\n",
            "Gradient Boosting Regressor RMSE_VAL:705401863.681623458862305\n",
            "Gradient Boosting Regressor RMSE_VAL:17352.969753385401418\n",
            "Gradient Boosting Regressor R2_VAL:0.881632014407622\n"
          ]
        }
      ]
    },
    {
      "cell_type": "markdown",
      "source": [
        "###Explained variance by the model"
      ],
      "metadata": {
        "id": "qrUYCXj2xF6i"
      }
    },
    {
      "cell_type": "code",
      "source": [
        "scores = cross_val_score(BestGBR, X_train_scaled, y_train, scoring='r2', cv=10)\t\n",
        "print(scores)\n"
      ],
      "metadata": {
        "id": "HD1bbB6GL-nl",
        "colab": {
          "base_uri": "https://localhost:8080/"
        },
        "outputId": "4a868c19-e37d-4eb8-899d-cd45d4dfdd3a"
      },
      "execution_count": null,
      "outputs": [
        {
          "output_type": "stream",
          "name": "stdout",
          "text": [
            "[0.94654804 0.92493378 0.9106352  0.88884174 0.91281758 0.90388064\n",
            " 0.88643682 0.84343353 0.86463523 0.87826553]\n"
          ]
        }
      ]
    },
    {
      "cell_type": "code",
      "source": [
        "plt.figure(figsize=(12,6))\n",
        "predictions = BestGBR.fit(X_train_scaled, y_train).predict(X_validate_scaled)\n",
        "plt.scatter(y_validate, predictions)\n",
        "plt.xlabel('True Values')\n",
        "plt.ylabel('GBR Predictions')\n",
        "plt.plot(y_validate, y_validate, 'r')\n",
        "plt.show()"
      ],
      "metadata": {
        "id": "ylA8j_ep5Gi2",
        "colab": {
          "base_uri": "https://localhost:8080/",
          "height": 388
        },
        "outputId": "c31483fb-0047-4d0f-9720-414d299ce446"
      },
      "execution_count": null,
      "outputs": [
        {
          "output_type": "display_data",
          "data": {
            "text/plain": [
              "<Figure size 864x432 with 1 Axes>"
            ],
            "image/png": "[encoded data removed]"
          },
          "metadata": {
            "needs_background": "light"
          }
        }
      ]
    },
    {
      "cell_type": "markdown",
      "source": [
        "###Importance of the features"
      ],
      "metadata": {
        "id": "phaY_nUkxJg9"
      }
    },
    {
      "cell_type": "code",
      "source": [
        "feature_import = BestGBR.feature_importances_\n",
        "imp_feat = pd.DataFrame(index=X_train.columns,\n",
        "                        data=feature_import,\n",
        "                        columns=['Importance'])\n",
        "imp_feat = imp_feat[imp_feat['Importance'] > 0.01]\n",
        "imp_feat = imp_feat.sort_values('Importance')\n",
        "plt.figure(figsize=(12,8))\n",
        "sns.barplot(data=imp_feat,\n",
        "            x=imp_feat.index,\n",
        "            y='Importance')\n",
        "plt.xticks(rotation=90)"
      ],
      "metadata": {
        "id": "AI2L2DEx7MXM",
        "colab": {
          "base_uri": "https://localhost:8080/",
          "height": 587
        },
        "outputId": "32d255a1-9280-4970-f97e-60de19ea2d00"
      },
      "execution_count": null,
      "outputs": [
        {
          "output_type": "execute_result",
          "data": {
            "text/plain": [
              "(array([0, 1, 2, 3, 4, 5, 6, 7, 8]),\n",
              " <a list of 9 Text major ticklabel objects>)"
            ]
          },
          "metadata": {},
          "execution_count": 102
        },
        {
          "output_type": "display_data",
          "data": {
            "text/plain": [
              "<Figure size 864x576 with 1 Axes>"
            ],
            "image/png": "[encoded data removed]"
          },
          "metadata": {
            "needs_background": "light"
          }
        }
      ]
    },
    {
      "cell_type": "code",
      "source": [
        "imp_feat.index"
      ],
      "metadata": {
        "colab": {
          "base_uri": "https://localhost:8080/"
        },
        "id": "zK59_9Ekw8nB",
        "outputId": "4cdfc929-450b-483f-867e-5af30ed07d32"
      },
      "execution_count": null,
      "outputs": [
        {
          "output_type": "execute_result",
          "data": {
            "text/plain": [
              "Index(['YearRemodAdd', 'LotArea', '2ndFlrSF', 'YearBuilt', 'BsmtFinSF1',\n",
              "       'GarageCars', 'TotalBsmtSF', 'GrLivArea', 'OverallQual'],\n",
              "      dtype='object')"
            ]
          },
          "metadata": {},
          "execution_count": 104
        }
      ]
    },
    {
      "cell_type": "markdown",
      "source": [
        "#Extreme Boosting Regressor"
      ],
      "metadata": {
        "id": "nMfest3yzwPg"
      }
    },
    {
      "cell_type": "markdown",
      "source": [
        "###Optimization of parameters"
      ],
      "metadata": {
        "id": "QTfE5DEj06t_"
      }
    },
    {
      "cell_type": "code",
      "source": [
        "xGBR = XGBRegressor()\n",
        "param_grid = {'learning_rate': [0.0001, 0.001, 0.01, 0.1, 1.0], 'n_estimators': [100, 200, 500], 'min_samples_leaf':[3], 'max_depth' : [4,6,8, 16,32]}\n",
        "\n",
        "Grid10 = GridSearchCV(xGBR, param_grid, cv=5, n_jobs=4)\n",
        "Grid10.fit(X_train_scaled, y_train)\n",
        "BestxGBR = Grid10.best_estimator_\n",
        "\n",
        "BestxGBR"
      ],
      "metadata": {
        "id": "Hor0iyyKfUib",
        "colab": {
          "base_uri": "https://localhost:8080/"
        },
        "outputId": "31cd72e6-cf7f-4950-efcd-a9100df3a17b"
      },
      "execution_count": null,
      "outputs": [
        {
          "output_type": "stream",
          "name": "stdout",
          "text": [
            "[16:36:05] WARNING: /workspace/src/objective/regression_obj.cu:152: reg:linear is now deprecated in favor of reg:squarederror.\n"
          ]
        },
        {
          "output_type": "execute_result",
          "data": {
            "text/plain": [
              "XGBRegressor(max_depth=4, min_samples_leaf=3, n_estimators=200)"
            ]
          },
          "metadata": {},
          "execution_count": 18
        }
      ]
    },
    {
      "cell_type": "markdown",
      "source": [
        "###Explained variance by the model"
      ],
      "metadata": {
        "id": "xR-jMLuj1G-b"
      }
    },
    {
      "cell_type": "code",
      "source": [
        "BestxGBR.fit(X_train_scaled, y_train)\n",
        "BestxGBR_rmse = mean_squared_error(y_train, BestxGBR.predict(X_train_scaled))\n",
        "print(f\"xGBR RMSE:{BestxGBR_rmse:.15f}\")\n",
        "BestxGBR_mabser = mean_absolute_error(y_train, BestxGBR.predict(X_train_scaled))\n",
        "print(f\"xGBR RMSE:{BestxGBR_mabser:.15f}\")\n",
        "Best_xGBR_r2 = metrics.r2_score(y_train, BestxGBR.predict(X_train_scaled))\n",
        "print(f\"xGBR R2:{Best_xGBR_r2:.15f}\")\n",
        "\n",
        "BestxGBR_rmse_val = mean_squared_error(y_validate, BestxGBR.predict(X_validate_scaled))\n",
        "print(f\"xGBR RMSE_VAL:{BestxGBR_rmse_val:.15f}\")\n",
        "BestxGBR_mabser_val = mean_absolute_error(y_validate, BestxGBR.predict(X_validate_scaled))\n",
        "print(f\"xGBR RMSE_VAL:{BestxGBR_mabser_val:.15f}\")\n",
        "Best_xGBR_r2_val = metrics.r2_score(y_validate, BestxGBR.predict(X_validate_scaled))\n",
        "print(f\"xGBR R2_VAL:{Best_xGBR_r2_val:.15f}\")"
      ],
      "metadata": {
        "id": "6VYtfXI_oLRe",
        "colab": {
          "base_uri": "https://localhost:8080/"
        },
        "outputId": "942dd9bc-8db6-4736-a9c6-7ff7ce8ae769"
      },
      "execution_count": null,
      "outputs": [
        {
          "output_type": "stream",
          "name": "stdout",
          "text": [
            "[12:53:17] WARNING: /workspace/src/objective/regression_obj.cu:152: reg:linear is now deprecated in favor of reg:squarederror.\n",
            "xGBR RMSE:16.486966859219923\n",
            "xGBR RMSE:2.367130498927039\n",
            "xGBR R2:0.999999997427300\n",
            "xGBR RMSE_VAL:643493360.704181790351868\n",
            "xGBR RMSE_VAL:17522.360445205478754\n",
            "xGBR R2_VAL:0.892020397492171\n"
          ]
        }
      ]
    },
    {
      "cell_type": "code",
      "source": [
        "scores_xGBR = cross_val_score(BestxGBR, X_train_scaled, y_train, scoring='r2', cv=10)\n",
        "\n",
        "print(scores_xGBR)"
      ],
      "metadata": {
        "id": "XvynJtwODz3C",
        "colab": {
          "base_uri": "https://localhost:8080/"
        },
        "outputId": "a25f73bb-c609-4aee-b297-b45d360280e9"
      },
      "execution_count": null,
      "outputs": [
        {
          "output_type": "stream",
          "name": "stdout",
          "text": [
            "[09:39:49] WARNING: /workspace/src/objective/regression_obj.cu:152: reg:linear is now deprecated in favor of reg:squarederror.\n",
            "[09:40:00] WARNING: /workspace/src/objective/regression_obj.cu:152: reg:linear is now deprecated in favor of reg:squarederror.\n",
            "[09:40:12] WARNING: /workspace/src/objective/regression_obj.cu:152: reg:linear is now deprecated in favor of reg:squarederror.\n",
            "[09:40:23] WARNING: /workspace/src/objective/regression_obj.cu:152: reg:linear is now deprecated in favor of reg:squarederror.\n",
            "[09:40:35] WARNING: /workspace/src/objective/regression_obj.cu:152: reg:linear is now deprecated in favor of reg:squarederror.\n",
            "[09:40:46] WARNING: /workspace/src/objective/regression_obj.cu:152: reg:linear is now deprecated in favor of reg:squarederror.\n",
            "[09:40:58] WARNING: /workspace/src/objective/regression_obj.cu:152: reg:linear is now deprecated in favor of reg:squarederror.\n",
            "[09:41:09] WARNING: /workspace/src/objective/regression_obj.cu:152: reg:linear is now deprecated in favor of reg:squarederror.\n",
            "[09:41:20] WARNING: /workspace/src/objective/regression_obj.cu:152: reg:linear is now deprecated in favor of reg:squarederror.\n",
            "[09:41:32] WARNING: /workspace/src/objective/regression_obj.cu:152: reg:linear is now deprecated in favor of reg:squarederror.\n",
            "[0.89941402 0.91680462 0.90327718 0.90634987 0.90445294 0.86328012\n",
            " 0.92234862 0.93968105 0.89404262 0.90239834]\n"
          ]
        }
      ]
    },
    {
      "cell_type": "code",
      "source": [
        "plt.figure(figsize=(12,6))\n",
        "predictions = BestxGBR.fit(X_train_scaled, y_train).predict(X_validate_scaled)\n",
        "plt.scatter(y_validate, predictions)\n",
        "plt.xlabel('True Values')\n",
        "plt.ylabel('xGBR Predictions')\n",
        "plt.plot(y_validate, y_validate, 'r')"
      ],
      "metadata": {
        "id": "B9HYcsijxW8g",
        "colab": {
          "base_uri": "https://localhost:8080/",
          "height": 424
        },
        "outputId": "4e4660d3-6312-404b-b3df-86f47d1a95f5"
      },
      "execution_count": null,
      "outputs": [
        {
          "output_type": "stream",
          "name": "stdout",
          "text": [
            "[12:54:09] WARNING: /workspace/src/objective/regression_obj.cu:152: reg:linear is now deprecated in favor of reg:squarederror.\n"
          ]
        },
        {
          "output_type": "execute_result",
          "data": {
            "text/plain": [
              "[<matplotlib.lines.Line2D at 0x7fad69bfe550>]"
            ]
          },
          "metadata": {},
          "execution_count": 107
        },
        {
          "output_type": "display_data",
          "data": {
            "text/plain": [
              "<Figure size 864x432 with 1 Axes>"
            ],
            "image/png": "[encoded data removed]"
          },
          "metadata": {
            "needs_background": "light"
          }
        }
      ]
    },
    {
      "cell_type": "markdown",
      "source": [
        "###Importance of the features"
      ],
      "metadata": {
        "id": "cEFKQNfW1Mw9"
      }
    },
    {
      "cell_type": "code",
      "source": [
        "feature_import = BestxGBR.feature_importances_\n",
        "imp_feat = pd.DataFrame(index=X_train.columns,\n",
        "                        data=feature_import,\n",
        "                        columns=['Importance'])\n",
        "imp_feat = imp_feat[imp_feat['Importance'] > 0.01]\n",
        "imp_feat = imp_feat.sort_values('Importance')\n",
        "plt.figure(figsize=(12,8))\n",
        "sns.barplot(data=imp_feat,\n",
        "            x=imp_feat.index,\n",
        "            y='Importance')\n",
        "plt.xticks(rotation=90)"
      ],
      "metadata": {
        "colab": {
          "base_uri": "https://localhost:8080/",
          "height": 606
        },
        "id": "SKFzaVU_0yM7",
        "outputId": "71b2bc43-e3e8-4852-d96c-66422861add4"
      },
      "execution_count": null,
      "outputs": [
        {
          "output_type": "execute_result",
          "data": {
            "text/plain": [
              "(array([ 0,  1,  2,  3,  4,  5,  6,  7,  8,  9, 10, 11, 12, 13, 14]),\n",
              " <a list of 15 Text major ticklabel objects>)"
            ]
          },
          "metadata": {},
          "execution_count": 108
        },
        {
          "output_type": "display_data",
          "data": {
            "text/plain": [
              "<Figure size 864x576 with 1 Axes>"
            ],
            "image/png": "[encoded data removed]"
          },
          "metadata": {
            "needs_background": "light"
          }
        }
      ]
    },
    {
      "cell_type": "markdown",
      "source": [
        "#Conclusion"
      ],
      "metadata": {
        "id": "3-z9-K5E1Prh"
      }
    },
    {
      "cell_type": "markdown",
      "source": [
        "xGBR gave better results then the GBR model.\n",
        "Both gradient boosting regressors are giving good fit to this model and are explaining about the 90% of the variance of the data."
      ],
      "metadata": {
        "id": "Jlx30Fbv1XOx"
      }
    }
  ]
}