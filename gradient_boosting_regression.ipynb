{
  "nbformat": 4,
  "nbformat_minor": 0,
  "metadata": {
    "colab": {
      "name": "gradient_boosting_regression.ipynb",
      "provenance": [],
      "collapsed_sections": [],
      "toc_visible": true,
      "authorship_tag": "ABX9TyMYSR6FIl6pWaIsAObn+gwP",
      "include_colab_link": true
    },
    "kernelspec": {
      "name": "python3",
      "display_name": "Python 3"
    },
    "language_info": {
      "name": "python"
    }
  },
  "cells": [
    {
      "cell_type": "markdown",
      "metadata": {
        "id": "view-in-github",
        "colab_type": "text"
      },
      "source": [
        "<a href=\"https://colab.research.google.com/github/majavk/Data_Science_Portfolio/blob/main/gradient_boosting_regression.ipynb\" target=\"_parent\"><img src=\"https://colab.research.google.com/assets/colab-badge.svg\" alt=\"Open In Colab\"/></a>"
      ]
    },
    {
      "cell_type": "markdown",
      "source": [
        "#ENSEMBLE Machine Learning - Gradeint Boosting Regression"
      ],
      "metadata": {
        "id": "d1DMJ3hjtrK6"
      }
    },
    {
      "cell_type": "markdown",
      "source": [
        "The data for this project were taken from the Kaggle learning competition: \"House Prices - Advanced Regression Techniques\"."
      ],
      "metadata": {
        "id": "IU9LXGPJOxea"
      }
    },
    {
      "cell_type": "code",
      "execution_count": null,
      "metadata": {
        "id": "4cWXGCTNtozV"
      },
      "outputs": [],
      "source": [
        "import matplotlib.pyplot as plt\n",
        "import numpy as np\n",
        "import pandas as pd\n",
        "import pandas.util.testing as tm\n",
        "import seaborn as sns\n",
        "import sklearn\n",
        "from sklearn.model_selection import cross_val_score\n",
        "from sklearn.model_selection import GridSearchCV\n",
        "from sklearn import model_selection, preprocessing, feature_selection, ensemble, linear_model, metrics, decomposition\n",
        "from sklearn.ensemble import GradientBoostingRegressor\n",
        "from sklearn.metrics import mean_squared_error, mean_absolute_error\n",
        "from sklearn.model_selection import train_test_split\n",
        "import warnings\n",
        "import xgboost\n",
        "from xgboost import XGBRegressor\n"
      ]
    },
    {
      "cell_type": "code",
      "source": [
        "warnings.filterwarnings(\"ignore\")"
      ],
      "metadata": {
        "id": "cLhCcOICqka2"
      },
      "execution_count": 2,
      "outputs": []
    },
    {
      "cell_type": "code",
      "source": [
        "from google.colab import drive\n",
        "drive.mount('/content/drive')\n"
      ],
      "metadata": {
        "colab": {
          "base_uri": "https://localhost:8080/"
        },
        "id": "j8-QiVinuErY",
        "outputId": "fcafe0d6-dd34-4491-e5f4-b60bfaba1959"
      },
      "execution_count": 3,
      "outputs": [
        {
          "output_type": "stream",
          "name": "stdout",
          "text": [
            "Mounted at /content/drive\n"
          ]
        }
      ]
    },
    {
      "cell_type": "markdown",
      "source": [
        "#Features"
      ],
      "metadata": {
        "id": "9h1tfSgzqf6x"
      }
    },
    {
      "cell_type": "code",
      "source": [
        "path = '..DATA/'"
      ],
      "metadata": {
        "id": "T72eQeeDkULS"
      },
      "execution_count": 4,
      "outputs": []
    },
    {
      "cell_type": "code",
      "source": [
        "df_train = pd.read_csv(path + 'train_features.csv')\n",
        "df_test = pd.read_csv(path + 'test_features.csv')\n"
      ],
      "metadata": {
        "id": "yRWyemNdqkxE"
      },
      "execution_count": 5,
      "outputs": []
    },
    {
      "cell_type": "code",
      "source": [
        "X = df_train.drop('SalePrice', axis=1)\n",
        "y = df_train['SalePrice'].values.reshape(-1,1)\n",
        "X_test = df_test\n"
      ],
      "metadata": {
        "id": "xygKqK6-i_yP"
      },
      "execution_count": 6,
      "outputs": []
    },
    {
      "cell_type": "markdown",
      "source": [
        "#Building a model"
      ],
      "metadata": {
        "id": "SFUIHUxcbxuH"
      }
    },
    {
      "cell_type": "code",
      "source": [
        "X_train, X_validate, y_train,  y_validate = train_test_split(X, y, test_size=0.2, random_state=101)\n",
        "X_train.shape\n"
      ],
      "metadata": {
        "id": "vyX0iixpK7hm",
        "colab": {
          "base_uri": "https://localhost:8080/"
        },
        "outputId": "14c5ed03-32a8-489f-9b91-acf0bcc368fd"
      },
      "execution_count": 7,
      "outputs": [
        {
          "output_type": "execute_result",
          "data": {
            "text/plain": [
              "(1165, 50)"
            ]
          },
          "metadata": {},
          "execution_count": 7
        }
      ]
    },
    {
      "cell_type": "code",
      "source": [
        "scalerX = preprocessing.RobustScaler()\n",
        "scalerX.fit(X_train)\n"
      ],
      "metadata": {
        "id": "GFDQ0I6XsKUG",
        "colab": {
          "base_uri": "https://localhost:8080/"
        },
        "outputId": "3b9e024c-0f62-4caf-8a26-eb9a27a4dc30"
      },
      "execution_count": 8,
      "outputs": [
        {
          "output_type": "execute_result",
          "data": {
            "text/plain": [
              "RobustScaler()"
            ]
          },
          "metadata": {},
          "execution_count": 8
        }
      ]
    },
    {
      "cell_type": "code",
      "source": [
        "X_train_scaled = scalerX.transform(X_train)\n",
        "X_validate_scaled = scalerX.transform(X_validate)\n",
        "X_test_scaled = scalerX.transform(X_test)\n"
      ],
      "metadata": {
        "id": "uLT2xDWkYTxD"
      },
      "execution_count": 9,
      "outputs": []
    },
    {
      "cell_type": "markdown",
      "source": [
        "#Gradient Boosting Regressor"
      ],
      "metadata": {
        "id": "1RAFa_C3YiWG"
      }
    },
    {
      "cell_type": "markdown",
      "source": [
        "##Optimization of parameters"
      ],
      "metadata": {
        "id": "X6mf119Iwdxj"
      }
    },
    {
      "cell_type": "code",
      "source": [
        "GBR = GradientBoostingRegressor()\n",
        "param_grid = {'learning_rate': [0.1,0.05,0.2], 'n_estimators': [50,100], 'max_depth' : [3,4,5,8]}\n",
        "\n",
        "Grid_g = GridSearchCV(GBR, param_grid, cv=4, n_jobs=4)\n",
        "Grid_g.fit(X_train_scaled, y_train)\n",
        "BestGBR = Grid_g.best_estimator_\n",
        "\n",
        "BestGBR\n"
      ],
      "metadata": {
        "id": "Sids5NQtRa9H",
        "colab": {
          "base_uri": "https://localhost:8080/"
        },
        "outputId": "21758c53-8a13-4702-9322-ea477b5864bc"
      },
      "execution_count": 10,
      "outputs": [
        {
          "output_type": "execute_result",
          "data": {
            "text/plain": [
              "GradientBoostingRegressor(learning_rate=0.2, n_estimators=50)"
            ]
          },
          "metadata": {},
          "execution_count": 10
        }
      ]
    },
    {
      "cell_type": "code",
      "source": [
        "BestGBR.fit(X_train_scaled, y_train)\n",
        "BestGBR_rmse = mean_squared_error(y_train, BestGBR.predict(X_train_scaled))\n",
        "print(f\"Gradient Boosting Regressor GBR RMSE:{BestGBR_rmse:.3f}\")\n",
        "BestGBR_mabser = mean_absolute_error(y_train, BestGBR.predict(X_train_scaled))\n",
        "print(f\"Gradient Boosting Regressor GBR RMSE:{BestGBR_mabser:.3f}\")\n",
        "Best_GBR_r2 = metrics.r2_score(y_train, BestGBR.predict(X_train_scaled))\n",
        "print(f\"Gradient Boosting Regressor GBR R2:{Best_GBR_r2:.3f}\")\n",
        "\n"
      ],
      "metadata": {
        "id": "5RgxjBtQRpqU",
        "colab": {
          "base_uri": "https://localhost:8080/"
        },
        "outputId": "48a9c40f-bb21-43cb-ce49-65f15ed3b4d7"
      },
      "execution_count": 11,
      "outputs": [
        {
          "output_type": "stream",
          "name": "stdout",
          "text": [
            "Gradient Boosting Regressor GBR RMSE:188782981.931\n",
            "Gradient Boosting Regressor GBR RMSE:10478.007\n",
            "Gradient Boosting Regressor GBR R2:0.971\n"
          ]
        }
      ]
    },
    {
      "cell_type": "markdown",
      "source": [
        "##Explained variance by the model"
      ],
      "metadata": {
        "id": "qrUYCXj2xF6i"
      }
    },
    {
      "cell_type": "markdown",
      "source": [
        "###Cross Validation - cross_validate"
      ],
      "metadata": {
        "id": "fO4mhtnn3Tze"
      }
    },
    {
      "cell_type": "code",
      "source": [
        "scores = sklearn.model_selection.cross_validate(BestGBR, X_train_scaled, y_train,\n",
        "                                                scoring=['r2','neg_mean_squared_error','neg_mean_absolute_error'], cv=10)\t\n",
        "\n",
        "scores = pd.DataFrame(scores)\n"
      ],
      "metadata": {
        "id": "HD1bbB6GL-nl"
      },
      "execution_count": 27,
      "outputs": []
    },
    {
      "cell_type": "code",
      "source": [
        "scores\n"
      ],
      "metadata": {
        "colab": {
          "base_uri": "https://localhost:8080/",
          "height": 363
        },
        "id": "MDNVIqCN26qv",
        "outputId": "5048a6d7-78a5-4ee5-c5f7-2f2074302130"
      },
      "execution_count": 28,
      "outputs": [
        {
          "output_type": "execute_result",
          "data": {
            "text/plain": [
              "   fit_time  score_time   test_r2  test_neg_mean_squared_error  \\\n",
              "0  0.225511    0.001508  0.905147                -3.734366e+08   \n",
              "1  0.236067    0.001389  0.923897                -4.205894e+08   \n",
              "2  0.234083    0.001718  0.938959                -5.822052e+08   \n",
              "3  0.243520    0.001405  0.924626                -5.830635e+08   \n",
              "4  0.226774    0.001338  0.908999                -6.349411e+08   \n",
              "5  0.224213    0.001852  0.867059                -6.749112e+08   \n",
              "6  0.227944    0.001480  0.919165                -5.074201e+08   \n",
              "7  0.231162    0.001420  0.921702                -6.017032e+08   \n",
              "8  0.233926    0.001353  0.915500                -4.601560e+08   \n",
              "9  0.243680    0.001395  0.915430                -4.657684e+08   \n",
              "\n",
              "   test_neg_mean_absolute_error  \n",
              "0                 -14154.146052  \n",
              "1                 -15538.829022  \n",
              "2                 -16260.254537  \n",
              "3                 -15341.007631  \n",
              "4                 -16764.179598  \n",
              "5                 -16931.184670  \n",
              "6                 -15235.025621  \n",
              "7                 -16982.205377  \n",
              "8                 -15164.769924  \n",
              "9                 -14973.037477  "
            ],
            "text/html": [
              "\n",
              "  <div id=\"df-7aa66750-bded-4fa8-a6b8-c52d1874c25e\">\n",
              "    <div class=\"colab-df-container\">\n",
              "      <div>\n",
              "<style scoped>\n",
              "    .dataframe tbody tr th:only-of-type {\n",
              "        vertical-align: middle;\n",
              "    }\n",
              "\n",
              "    .dataframe tbody tr th {\n",
              "        vertical-align: top;\n",
              "    }\n",
              "\n",
              "    .dataframe thead th {\n",
              "        text-align: right;\n",
              "    }\n",
              "</style>\n",
              "<table border=\"1\" class=\"dataframe\">\n",
              "  <thead>\n",
              "    <tr style=\"text-align: right;\">\n",
              "      <th></th>\n",
              "      <th>fit_time</th>\n",
              "      <th>score_time</th>\n",
              "      <th>test_r2</th>\n",
              "      <th>test_neg_mean_squared_error</th>\n",
              "      <th>test_neg_mean_absolute_error</th>\n",
              "    </tr>\n",
              "  </thead>\n",
              "  <tbody>\n",
              "    <tr>\n",
              "      <th>0</th>\n",
              "      <td>0.225511</td>\n",
              "      <td>0.001508</td>\n",
              "      <td>0.905147</td>\n",
              "      <td>-3.734366e+08</td>\n",
              "      <td>-14154.146052</td>\n",
              "    </tr>\n",
              "    <tr>\n",
              "      <th>1</th>\n",
              "      <td>0.236067</td>\n",
              "      <td>0.001389</td>\n",
              "      <td>0.923897</td>\n",
              "      <td>-4.205894e+08</td>\n",
              "      <td>-15538.829022</td>\n",
              "    </tr>\n",
              "    <tr>\n",
              "      <th>2</th>\n",
              "      <td>0.234083</td>\n",
              "      <td>0.001718</td>\n",
              "      <td>0.938959</td>\n",
              "      <td>-5.822052e+08</td>\n",
              "      <td>-16260.254537</td>\n",
              "    </tr>\n",
              "    <tr>\n",
              "      <th>3</th>\n",
              "      <td>0.243520</td>\n",
              "      <td>0.001405</td>\n",
              "      <td>0.924626</td>\n",
              "      <td>-5.830635e+08</td>\n",
              "      <td>-15341.007631</td>\n",
              "    </tr>\n",
              "    <tr>\n",
              "      <th>4</th>\n",
              "      <td>0.226774</td>\n",
              "      <td>0.001338</td>\n",
              "      <td>0.908999</td>\n",
              "      <td>-6.349411e+08</td>\n",
              "      <td>-16764.179598</td>\n",
              "    </tr>\n",
              "    <tr>\n",
              "      <th>5</th>\n",
              "      <td>0.224213</td>\n",
              "      <td>0.001852</td>\n",
              "      <td>0.867059</td>\n",
              "      <td>-6.749112e+08</td>\n",
              "      <td>-16931.184670</td>\n",
              "    </tr>\n",
              "    <tr>\n",
              "      <th>6</th>\n",
              "      <td>0.227944</td>\n",
              "      <td>0.001480</td>\n",
              "      <td>0.919165</td>\n",
              "      <td>-5.074201e+08</td>\n",
              "      <td>-15235.025621</td>\n",
              "    </tr>\n",
              "    <tr>\n",
              "      <th>7</th>\n",
              "      <td>0.231162</td>\n",
              "      <td>0.001420</td>\n",
              "      <td>0.921702</td>\n",
              "      <td>-6.017032e+08</td>\n",
              "      <td>-16982.205377</td>\n",
              "    </tr>\n",
              "    <tr>\n",
              "      <th>8</th>\n",
              "      <td>0.233926</td>\n",
              "      <td>0.001353</td>\n",
              "      <td>0.915500</td>\n",
              "      <td>-4.601560e+08</td>\n",
              "      <td>-15164.769924</td>\n",
              "    </tr>\n",
              "    <tr>\n",
              "      <th>9</th>\n",
              "      <td>0.243680</td>\n",
              "      <td>0.001395</td>\n",
              "      <td>0.915430</td>\n",
              "      <td>-4.657684e+08</td>\n",
              "      <td>-14973.037477</td>\n",
              "    </tr>\n",
              "  </tbody>\n",
              "</table>\n",
              "</div>\n",
              "      <button class=\"colab-df-convert\" onclick=\"convertToInteractive('df-7aa66750-bded-4fa8-a6b8-c52d1874c25e')\"\n",
              "              title=\"Convert this dataframe to an interactive table.\"\n",
              "              style=\"display:none;\">\n",
              "        \n",
              "  <svg xmlns=\"http://www.w3.org/2000/svg\" height=\"24px\"viewBox=\"0 0 24 24\"\n",
              "       width=\"24px\">\n",
              "    <path d=\"M0 0h24v24H0V0z\" fill=\"none\"/>\n",
              "    <path d=\"M18.56 5.44l.94 2.06.94-2.06 2.06-.94-2.06-.94-.94-2.06-.94 2.06-2.06.94zm-11 1L8.5 8.5l.94-2.06 2.06-.94-2.06-.94L8.5 2.5l-.94 2.06-2.06.94zm10 10l.94 2.06.94-2.06 2.06-.94-2.06-.94-.94-2.06-.94 2.06-2.06.94z\"/><path d=\"M17.41 7.96l-1.37-1.37c-.4-.4-.92-.59-1.43-.59-.52 0-1.04.2-1.43.59L10.3 9.45l-7.72 7.72c-.78.78-.78 2.05 0 2.83L4 21.41c.39.39.9.59 1.41.59.51 0 1.02-.2 1.41-.59l7.78-7.78 2.81-2.81c.8-.78.8-2.07 0-2.86zM5.41 20L4 18.59l7.72-7.72 1.47 1.35L5.41 20z\"/>\n",
              "  </svg>\n",
              "      </button>\n",
              "      \n",
              "  <style>\n",
              "    .colab-df-container {\n",
              "      display:flex;\n",
              "      flex-wrap:wrap;\n",
              "      gap: 12px;\n",
              "    }\n",
              "\n",
              "    .colab-df-convert {\n",
              "      background-color: #E8F0FE;\n",
              "      border: none;\n",
              "      border-radius: 50%;\n",
              "      cursor: pointer;\n",
              "      display: none;\n",
              "      fill: #1967D2;\n",
              "      height: 32px;\n",
              "      padding: 0 0 0 0;\n",
              "      width: 32px;\n",
              "    }\n",
              "\n",
              "    .colab-df-convert:hover {\n",
              "      background-color: #E2EBFA;\n",
              "      box-shadow: 0px 1px 2px rgba(60, 64, 67, 0.3), 0px 1px 3px 1px rgba(60, 64, 67, 0.15);\n",
              "      fill: #174EA6;\n",
              "    }\n",
              "\n",
              "    [theme=dark] .colab-df-convert {\n",
              "      background-color: #3B4455;\n",
              "      fill: #D2E3FC;\n",
              "    }\n",
              "\n",
              "    [theme=dark] .colab-df-convert:hover {\n",
              "      background-color: #434B5C;\n",
              "      box-shadow: 0px 1px 3px 1px rgba(0, 0, 0, 0.15);\n",
              "      filter: drop-shadow(0px 1px 2px rgba(0, 0, 0, 0.3));\n",
              "      fill: #FFFFFF;\n",
              "    }\n",
              "  </style>\n",
              "\n",
              "      <script>\n",
              "        const buttonEl =\n",
              "          document.querySelector('#df-7aa66750-bded-4fa8-a6b8-c52d1874c25e button.colab-df-convert');\n",
              "        buttonEl.style.display =\n",
              "          google.colab.kernel.accessAllowed ? 'block' : 'none';\n",
              "\n",
              "        async function convertToInteractive(key) {\n",
              "          const element = document.querySelector('#df-7aa66750-bded-4fa8-a6b8-c52d1874c25e');\n",
              "          const dataTable =\n",
              "            await google.colab.kernel.invokeFunction('convertToInteractive',\n",
              "                                                     [key], {});\n",
              "          if (!dataTable) return;\n",
              "\n",
              "          const docLinkHtml = 'Like what you see? Visit the ' +\n",
              "            '<a target=\"_blank\" href=https://colab.research.google.com/notebooks/data_table.ipynb>data table notebook</a>'\n",
              "            + ' to learn more about interactive tables.';\n",
              "          element.innerHTML = '';\n",
              "          dataTable['output_type'] = 'display_data';\n",
              "          await google.colab.output.renderOutput(dataTable, element);\n",
              "          const docLink = document.createElement('div');\n",
              "          docLink.innerHTML = docLinkHtml;\n",
              "          element.appendChild(docLink);\n",
              "        }\n",
              "      </script>\n",
              "    </div>\n",
              "  </div>\n",
              "  "
            ]
          },
          "metadata": {},
          "execution_count": 28
        }
      ]
    },
    {
      "cell_type": "code",
      "source": [
        "scores.describe().T\n"
      ],
      "metadata": {
        "colab": {
          "base_uri": "https://localhost:8080/",
          "height": 270
        },
        "id": "tcOoUT6t226t",
        "outputId": "ef906a50-2d60-41eb-9e47-0c9f74c6ee1f"
      },
      "execution_count": 29,
      "outputs": [
        {
          "output_type": "execute_result",
          "data": {
            "text/plain": [
              "                              count          mean           std           min  \\\n",
              "fit_time                       10.0  2.326879e-01  6.961764e-03  2.242126e-01   \n",
              "score_time                     10.0  1.485968e-03  1.688634e-04  1.338482e-03   \n",
              "test_r2                        10.0  9.140484e-01  1.894714e-02  8.670589e-01   \n",
              "test_neg_mean_squared_error    10.0 -5.304195e+08  9.926905e+07 -6.749112e+08   \n",
              "test_neg_mean_absolute_error   10.0 -1.573446e+04  9.527746e+02 -1.698221e+04   \n",
              "\n",
              "                                       25%           50%           75%  \\\n",
              "fit_time                      2.270665e-01  2.325437e-01  2.355710e-01   \n",
              "score_time                    1.390398e-03  1.412868e-03  1.501024e-03   \n",
              "test_r2                       9.106069e-01  9.173325e-01  9.233483e-01   \n",
              "test_neg_mean_squared_error  -5.970433e+08 -5.448127e+08 -4.615591e+08   \n",
              "test_neg_mean_absolute_error -1.663820e+04 -1.543992e+04 -1.518233e+04   \n",
              "\n",
              "                                       max  \n",
              "fit_time                      2.436795e-01  \n",
              "score_time                    1.852274e-03  \n",
              "test_r2                       9.389593e-01  \n",
              "test_neg_mean_squared_error  -3.734366e+08  \n",
              "test_neg_mean_absolute_error -1.415415e+04  "
            ],
            "text/html": [
              "\n",
              "  <div id=\"df-354124d5-add0-4f68-abfb-1dabd5a6a09c\">\n",
              "    <div class=\"colab-df-container\">\n",
              "      <div>\n",
              "<style scoped>\n",
              "    .dataframe tbody tr th:only-of-type {\n",
              "        vertical-align: middle;\n",
              "    }\n",
              "\n",
              "    .dataframe tbody tr th {\n",
              "        vertical-align: top;\n",
              "    }\n",
              "\n",
              "    .dataframe thead th {\n",
              "        text-align: right;\n",
              "    }\n",
              "</style>\n",
              "<table border=\"1\" class=\"dataframe\">\n",
              "  <thead>\n",
              "    <tr style=\"text-align: right;\">\n",
              "      <th></th>\n",
              "      <th>count</th>\n",
              "      <th>mean</th>\n",
              "      <th>std</th>\n",
              "      <th>min</th>\n",
              "      <th>25%</th>\n",
              "      <th>50%</th>\n",
              "      <th>75%</th>\n",
              "      <th>max</th>\n",
              "    </tr>\n",
              "  </thead>\n",
              "  <tbody>\n",
              "    <tr>\n",
              "      <th>fit_time</th>\n",
              "      <td>10.0</td>\n",
              "      <td>2.326879e-01</td>\n",
              "      <td>6.961764e-03</td>\n",
              "      <td>2.242126e-01</td>\n",
              "      <td>2.270665e-01</td>\n",
              "      <td>2.325437e-01</td>\n",
              "      <td>2.355710e-01</td>\n",
              "      <td>2.436795e-01</td>\n",
              "    </tr>\n",
              "    <tr>\n",
              "      <th>score_time</th>\n",
              "      <td>10.0</td>\n",
              "      <td>1.485968e-03</td>\n",
              "      <td>1.688634e-04</td>\n",
              "      <td>1.338482e-03</td>\n",
              "      <td>1.390398e-03</td>\n",
              "      <td>1.412868e-03</td>\n",
              "      <td>1.501024e-03</td>\n",
              "      <td>1.852274e-03</td>\n",
              "    </tr>\n",
              "    <tr>\n",
              "      <th>test_r2</th>\n",
              "      <td>10.0</td>\n",
              "      <td>9.140484e-01</td>\n",
              "      <td>1.894714e-02</td>\n",
              "      <td>8.670589e-01</td>\n",
              "      <td>9.106069e-01</td>\n",
              "      <td>9.173325e-01</td>\n",
              "      <td>9.233483e-01</td>\n",
              "      <td>9.389593e-01</td>\n",
              "    </tr>\n",
              "    <tr>\n",
              "      <th>test_neg_mean_squared_error</th>\n",
              "      <td>10.0</td>\n",
              "      <td>-5.304195e+08</td>\n",
              "      <td>9.926905e+07</td>\n",
              "      <td>-6.749112e+08</td>\n",
              "      <td>-5.970433e+08</td>\n",
              "      <td>-5.448127e+08</td>\n",
              "      <td>-4.615591e+08</td>\n",
              "      <td>-3.734366e+08</td>\n",
              "    </tr>\n",
              "    <tr>\n",
              "      <th>test_neg_mean_absolute_error</th>\n",
              "      <td>10.0</td>\n",
              "      <td>-1.573446e+04</td>\n",
              "      <td>9.527746e+02</td>\n",
              "      <td>-1.698221e+04</td>\n",
              "      <td>-1.663820e+04</td>\n",
              "      <td>-1.543992e+04</td>\n",
              "      <td>-1.518233e+04</td>\n",
              "      <td>-1.415415e+04</td>\n",
              "    </tr>\n",
              "  </tbody>\n",
              "</table>\n",
              "</div>\n",
              "      <button class=\"colab-df-convert\" onclick=\"convertToInteractive('df-354124d5-add0-4f68-abfb-1dabd5a6a09c')\"\n",
              "              title=\"Convert this dataframe to an interactive table.\"\n",
              "              style=\"display:none;\">\n",
              "        \n",
              "  <svg xmlns=\"http://www.w3.org/2000/svg\" height=\"24px\"viewBox=\"0 0 24 24\"\n",
              "       width=\"24px\">\n",
              "    <path d=\"M0 0h24v24H0V0z\" fill=\"none\"/>\n",
              "    <path d=\"M18.56 5.44l.94 2.06.94-2.06 2.06-.94-2.06-.94-.94-2.06-.94 2.06-2.06.94zm-11 1L8.5 8.5l.94-2.06 2.06-.94-2.06-.94L8.5 2.5l-.94 2.06-2.06.94zm10 10l.94 2.06.94-2.06 2.06-.94-2.06-.94-.94-2.06-.94 2.06-2.06.94z\"/><path d=\"M17.41 7.96l-1.37-1.37c-.4-.4-.92-.59-1.43-.59-.52 0-1.04.2-1.43.59L10.3 9.45l-7.72 7.72c-.78.78-.78 2.05 0 2.83L4 21.41c.39.39.9.59 1.41.59.51 0 1.02-.2 1.41-.59l7.78-7.78 2.81-2.81c.8-.78.8-2.07 0-2.86zM5.41 20L4 18.59l7.72-7.72 1.47 1.35L5.41 20z\"/>\n",
              "  </svg>\n",
              "      </button>\n",
              "      \n",
              "  <style>\n",
              "    .colab-df-container {\n",
              "      display:flex;\n",
              "      flex-wrap:wrap;\n",
              "      gap: 12px;\n",
              "    }\n",
              "\n",
              "    .colab-df-convert {\n",
              "      background-color: #E8F0FE;\n",
              "      border: none;\n",
              "      border-radius: 50%;\n",
              "      cursor: pointer;\n",
              "      display: none;\n",
              "      fill: #1967D2;\n",
              "      height: 32px;\n",
              "      padding: 0 0 0 0;\n",
              "      width: 32px;\n",
              "    }\n",
              "\n",
              "    .colab-df-convert:hover {\n",
              "      background-color: #E2EBFA;\n",
              "      box-shadow: 0px 1px 2px rgba(60, 64, 67, 0.3), 0px 1px 3px 1px rgba(60, 64, 67, 0.15);\n",
              "      fill: #174EA6;\n",
              "    }\n",
              "\n",
              "    [theme=dark] .colab-df-convert {\n",
              "      background-color: #3B4455;\n",
              "      fill: #D2E3FC;\n",
              "    }\n",
              "\n",
              "    [theme=dark] .colab-df-convert:hover {\n",
              "      background-color: #434B5C;\n",
              "      box-shadow: 0px 1px 3px 1px rgba(0, 0, 0, 0.15);\n",
              "      filter: drop-shadow(0px 1px 2px rgba(0, 0, 0, 0.3));\n",
              "      fill: #FFFFFF;\n",
              "    }\n",
              "  </style>\n",
              "\n",
              "      <script>\n",
              "        const buttonEl =\n",
              "          document.querySelector('#df-354124d5-add0-4f68-abfb-1dabd5a6a09c button.colab-df-convert');\n",
              "        buttonEl.style.display =\n",
              "          google.colab.kernel.accessAllowed ? 'block' : 'none';\n",
              "\n",
              "        async function convertToInteractive(key) {\n",
              "          const element = document.querySelector('#df-354124d5-add0-4f68-abfb-1dabd5a6a09c');\n",
              "          const dataTable =\n",
              "            await google.colab.kernel.invokeFunction('convertToInteractive',\n",
              "                                                     [key], {});\n",
              "          if (!dataTable) return;\n",
              "\n",
              "          const docLinkHtml = 'Like what you see? Visit the ' +\n",
              "            '<a target=\"_blank\" href=https://colab.research.google.com/notebooks/data_table.ipynb>data table notebook</a>'\n",
              "            + ' to learn more about interactive tables.';\n",
              "          element.innerHTML = '';\n",
              "          dataTable['output_type'] = 'display_data';\n",
              "          await google.colab.output.renderOutput(dataTable, element);\n",
              "          const docLink = document.createElement('div');\n",
              "          docLink.innerHTML = docLinkHtml;\n",
              "          element.appendChild(docLink);\n",
              "        }\n",
              "      </script>\n",
              "    </div>\n",
              "  </div>\n",
              "  "
            ]
          },
          "metadata": {},
          "execution_count": 29
        }
      ]
    },
    {
      "cell_type": "markdown",
      "source": [
        "##Model predictions"
      ],
      "metadata": {
        "id": "CrvCijYI2i1e"
      }
    },
    {
      "cell_type": "markdown",
      "source": [
        "###Cross Validation - Train Test Split"
      ],
      "metadata": {
        "id": "bxUC1SlT2mpO"
      }
    },
    {
      "cell_type": "code",
      "source": [
        "BestGBR_rmse_val = mean_squared_error(y_validate, BestGBR.predict(X_validate_scaled))\n",
        "print(f\"Gradient Boosting Regressor RMSE_VAL:{BestGBR_rmse_val:.3f}\")\n",
        "BestGBR_mabser_val = mean_absolute_error(y_validate, BestGBR.predict(X_validate_scaled))\n",
        "print(f\"Gradient Boosting Regressor RMSE_VAL:{BestGBR_mabser_val:.3f}\")\n",
        "Best_GBR_r2_val = metrics.r2_score(y_validate, BestGBR.predict(X_validate_scaled))\n",
        "print(f\"Gradient Boosting Regressor R2_VAL:{Best_GBR_r2_val:.3f}\")\n"
      ],
      "metadata": {
        "colab": {
          "base_uri": "https://localhost:8080/"
        },
        "id": "2lwGl0VG2wLx",
        "outputId": "995628d2-1c95-4ec2-c16e-2cccb875b71d"
      },
      "execution_count": 15,
      "outputs": [
        {
          "output_type": "stream",
          "name": "stdout",
          "text": [
            "Gradient Boosting Regressor RMSE_VAL:714675873.106\n",
            "Gradient Boosting Regressor RMSE_VAL:17544.226\n",
            "Gradient Boosting Regressor R2_VAL:0.880\n"
          ]
        }
      ]
    },
    {
      "cell_type": "code",
      "source": [
        "plt.figure(figsize=(12,6))\n",
        "predictions = BestGBR.fit(X_train_scaled, y_train).predict(X_validate_scaled)\n",
        "plt.scatter(y_validate, predictions)\n",
        "plt.xlabel('True Values')\n",
        "plt.ylabel('GBR Predictions')\n",
        "plt.plot(y_validate, y_validate, 'r')\n",
        "plt.show()\n"
      ],
      "metadata": {
        "id": "ylA8j_ep5Gi2",
        "colab": {
          "base_uri": "https://localhost:8080/",
          "height": 388
        },
        "outputId": "81f08b05-1124-4a4c-8ab5-7e9d25173869"
      },
      "execution_count": 16,
      "outputs": [
        {
          "output_type": "display_data",
          "data": {
            "text/plain": [
              "<Figure size 864x432 with 1 Axes>"
            ],
            "image/png": "[encoded data removed]"
          },
          "metadata": {
            "needs_background": "light"
          }
        }
      ]
    },
    {
      "cell_type": "markdown",
      "source": [
        "##Importance of the features"
      ],
      "metadata": {
        "id": "phaY_nUkxJg9"
      }
    },
    {
      "cell_type": "code",
      "source": [
        "feature_import = BestGBR.feature_importances_\n",
        "imp_feat = pd.DataFrame(index=X_train.columns,\n",
        "                        data=feature_import,\n",
        "                        columns=['Importance'])\n",
        "imp_feat = imp_feat[imp_feat['Importance'] > 0.01]\n",
        "imp_feat = imp_feat.sort_values('Importance')\n",
        "plt.figure(figsize=(12,8))\n",
        "sns.barplot(data=imp_feat,\n",
        "            x=imp_feat.index,\n",
        "            y='Importance')\n",
        "plt.xticks(rotation=90)\n"
      ],
      "metadata": {
        "id": "AI2L2DEx7MXM",
        "colab": {
          "base_uri": "https://localhost:8080/",
          "height": 587
        },
        "outputId": "d96eedc9-19b4-4066-aba1-8bd8cab45119"
      },
      "execution_count": 17,
      "outputs": [
        {
          "output_type": "execute_result",
          "data": {
            "text/plain": [
              "(array([ 0,  1,  2,  3,  4,  5,  6,  7,  8,  9, 10]),\n",
              " <a list of 11 Text major ticklabel objects>)"
            ]
          },
          "metadata": {},
          "execution_count": 17
        },
        {
          "output_type": "display_data",
          "data": {
            "text/plain": [
              "<Figure size 864x576 with 1 Axes>"
            ],
            "image/png": "[encoded data removed]"
          },
          "metadata": {
            "needs_background": "light"
          }
        }
      ]
    },
    {
      "cell_type": "code",
      "source": [
        "imp_feat.index\n"
      ],
      "metadata": {
        "colab": {
          "base_uri": "https://localhost:8080/"
        },
        "id": "zK59_9Ekw8nB",
        "outputId": "6542b023-715e-48ab-933e-c003893d3bbb"
      },
      "execution_count": 18,
      "outputs": [
        {
          "output_type": "execute_result",
          "data": {
            "text/plain": [
              "Index(['MSSubClass_60', 'YearRemodAdd', 'LotArea', '2ndFlrSF', '1stFlrSF',\n",
              "       'YearBuilt', 'BsmtFinSF1', 'TotalBsmtSF', 'GarageCars', 'GrLivArea',\n",
              "       'OverallQual'],\n",
              "      dtype='object')"
            ]
          },
          "metadata": {},
          "execution_count": 18
        }
      ]
    },
    {
      "cell_type": "markdown",
      "source": [
        "#Extreme Boosting Regressor"
      ],
      "metadata": {
        "id": "nMfest3yzwPg"
      }
    },
    {
      "cell_type": "markdown",
      "source": [
        "##Optimization of parameters"
      ],
      "metadata": {
        "id": "QTfE5DEj06t_"
      }
    },
    {
      "cell_type": "code",
      "source": [
        "xGBR = XGBRegressor()\n",
        "param_grid = {'learning_rate': [0.0001, 0.001, 0.01, 0.1, 1.0], 'n_estimators': [100, 200, 500], 'min_samples_leaf':[3], 'max_depth' : [4,6,8, 16,32]}\n",
        "\n",
        "Grid10 = GridSearchCV(xGBR, param_grid, cv=5, n_jobs=4)\n",
        "Grid10.fit(X_train_scaled, y_train)\n",
        "BestxGBR = Grid10.best_estimator_\n",
        "\n",
        "BestxGBR\n"
      ],
      "metadata": {
        "id": "Hor0iyyKfUib"
      },
      "execution_count": null,
      "outputs": []
    },
    {
      "cell_type": "markdown",
      "source": [
        "##Explained variance by the model"
      ],
      "metadata": {
        "id": "xR-jMLuj1G-b"
      }
    },
    {
      "cell_type": "code",
      "source": [
        "BestxGBR.fit(X_train_scaled, y_train)\n",
        "BestxGBR_rmse = mean_squared_error(y_train, BestxGBR.predict(X_train_scaled))\n",
        "print(f\"xGBR RMSE:{BestxGBR_rmse:.3f}\")\n",
        "BestxGBR_mabser = mean_absolute_error(y_train, BestxGBR.predict(X_train_scaled))\n",
        "print(f\"xGBR RMSE:{BestxGBR_mabser:.3f}\")\n",
        "Best_xGBR_r2 = metrics.r2_score(y_train, BestxGBR.predict(X_train_scaled))\n",
        "print(f\"xGBR R2:{Best_xGBR_r2:.3f}\")\n"
      ],
      "metadata": {
        "id": "6VYtfXI_oLRe"
      },
      "execution_count": null,
      "outputs": []
    },
    {
      "cell_type": "markdown",
      "source": [
        "###Cross Validation - cross_validate"
      ],
      "metadata": {
        "id": "XG7_30D831Xo"
      }
    },
    {
      "cell_type": "code",
      "source": [
        "scores_xGBR = sklearn.model_selection.cross_validate(BestxGBR, X_train_scaled, y_train,\n",
        "                                                scoring=['r2','neg_mean_squared_error','neg_mean_absolute_error'], cv=10)\t\n",
        "\n",
        "scores_xGBR = pd.DataFrame(scores_xGBR)\n"
      ],
      "metadata": {
        "id": "XvynJtwODz3C"
      },
      "execution_count": null,
      "outputs": []
    },
    {
      "cell_type": "code",
      "source": [
        "scores_xGBR\n"
      ],
      "metadata": {
        "colab": {
          "base_uri": "https://localhost:8080/",
          "height": 363
        },
        "id": "1PR7__2G359F",
        "outputId": "3bd81563-9363-4e9d-a239-b50e03f129c3"
      },
      "execution_count": 31,
      "outputs": [
        {
          "output_type": "execute_result",
          "data": {
            "text/plain": [
              "   fit_time  score_time   test_r2  test_neg_mean_squared_error  \\\n",
              "0  1.996404    0.006486  0.909799                -3.551196e+08   \n",
              "1  1.860167    0.006003  0.922396                -4.288846e+08   \n",
              "2  2.077653    0.004476  0.944128                -5.329068e+08   \n",
              "3  1.110982    0.004051  0.914841                -6.587528e+08   \n",
              "4  1.113936    0.004464  0.901511                -6.871889e+08   \n",
              "5  1.112450    0.004331  0.859853                -7.114923e+08   \n",
              "6  1.131404    0.004153  0.929070                -4.452428e+08   \n",
              "7  1.116259    0.004171  0.940770                -4.551730e+08   \n",
              "8  1.114733    0.004162  0.917358                -4.500386e+08   \n",
              "9  1.109644    0.003959  0.933900                -3.640433e+08   \n",
              "\n",
              "   test_neg_mean_absolute_error  \n",
              "0                 -13448.479634  \n",
              "1                 -14558.452925  \n",
              "2                 -15647.922242  \n",
              "3                 -14917.951890  \n",
              "4                 -16760.718149  \n",
              "5                 -17244.951239  \n",
              "6                 -14811.527748  \n",
              "7                 -15957.207099  \n",
              "8                 -14452.819100  \n",
              "9                 -13566.745420  "
            ],
            "text/html": [
              "\n",
              "  <div id=\"df-a3f899c4-de63-4ba9-bb3e-6c0b9f2427d4\">\n",
              "    <div class=\"colab-df-container\">\n",
              "      <div>\n",
              "<style scoped>\n",
              "    .dataframe tbody tr th:only-of-type {\n",
              "        vertical-align: middle;\n",
              "    }\n",
              "\n",
              "    .dataframe tbody tr th {\n",
              "        vertical-align: top;\n",
              "    }\n",
              "\n",
              "    .dataframe thead th {\n",
              "        text-align: right;\n",
              "    }\n",
              "</style>\n",
              "<table border=\"1\" class=\"dataframe\">\n",
              "  <thead>\n",
              "    <tr style=\"text-align: right;\">\n",
              "      <th></th>\n",
              "      <th>fit_time</th>\n",
              "      <th>score_time</th>\n",
              "      <th>test_r2</th>\n",
              "      <th>test_neg_mean_squared_error</th>\n",
              "      <th>test_neg_mean_absolute_error</th>\n",
              "    </tr>\n",
              "  </thead>\n",
              "  <tbody>\n",
              "    <tr>\n",
              "      <th>0</th>\n",
              "      <td>1.996404</td>\n",
              "      <td>0.006486</td>\n",
              "      <td>0.909799</td>\n",
              "      <td>-3.551196e+08</td>\n",
              "      <td>-13448.479634</td>\n",
              "    </tr>\n",
              "    <tr>\n",
              "      <th>1</th>\n",
              "      <td>1.860167</td>\n",
              "      <td>0.006003</td>\n",
              "      <td>0.922396</td>\n",
              "      <td>-4.288846e+08</td>\n",
              "      <td>-14558.452925</td>\n",
              "    </tr>\n",
              "    <tr>\n",
              "      <th>2</th>\n",
              "      <td>2.077653</td>\n",
              "      <td>0.004476</td>\n",
              "      <td>0.944128</td>\n",
              "      <td>-5.329068e+08</td>\n",
              "      <td>-15647.922242</td>\n",
              "    </tr>\n",
              "    <tr>\n",
              "      <th>3</th>\n",
              "      <td>1.110982</td>\n",
              "      <td>0.004051</td>\n",
              "      <td>0.914841</td>\n",
              "      <td>-6.587528e+08</td>\n",
              "      <td>-14917.951890</td>\n",
              "    </tr>\n",
              "    <tr>\n",
              "      <th>4</th>\n",
              "      <td>1.113936</td>\n",
              "      <td>0.004464</td>\n",
              "      <td>0.901511</td>\n",
              "      <td>-6.871889e+08</td>\n",
              "      <td>-16760.718149</td>\n",
              "    </tr>\n",
              "    <tr>\n",
              "      <th>5</th>\n",
              "      <td>1.112450</td>\n",
              "      <td>0.004331</td>\n",
              "      <td>0.859853</td>\n",
              "      <td>-7.114923e+08</td>\n",
              "      <td>-17244.951239</td>\n",
              "    </tr>\n",
              "    <tr>\n",
              "      <th>6</th>\n",
              "      <td>1.131404</td>\n",
              "      <td>0.004153</td>\n",
              "      <td>0.929070</td>\n",
              "      <td>-4.452428e+08</td>\n",
              "      <td>-14811.527748</td>\n",
              "    </tr>\n",
              "    <tr>\n",
              "      <th>7</th>\n",
              "      <td>1.116259</td>\n",
              "      <td>0.004171</td>\n",
              "      <td>0.940770</td>\n",
              "      <td>-4.551730e+08</td>\n",
              "      <td>-15957.207099</td>\n",
              "    </tr>\n",
              "    <tr>\n",
              "      <th>8</th>\n",
              "      <td>1.114733</td>\n",
              "      <td>0.004162</td>\n",
              "      <td>0.917358</td>\n",
              "      <td>-4.500386e+08</td>\n",
              "      <td>-14452.819100</td>\n",
              "    </tr>\n",
              "    <tr>\n",
              "      <th>9</th>\n",
              "      <td>1.109644</td>\n",
              "      <td>0.003959</td>\n",
              "      <td>0.933900</td>\n",
              "      <td>-3.640433e+08</td>\n",
              "      <td>-13566.745420</td>\n",
              "    </tr>\n",
              "  </tbody>\n",
              "</table>\n",
              "</div>\n",
              "      <button class=\"colab-df-convert\" onclick=\"convertToInteractive('df-a3f899c4-de63-4ba9-bb3e-6c0b9f2427d4')\"\n",
              "              title=\"Convert this dataframe to an interactive table.\"\n",
              "              style=\"display:none;\">\n",
              "        \n",
              "  <svg xmlns=\"http://www.w3.org/2000/svg\" height=\"24px\"viewBox=\"0 0 24 24\"\n",
              "       width=\"24px\">\n",
              "    <path d=\"M0 0h24v24H0V0z\" fill=\"none\"/>\n",
              "    <path d=\"M18.56 5.44l.94 2.06.94-2.06 2.06-.94-2.06-.94-.94-2.06-.94 2.06-2.06.94zm-11 1L8.5 8.5l.94-2.06 2.06-.94-2.06-.94L8.5 2.5l-.94 2.06-2.06.94zm10 10l.94 2.06.94-2.06 2.06-.94-2.06-.94-.94-2.06-.94 2.06-2.06.94z\"/><path d=\"M17.41 7.96l-1.37-1.37c-.4-.4-.92-.59-1.43-.59-.52 0-1.04.2-1.43.59L10.3 9.45l-7.72 7.72c-.78.78-.78 2.05 0 2.83L4 21.41c.39.39.9.59 1.41.59.51 0 1.02-.2 1.41-.59l7.78-7.78 2.81-2.81c.8-.78.8-2.07 0-2.86zM5.41 20L4 18.59l7.72-7.72 1.47 1.35L5.41 20z\"/>\n",
              "  </svg>\n",
              "      </button>\n",
              "      \n",
              "  <style>\n",
              "    .colab-df-container {\n",
              "      display:flex;\n",
              "      flex-wrap:wrap;\n",
              "      gap: 12px;\n",
              "    }\n",
              "\n",
              "    .colab-df-convert {\n",
              "      background-color: #E8F0FE;\n",
              "      border: none;\n",
              "      border-radius: 50%;\n",
              "      cursor: pointer;\n",
              "      display: none;\n",
              "      fill: #1967D2;\n",
              "      height: 32px;\n",
              "      padding: 0 0 0 0;\n",
              "      width: 32px;\n",
              "    }\n",
              "\n",
              "    .colab-df-convert:hover {\n",
              "      background-color: #E2EBFA;\n",
              "      box-shadow: 0px 1px 2px rgba(60, 64, 67, 0.3), 0px 1px 3px 1px rgba(60, 64, 67, 0.15);\n",
              "      fill: #174EA6;\n",
              "    }\n",
              "\n",
              "    [theme=dark] .colab-df-convert {\n",
              "      background-color: #3B4455;\n",
              "      fill: #D2E3FC;\n",
              "    }\n",
              "\n",
              "    [theme=dark] .colab-df-convert:hover {\n",
              "      background-color: #434B5C;\n",
              "      box-shadow: 0px 1px 3px 1px rgba(0, 0, 0, 0.15);\n",
              "      filter: drop-shadow(0px 1px 2px rgba(0, 0, 0, 0.3));\n",
              "      fill: #FFFFFF;\n",
              "    }\n",
              "  </style>\n",
              "\n",
              "      <script>\n",
              "        const buttonEl =\n",
              "          document.querySelector('#df-a3f899c4-de63-4ba9-bb3e-6c0b9f2427d4 button.colab-df-convert');\n",
              "        buttonEl.style.display =\n",
              "          google.colab.kernel.accessAllowed ? 'block' : 'none';\n",
              "\n",
              "        async function convertToInteractive(key) {\n",
              "          const element = document.querySelector('#df-a3f899c4-de63-4ba9-bb3e-6c0b9f2427d4');\n",
              "          const dataTable =\n",
              "            await google.colab.kernel.invokeFunction('convertToInteractive',\n",
              "                                                     [key], {});\n",
              "          if (!dataTable) return;\n",
              "\n",
              "          const docLinkHtml = 'Like what you see? Visit the ' +\n",
              "            '<a target=\"_blank\" href=https://colab.research.google.com/notebooks/data_table.ipynb>data table notebook</a>'\n",
              "            + ' to learn more about interactive tables.';\n",
              "          element.innerHTML = '';\n",
              "          dataTable['output_type'] = 'display_data';\n",
              "          await google.colab.output.renderOutput(dataTable, element);\n",
              "          const docLink = document.createElement('div');\n",
              "          docLink.innerHTML = docLinkHtml;\n",
              "          element.appendChild(docLink);\n",
              "        }\n",
              "      </script>\n",
              "    </div>\n",
              "  </div>\n",
              "  "
            ]
          },
          "metadata": {},
          "execution_count": 31
        }
      ]
    },
    {
      "cell_type": "code",
      "source": [
        "scores_xGBR.describe().T\n"
      ],
      "metadata": {
        "colab": {
          "base_uri": "https://localhost:8080/",
          "height": 270
        },
        "id": "Bt9Qot6w35c_",
        "outputId": "5c9143d2-6dad-4f8e-e283-af1cc727c799"
      },
      "execution_count": 32,
      "outputs": [
        {
          "output_type": "execute_result",
          "data": {
            "text/plain": [
              "                              count          mean           std           min  \\\n",
              "fit_time                       10.0  1.374363e+00  4.198516e-01  1.109644e+00   \n",
              "score_time                     10.0  4.625559e-03  8.764742e-04  3.958941e-03   \n",
              "test_r2                        10.0  9.173627e-01  2.431804e-02  8.598533e-01   \n",
              "test_neg_mean_squared_error    10.0 -5.088843e+08  1.322038e+08 -7.114923e+08   \n",
              "test_neg_mean_absolute_error   10.0 -1.513668e+04  1.259949e+03 -1.724495e+04   \n",
              "\n",
              "                                       25%           50%           75%  \\\n",
              "fit_time                      1.112822e+00  1.115496e+00  1.677976e+00   \n",
              "score_time                    4.155278e-03  4.250884e-03  4.473031e-03   \n",
              "test_r2                       9.110596e-01  9.198773e-01  9.326925e-01   \n",
              "test_neg_mean_squared_error  -6.272913e+08 -4.526058e+08 -4.329742e+08   \n",
              "test_neg_mean_absolute_error -1.587989e+04 -1.486474e+04 -1.447923e+04   \n",
              "\n",
              "                                       max  \n",
              "fit_time                      2.077653e+00  \n",
              "score_time                    6.486177e-03  \n",
              "test_r2                       9.441279e-01  \n",
              "test_neg_mean_squared_error  -3.551196e+08  \n",
              "test_neg_mean_absolute_error -1.344848e+04  "
            ],
            "text/html": [
              "\n",
              "  <div id=\"df-c35a27a4-6802-4999-bd87-c622bca5f641\">\n",
              "    <div class=\"colab-df-container\">\n",
              "      <div>\n",
              "<style scoped>\n",
              "    .dataframe tbody tr th:only-of-type {\n",
              "        vertical-align: middle;\n",
              "    }\n",
              "\n",
              "    .dataframe tbody tr th {\n",
              "        vertical-align: top;\n",
              "    }\n",
              "\n",
              "    .dataframe thead th {\n",
              "        text-align: right;\n",
              "    }\n",
              "</style>\n",
              "<table border=\"1\" class=\"dataframe\">\n",
              "  <thead>\n",
              "    <tr style=\"text-align: right;\">\n",
              "      <th></th>\n",
              "      <th>count</th>\n",
              "      <th>mean</th>\n",
              "      <th>std</th>\n",
              "      <th>min</th>\n",
              "      <th>25%</th>\n",
              "      <th>50%</th>\n",
              "      <th>75%</th>\n",
              "      <th>max</th>\n",
              "    </tr>\n",
              "  </thead>\n",
              "  <tbody>\n",
              "    <tr>\n",
              "      <th>fit_time</th>\n",
              "      <td>10.0</td>\n",
              "      <td>1.374363e+00</td>\n",
              "      <td>4.198516e-01</td>\n",
              "      <td>1.109644e+00</td>\n",
              "      <td>1.112822e+00</td>\n",
              "      <td>1.115496e+00</td>\n",
              "      <td>1.677976e+00</td>\n",
              "      <td>2.077653e+00</td>\n",
              "    </tr>\n",
              "    <tr>\n",
              "      <th>score_time</th>\n",
              "      <td>10.0</td>\n",
              "      <td>4.625559e-03</td>\n",
              "      <td>8.764742e-04</td>\n",
              "      <td>3.958941e-03</td>\n",
              "      <td>4.155278e-03</td>\n",
              "      <td>4.250884e-03</td>\n",
              "      <td>4.473031e-03</td>\n",
              "      <td>6.486177e-03</td>\n",
              "    </tr>\n",
              "    <tr>\n",
              "      <th>test_r2</th>\n",
              "      <td>10.0</td>\n",
              "      <td>9.173627e-01</td>\n",
              "      <td>2.431804e-02</td>\n",
              "      <td>8.598533e-01</td>\n",
              "      <td>9.110596e-01</td>\n",
              "      <td>9.198773e-01</td>\n",
              "      <td>9.326925e-01</td>\n",
              "      <td>9.441279e-01</td>\n",
              "    </tr>\n",
              "    <tr>\n",
              "      <th>test_neg_mean_squared_error</th>\n",
              "      <td>10.0</td>\n",
              "      <td>-5.088843e+08</td>\n",
              "      <td>1.322038e+08</td>\n",
              "      <td>-7.114923e+08</td>\n",
              "      <td>-6.272913e+08</td>\n",
              "      <td>-4.526058e+08</td>\n",
              "      <td>-4.329742e+08</td>\n",
              "      <td>-3.551196e+08</td>\n",
              "    </tr>\n",
              "    <tr>\n",
              "      <th>test_neg_mean_absolute_error</th>\n",
              "      <td>10.0</td>\n",
              "      <td>-1.513668e+04</td>\n",
              "      <td>1.259949e+03</td>\n",
              "      <td>-1.724495e+04</td>\n",
              "      <td>-1.587989e+04</td>\n",
              "      <td>-1.486474e+04</td>\n",
              "      <td>-1.447923e+04</td>\n",
              "      <td>-1.344848e+04</td>\n",
              "    </tr>\n",
              "  </tbody>\n",
              "</table>\n",
              "</div>\n",
              "      <button class=\"colab-df-convert\" onclick=\"convertToInteractive('df-c35a27a4-6802-4999-bd87-c622bca5f641')\"\n",
              "              title=\"Convert this dataframe to an interactive table.\"\n",
              "              style=\"display:none;\">\n",
              "        \n",
              "  <svg xmlns=\"http://www.w3.org/2000/svg\" height=\"24px\"viewBox=\"0 0 24 24\"\n",
              "       width=\"24px\">\n",
              "    <path d=\"M0 0h24v24H0V0z\" fill=\"none\"/>\n",
              "    <path d=\"M18.56 5.44l.94 2.06.94-2.06 2.06-.94-2.06-.94-.94-2.06-.94 2.06-2.06.94zm-11 1L8.5 8.5l.94-2.06 2.06-.94-2.06-.94L8.5 2.5l-.94 2.06-2.06.94zm10 10l.94 2.06.94-2.06 2.06-.94-2.06-.94-.94-2.06-.94 2.06-2.06.94z\"/><path d=\"M17.41 7.96l-1.37-1.37c-.4-.4-.92-.59-1.43-.59-.52 0-1.04.2-1.43.59L10.3 9.45l-7.72 7.72c-.78.78-.78 2.05 0 2.83L4 21.41c.39.39.9.59 1.41.59.51 0 1.02-.2 1.41-.59l7.78-7.78 2.81-2.81c.8-.78.8-2.07 0-2.86zM5.41 20L4 18.59l7.72-7.72 1.47 1.35L5.41 20z\"/>\n",
              "  </svg>\n",
              "      </button>\n",
              "      \n",
              "  <style>\n",
              "    .colab-df-container {\n",
              "      display:flex;\n",
              "      flex-wrap:wrap;\n",
              "      gap: 12px;\n",
              "    }\n",
              "\n",
              "    .colab-df-convert {\n",
              "      background-color: #E8F0FE;\n",
              "      border: none;\n",
              "      border-radius: 50%;\n",
              "      cursor: pointer;\n",
              "      display: none;\n",
              "      fill: #1967D2;\n",
              "      height: 32px;\n",
              "      padding: 0 0 0 0;\n",
              "      width: 32px;\n",
              "    }\n",
              "\n",
              "    .colab-df-convert:hover {\n",
              "      background-color: #E2EBFA;\n",
              "      box-shadow: 0px 1px 2px rgba(60, 64, 67, 0.3), 0px 1px 3px 1px rgba(60, 64, 67, 0.15);\n",
              "      fill: #174EA6;\n",
              "    }\n",
              "\n",
              "    [theme=dark] .colab-df-convert {\n",
              "      background-color: #3B4455;\n",
              "      fill: #D2E3FC;\n",
              "    }\n",
              "\n",
              "    [theme=dark] .colab-df-convert:hover {\n",
              "      background-color: #434B5C;\n",
              "      box-shadow: 0px 1px 3px 1px rgba(0, 0, 0, 0.15);\n",
              "      filter: drop-shadow(0px 1px 2px rgba(0, 0, 0, 0.3));\n",
              "      fill: #FFFFFF;\n",
              "    }\n",
              "  </style>\n",
              "\n",
              "      <script>\n",
              "        const buttonEl =\n",
              "          document.querySelector('#df-c35a27a4-6802-4999-bd87-c622bca5f641 button.colab-df-convert');\n",
              "        buttonEl.style.display =\n",
              "          google.colab.kernel.accessAllowed ? 'block' : 'none';\n",
              "\n",
              "        async function convertToInteractive(key) {\n",
              "          const element = document.querySelector('#df-c35a27a4-6802-4999-bd87-c622bca5f641');\n",
              "          const dataTable =\n",
              "            await google.colab.kernel.invokeFunction('convertToInteractive',\n",
              "                                                     [key], {});\n",
              "          if (!dataTable) return;\n",
              "\n",
              "          const docLinkHtml = 'Like what you see? Visit the ' +\n",
              "            '<a target=\"_blank\" href=https://colab.research.google.com/notebooks/data_table.ipynb>data table notebook</a>'\n",
              "            + ' to learn more about interactive tables.';\n",
              "          element.innerHTML = '';\n",
              "          dataTable['output_type'] = 'display_data';\n",
              "          await google.colab.output.renderOutput(dataTable, element);\n",
              "          const docLink = document.createElement('div');\n",
              "          docLink.innerHTML = docLinkHtml;\n",
              "          element.appendChild(docLink);\n",
              "        }\n",
              "      </script>\n",
              "    </div>\n",
              "  </div>\n",
              "  "
            ]
          },
          "metadata": {},
          "execution_count": 32
        }
      ]
    },
    {
      "cell_type": "markdown",
      "source": [
        "##Model predictions"
      ],
      "metadata": {
        "id": "J-X4QKsl4wpP"
      }
    },
    {
      "cell_type": "markdown",
      "source": [
        "###Cross Validation - Train Test Split"
      ],
      "metadata": {
        "id": "ibozRSt14QYG"
      }
    },
    {
      "cell_type": "code",
      "source": [
        "BestxGBR_rmse_val = mean_squared_error(y_validate, BestxGBR.predict(X_validate_scaled))\n",
        "print(f\"xGBR RMSE_VAL:{BestxGBR_rmse_val:.3f}\")\n",
        "BestxGBR_mabser_val = mean_absolute_error(y_validate, BestxGBR.predict(X_validate_scaled))\n",
        "print(f\"xGBR RMSE_VAL:{BestxGBR_mabser_val:.3f}\")\n",
        "Best_xGBR_r2_val = metrics.r2_score(y_validate, BestxGBR.predict(X_validate_scaled))\n",
        "print(f\"xGBR R2_VAL:{Best_xGBR_r2_val:.3f}\")\n"
      ],
      "metadata": {
        "colab": {
          "base_uri": "https://localhost:8080/"
        },
        "id": "-9F-3zpo4Q2P",
        "outputId": "fcad2182-4d37-4b4b-c810-9e3a783468b0"
      },
      "execution_count": 24,
      "outputs": [
        {
          "output_type": "stream",
          "name": "stdout",
          "text": [
            "xGBR RMSE_VAL:563152952.202\n",
            "xGBR RMSE_VAL:15902.238\n",
            "xGBR R2_VAL:0.906\n"
          ]
        }
      ]
    },
    {
      "cell_type": "code",
      "source": [
        "plt.figure(figsize=(12,6))\n",
        "predictions = BestxGBR.fit(X_train_scaled, y_train).predict(X_validate_scaled)\n",
        "plt.scatter(y_validate, predictions)\n",
        "plt.xlabel('True Values')\n",
        "plt.ylabel('xGBR Predictions')\n",
        "plt.plot(y_validate, y_validate, 'r')\n"
      ],
      "metadata": {
        "id": "B9HYcsijxW8g",
        "colab": {
          "base_uri": "https://localhost:8080/",
          "height": 424
        },
        "outputId": "4a446e54-515f-4ae0-83ad-e7dca9d5f16b"
      },
      "execution_count": 25,
      "outputs": [
        {
          "output_type": "stream",
          "name": "stdout",
          "text": [
            "[15:55:45] WARNING: /workspace/src/objective/regression_obj.cu:152: reg:linear is now deprecated in favor of reg:squarederror.\n"
          ]
        },
        {
          "output_type": "execute_result",
          "data": {
            "text/plain": [
              "[<matplotlib.lines.Line2D at 0x7f0f9b93d490>]"
            ]
          },
          "metadata": {},
          "execution_count": 25
        },
        {
          "output_type": "display_data",
          "data": {
            "text/plain": [
              "<Figure size 864x432 with 1 Axes>"
            ],
            "image/png": "[encoded data removed]"
          },
          "metadata": {
            "needs_background": "light"
          }
        }
      ]
    },
    {
      "cell_type": "markdown",
      "source": [
        "##Importance of the features"
      ],
      "metadata": {
        "id": "cEFKQNfW1Mw9"
      }
    },
    {
      "cell_type": "code",
      "source": [
        "feature_import = BestxGBR.feature_importances_\n",
        "imp_feat = pd.DataFrame(index=X_train.columns,\n",
        "                        data=feature_import,\n",
        "                        columns=['Importance'])\n",
        "imp_feat = imp_feat[imp_feat['Importance'] > 0.01]\n",
        "imp_feat = imp_feat.sort_values('Importance')\n",
        "plt.figure(figsize=(12,8))\n",
        "sns.barplot(data=imp_feat,\n",
        "            x=imp_feat.index,\n",
        "            y='Importance')\n",
        "plt.xticks(rotation=90)\n"
      ],
      "metadata": {
        "colab": {
          "base_uri": "https://localhost:8080/",
          "height": 606
        },
        "id": "SKFzaVU_0yM7",
        "outputId": "c889b101-05d6-4c39-a77c-96f8d52cb695"
      },
      "execution_count": 26,
      "outputs": [
        {
          "output_type": "execute_result",
          "data": {
            "text/plain": [
              "(array([ 0,  1,  2,  3,  4,  5,  6,  7,  8,  9, 10, 11, 12, 13, 14]),\n",
              " <a list of 15 Text major ticklabel objects>)"
            ]
          },
          "metadata": {},
          "execution_count": 26
        },
        {
          "output_type": "display_data",
          "data": {
            "text/plain": [
              "<Figure size 864x576 with 1 Axes>"
            ],
            "image/png": "[encoded data removed]"
          },
          "metadata": {
            "needs_background": "light"
          }
        }
      ]
    },
    {
      "cell_type": "markdown",
      "source": [
        "#Conclusion"
      ],
      "metadata": {
        "id": "3-z9-K5E1Prh"
      }
    },
    {
      "cell_type": "markdown",
      "source": [
        "xGBR gave better results then the GBR model.\n",
        "Both gradient boosting regressors are giving good fit to this model and are explaining about the 90% of the variance of the data."
      ],
      "metadata": {
        "id": "Jlx30Fbv1XOx"
      }
    }
  ]
}