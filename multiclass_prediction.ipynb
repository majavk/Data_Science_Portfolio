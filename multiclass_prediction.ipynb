{
  "nbformat": 4,
  "nbformat_minor": 0,
  "metadata": {
    "colab": {
      "name": "multiclass_prediction.ipynb",
      "provenance": [],
      "collapsed_sections": [],
      "toc_visible": true,
      "include_colab_link": true
    },
    "kernelspec": {
      "name": "python3",
      "display_name": "Python 3"
    },
    "language_info": {
      "name": "python"
    }
  },
  "cells": [
    {
      "cell_type": "markdown",
      "metadata": {
        "id": "view-in-github",
        "colab_type": "text"
      },
      "source": [
        "<a href=\"https://colab.research.google.com/github/majavk/Data_Science_Portfolio/blob/main/multiclass_prediction.ipynb\" target=\"_parent\"><img src=\"https://colab.research.google.com/assets/colab-badge.svg\" alt=\"Open In Colab\"/></a>"
      ]
    },
    {
      "cell_type": "markdown",
      "source": [
        "# Predicting Wine Quality Based on Multiclass Classification\n",
        "\n",
        "The Wine Quality dataset is available on the https://www.kaggle.com/datasets.\n",
        "The Wine Quality dataset is imbalanced multiclass dataset.\n",
        "The dataset describes the problem of classification of the quality of wine using several parameters, chemical properties of the wine:\n",
        "\n",
        "\n",
        "1. fixed acidity \n",
        "2. volatile acidity \n",
        "3. citric acid \n",
        "4. residual sugar \n",
        "5. chlorides \n",
        "6. sulfur dioxide \n",
        "7. total sulfur dioxide \n",
        "8. density \n",
        "9. pH \n",
        "10. sulphates \n",
        "11. alcohol \n",
        "\n",
        "There are 6 classes in the dataset.\n",
        "The distribution of classes across the examples is imbalanced.\n",
        "The class '5' has 42.26% of examples while the class '3' has only 0.52% of total examples.\n",
        "\n"
      ],
      "metadata": {
        "id": "9f5YYHVG9n67"
      }
    },
    {
      "cell_type": "code",
      "execution_count": 1,
      "metadata": {
        "id": "AVvZq-zT9L5x"
      },
      "outputs": [],
      "source": [
        "#import collections\n",
        "from collections import Counter\n",
        "import matplotlib.pyplot as plt\n",
        "import missingno as msno\n",
        "import numpy as np\n",
        "import pandas as pd \n",
        "from scipy.stats import f_oneway, kurtosis\n",
        "#from scipy.stats import kurtosis\n",
        "import seaborn as sns\n",
        "from sklearn.ensemble import BaggingClassifier\n",
        "from sklearn import metrics\n",
        "from sklearn.preprocessing import PowerTransformer\n",
        "from sklearn import preprocessing\n",
        "from sklearn.ensemble import RandomForestClassifier\n",
        "from sklearn.ensemble import ExtraTreesClassifier\n",
        "from sklearn.discriminant_analysis import LinearDiscriminantAnalysis\n",
        "from sklearn.dummy import DummyClassifier\n",
        "from sklearn.gaussian_process import GaussianProcessClassifier\n",
        "from sklearn.linear_model import LogisticRegression\n",
        "from sklearn.metrics import accuracy_score\n",
        "from sklearn.metrics import classification_report\n",
        "from sklearn.metrics import confusion_matrix, ConfusionMatrixDisplay\n",
        "from sklearn.model_selection import cross_val_score\n",
        "from sklearn.model_selection import RepeatedStratifiedKFold\n",
        "from sklearn.model_selection import train_test_split\n",
        "from sklearn.multiclass import OneVsRestClassifier\n",
        "from sklearn.neighbors import KNeighborsClassifier\n",
        "from sklearn.svm import LinearSVC, SVC\n"
      ]
    },
    {
      "cell_type": "code",
      "source": [
        "%matplotlib inline"
      ],
      "metadata": {
        "id": "-pFDQblVx6Gl"
      },
      "execution_count": 2,
      "outputs": []
    },
    {
      "cell_type": "markdown",
      "source": [
        "#Dataset"
      ],
      "metadata": {
        "id": "2h67XIAL9fht"
      }
    },
    {
      "cell_type": "code",
      "source": [
        "from google.colab import drive\n",
        "drive.mount('/content/drive')\n"
      ],
      "metadata": {
        "id": "t9mNZeAv_ebt",
        "colab": {
          "base_uri": "https://localhost:8080/"
        },
        "outputId": "3e3b12de-64d3-46e2-975c-df47f5c0d3b1"
      },
      "execution_count": 3,
      "outputs": [
        {
          "output_type": "stream",
          "name": "stdout",
          "text": [
            "Mounted at /content/drive\n"
          ]
        }
      ]
    },
    {
      "cell_type": "code",
      "source": [
        "path = '../DATA'\n",
        "raw_data = pd.read_csv(path + 'WineQT.csv')\n"
      ],
      "metadata": {
        "id": "p7yNwdPDBe1y"
      },
      "execution_count": 4,
      "outputs": []
    },
    {
      "cell_type": "code",
      "source": [
        "df = raw_data.copy()"
      ],
      "metadata": {
        "id": "ePH7dT6wBov-"
      },
      "execution_count": 5,
      "outputs": []
    },
    {
      "cell_type": "markdown",
      "source": [
        "#Exploratory Data Analyis"
      ],
      "metadata": {
        "id": "r9flEJCR7DsU"
      }
    },
    {
      "cell_type": "markdown",
      "source": [
        "There are 13 columns in the dataset. \n",
        "\n",
        "The 'Id' column doesn't contain any useful information for modelling so it will be dropped. \n",
        "\n",
        "All the input variables are numerical types. \n",
        "\n",
        "The 'quality' column is the target column and even though it is numerical still it will be label encoded to shift classes from the range (3, 8) to (0, 5).\n",
        "\n",
        "\n",
        "There are no missing values since there are 1143 elements in each column.\n",
        "There are no duplicated rows."
      ],
      "metadata": {
        "id": "tKRGD9N0U-4o"
      }
    },
    {
      "cell_type": "code",
      "source": [
        "df.info()\n"
      ],
      "metadata": {
        "colab": {
          "base_uri": "https://localhost:8080/"
        },
        "id": "IXaPoHtZB5oR",
        "outputId": "0044e1c3-693c-45cd-8749-d7ecb47fc8ce"
      },
      "execution_count": 6,
      "outputs": [
        {
          "output_type": "stream",
          "name": "stdout",
          "text": [
            "<class 'pandas.core.frame.DataFrame'>\n",
            "RangeIndex: 1143 entries, 0 to 1142\n",
            "Data columns (total 13 columns):\n",
            " #   Column                Non-Null Count  Dtype  \n",
            "---  ------                --------------  -----  \n",
            " 0   fixed acidity         1143 non-null   float64\n",
            " 1   volatile acidity      1143 non-null   float64\n",
            " 2   citric acid           1143 non-null   float64\n",
            " 3   residual sugar        1143 non-null   float64\n",
            " 4   chlorides             1143 non-null   float64\n",
            " 5   free sulfur dioxide   1143 non-null   float64\n",
            " 6   total sulfur dioxide  1143 non-null   float64\n",
            " 7   density               1143 non-null   float64\n",
            " 8   pH                    1143 non-null   float64\n",
            " 9   sulphates             1143 non-null   float64\n",
            " 10  alcohol               1143 non-null   float64\n",
            " 11  quality               1143 non-null   int64  \n",
            " 12  Id                    1143 non-null   int64  \n",
            "dtypes: float64(11), int64(2)\n",
            "memory usage: 116.2 KB\n"
          ]
        }
      ]
    },
    {
      "cell_type": "code",
      "source": [
        "df.describe()\n"
      ],
      "metadata": {
        "colab": {
          "base_uri": "https://localhost:8080/",
          "height": 399
        },
        "id": "M4QBbp7uCFwc",
        "outputId": "6363e990-67f3-4b98-dd0b-0495d0c41000"
      },
      "execution_count": 7,
      "outputs": [
        {
          "output_type": "execute_result",
          "data": {
            "text/plain": [
              "       fixed acidity  volatile acidity  citric acid  residual sugar  \\\n",
              "count    1143.000000       1143.000000  1143.000000     1143.000000   \n",
              "mean        8.311111          0.531339     0.268364        2.532152   \n",
              "std         1.747595          0.179633     0.196686        1.355917   \n",
              "min         4.600000          0.120000     0.000000        0.900000   \n",
              "25%         7.100000          0.392500     0.090000        1.900000   \n",
              "50%         7.900000          0.520000     0.250000        2.200000   \n",
              "75%         9.100000          0.640000     0.420000        2.600000   \n",
              "max        15.900000          1.580000     1.000000       15.500000   \n",
              "\n",
              "         chlorides  free sulfur dioxide  total sulfur dioxide      density  \\\n",
              "count  1143.000000          1143.000000           1143.000000  1143.000000   \n",
              "mean      0.086933            15.615486             45.914698     0.996730   \n",
              "std       0.047267            10.250486             32.782130     0.001925   \n",
              "min       0.012000             1.000000              6.000000     0.990070   \n",
              "25%       0.070000             7.000000             21.000000     0.995570   \n",
              "50%       0.079000            13.000000             37.000000     0.996680   \n",
              "75%       0.090000            21.000000             61.000000     0.997845   \n",
              "max       0.611000            68.000000            289.000000     1.003690   \n",
              "\n",
              "                pH    sulphates      alcohol      quality           Id  \n",
              "count  1143.000000  1143.000000  1143.000000  1143.000000  1143.000000  \n",
              "mean      3.311015     0.657708    10.442111     5.657043   804.969379  \n",
              "std       0.156664     0.170399     1.082196     0.805824   463.997116  \n",
              "min       2.740000     0.330000     8.400000     3.000000     0.000000  \n",
              "25%       3.205000     0.550000     9.500000     5.000000   411.000000  \n",
              "50%       3.310000     0.620000    10.200000     6.000000   794.000000  \n",
              "75%       3.400000     0.730000    11.100000     6.000000  1209.500000  \n",
              "max       4.010000     2.000000    14.900000     8.000000  1597.000000  "
            ],
            "text/html": [
              "\n",
              "  <div id=\"df-36832b8d-a3f9-464d-ae35-c3edfd354dcc\">\n",
              "    <div class=\"colab-df-container\">\n",
              "      <div>\n",
              "<style scoped>\n",
              "    .dataframe tbody tr th:only-of-type {\n",
              "        vertical-align: middle;\n",
              "    }\n",
              "\n",
              "    .dataframe tbody tr th {\n",
              "        vertical-align: top;\n",
              "    }\n",
              "\n",
              "    .dataframe thead th {\n",
              "        text-align: right;\n",
              "    }\n",
              "</style>\n",
              "<table border=\"1\" class=\"dataframe\">\n",
              "  <thead>\n",
              "    <tr style=\"text-align: right;\">\n",
              "      <th></th>\n",
              "      <th>fixed acidity</th>\n",
              "      <th>volatile acidity</th>\n",
              "      <th>citric acid</th>\n",
              "      <th>residual sugar</th>\n",
              "      <th>chlorides</th>\n",
              "      <th>free sulfur dioxide</th>\n",
              "      <th>total sulfur dioxide</th>\n",
              "      <th>density</th>\n",
              "      <th>pH</th>\n",
              "      <th>sulphates</th>\n",
              "      <th>alcohol</th>\n",
              "      <th>quality</th>\n",
              "      <th>Id</th>\n",
              "    </tr>\n",
              "  </thead>\n",
              "  <tbody>\n",
              "    <tr>\n",
              "      <th>count</th>\n",
              "      <td>1143.000000</td>\n",
              "      <td>1143.000000</td>\n",
              "      <td>1143.000000</td>\n",
              "      <td>1143.000000</td>\n",
              "      <td>1143.000000</td>\n",
              "      <td>1143.000000</td>\n",
              "      <td>1143.000000</td>\n",
              "      <td>1143.000000</td>\n",
              "      <td>1143.000000</td>\n",
              "      <td>1143.000000</td>\n",
              "      <td>1143.000000</td>\n",
              "      <td>1143.000000</td>\n",
              "      <td>1143.000000</td>\n",
              "    </tr>\n",
              "    <tr>\n",
              "      <th>mean</th>\n",
              "      <td>8.311111</td>\n",
              "      <td>0.531339</td>\n",
              "      <td>0.268364</td>\n",
              "      <td>2.532152</td>\n",
              "      <td>0.086933</td>\n",
              "      <td>15.615486</td>\n",
              "      <td>45.914698</td>\n",
              "      <td>0.996730</td>\n",
              "      <td>3.311015</td>\n",
              "      <td>0.657708</td>\n",
              "      <td>10.442111</td>\n",
              "      <td>5.657043</td>\n",
              "      <td>804.969379</td>\n",
              "    </tr>\n",
              "    <tr>\n",
              "      <th>std</th>\n",
              "      <td>1.747595</td>\n",
              "      <td>0.179633</td>\n",
              "      <td>0.196686</td>\n",
              "      <td>1.355917</td>\n",
              "      <td>0.047267</td>\n",
              "      <td>10.250486</td>\n",
              "      <td>32.782130</td>\n",
              "      <td>0.001925</td>\n",
              "      <td>0.156664</td>\n",
              "      <td>0.170399</td>\n",
              "      <td>1.082196</td>\n",
              "      <td>0.805824</td>\n",
              "      <td>463.997116</td>\n",
              "    </tr>\n",
              "    <tr>\n",
              "      <th>min</th>\n",
              "      <td>4.600000</td>\n",
              "      <td>0.120000</td>\n",
              "      <td>0.000000</td>\n",
              "      <td>0.900000</td>\n",
              "      <td>0.012000</td>\n",
              "      <td>1.000000</td>\n",
              "      <td>6.000000</td>\n",
              "      <td>0.990070</td>\n",
              "      <td>2.740000</td>\n",
              "      <td>0.330000</td>\n",
              "      <td>8.400000</td>\n",
              "      <td>3.000000</td>\n",
              "      <td>0.000000</td>\n",
              "    </tr>\n",
              "    <tr>\n",
              "      <th>25%</th>\n",
              "      <td>7.100000</td>\n",
              "      <td>0.392500</td>\n",
              "      <td>0.090000</td>\n",
              "      <td>1.900000</td>\n",
              "      <td>0.070000</td>\n",
              "      <td>7.000000</td>\n",
              "      <td>21.000000</td>\n",
              "      <td>0.995570</td>\n",
              "      <td>3.205000</td>\n",
              "      <td>0.550000</td>\n",
              "      <td>9.500000</td>\n",
              "      <td>5.000000</td>\n",
              "      <td>411.000000</td>\n",
              "    </tr>\n",
              "    <tr>\n",
              "      <th>50%</th>\n",
              "      <td>7.900000</td>\n",
              "      <td>0.520000</td>\n",
              "      <td>0.250000</td>\n",
              "      <td>2.200000</td>\n",
              "      <td>0.079000</td>\n",
              "      <td>13.000000</td>\n",
              "      <td>37.000000</td>\n",
              "      <td>0.996680</td>\n",
              "      <td>3.310000</td>\n",
              "      <td>0.620000</td>\n",
              "      <td>10.200000</td>\n",
              "      <td>6.000000</td>\n",
              "      <td>794.000000</td>\n",
              "    </tr>\n",
              "    <tr>\n",
              "      <th>75%</th>\n",
              "      <td>9.100000</td>\n",
              "      <td>0.640000</td>\n",
              "      <td>0.420000</td>\n",
              "      <td>2.600000</td>\n",
              "      <td>0.090000</td>\n",
              "      <td>21.000000</td>\n",
              "      <td>61.000000</td>\n",
              "      <td>0.997845</td>\n",
              "      <td>3.400000</td>\n",
              "      <td>0.730000</td>\n",
              "      <td>11.100000</td>\n",
              "      <td>6.000000</td>\n",
              "      <td>1209.500000</td>\n",
              "    </tr>\n",
              "    <tr>\n",
              "      <th>max</th>\n",
              "      <td>15.900000</td>\n",
              "      <td>1.580000</td>\n",
              "      <td>1.000000</td>\n",
              "      <td>15.500000</td>\n",
              "      <td>0.611000</td>\n",
              "      <td>68.000000</td>\n",
              "      <td>289.000000</td>\n",
              "      <td>1.003690</td>\n",
              "      <td>4.010000</td>\n",
              "      <td>2.000000</td>\n",
              "      <td>14.900000</td>\n",
              "      <td>8.000000</td>\n",
              "      <td>1597.000000</td>\n",
              "    </tr>\n",
              "  </tbody>\n",
              "</table>\n",
              "</div>\n",
              "      <button class=\"colab-df-convert\" onclick=\"convertToInteractive('df-36832b8d-a3f9-464d-ae35-c3edfd354dcc')\"\n",
              "              title=\"Convert this dataframe to an interactive table.\"\n",
              "              style=\"display:none;\">\n",
              "        \n",
              "  <svg xmlns=\"http://www.w3.org/2000/svg\" height=\"24px\"viewBox=\"0 0 24 24\"\n",
              "       width=\"24px\">\n",
              "    <path d=\"M0 0h24v24H0V0z\" fill=\"none\"/>\n",
              "    <path d=\"M18.56 5.44l.94 2.06.94-2.06 2.06-.94-2.06-.94-.94-2.06-.94 2.06-2.06.94zm-11 1L8.5 8.5l.94-2.06 2.06-.94-2.06-.94L8.5 2.5l-.94 2.06-2.06.94zm10 10l.94 2.06.94-2.06 2.06-.94-2.06-.94-.94-2.06-.94 2.06-2.06.94z\"/><path d=\"M17.41 7.96l-1.37-1.37c-.4-.4-.92-.59-1.43-.59-.52 0-1.04.2-1.43.59L10.3 9.45l-7.72 7.72c-.78.78-.78 2.05 0 2.83L4 21.41c.39.39.9.59 1.41.59.51 0 1.02-.2 1.41-.59l7.78-7.78 2.81-2.81c.8-.78.8-2.07 0-2.86zM5.41 20L4 18.59l7.72-7.72 1.47 1.35L5.41 20z\"/>\n",
              "  </svg>\n",
              "      </button>\n",
              "      \n",
              "  <style>\n",
              "    .colab-df-container {\n",
              "      display:flex;\n",
              "      flex-wrap:wrap;\n",
              "      gap: 12px;\n",
              "    }\n",
              "\n",
              "    .colab-df-convert {\n",
              "      background-color: #E8F0FE;\n",
              "      border: none;\n",
              "      border-radius: 50%;\n",
              "      cursor: pointer;\n",
              "      display: none;\n",
              "      fill: #1967D2;\n",
              "      height: 32px;\n",
              "      padding: 0 0 0 0;\n",
              "      width: 32px;\n",
              "    }\n",
              "\n",
              "    .colab-df-convert:hover {\n",
              "      background-color: #E2EBFA;\n",
              "      box-shadow: 0px 1px 2px rgba(60, 64, 67, 0.3), 0px 1px 3px 1px rgba(60, 64, 67, 0.15);\n",
              "      fill: #174EA6;\n",
              "    }\n",
              "\n",
              "    [theme=dark] .colab-df-convert {\n",
              "      background-color: #3B4455;\n",
              "      fill: #D2E3FC;\n",
              "    }\n",
              "\n",
              "    [theme=dark] .colab-df-convert:hover {\n",
              "      background-color: #434B5C;\n",
              "      box-shadow: 0px 1px 3px 1px rgba(0, 0, 0, 0.15);\n",
              "      filter: drop-shadow(0px 1px 2px rgba(0, 0, 0, 0.3));\n",
              "      fill: #FFFFFF;\n",
              "    }\n",
              "  </style>\n",
              "\n",
              "      <script>\n",
              "        const buttonEl =\n",
              "          document.querySelector('#df-36832b8d-a3f9-464d-ae35-c3edfd354dcc button.colab-df-convert');\n",
              "        buttonEl.style.display =\n",
              "          google.colab.kernel.accessAllowed ? 'block' : 'none';\n",
              "\n",
              "        async function convertToInteractive(key) {\n",
              "          const element = document.querySelector('#df-36832b8d-a3f9-464d-ae35-c3edfd354dcc');\n",
              "          const dataTable =\n",
              "            await google.colab.kernel.invokeFunction('convertToInteractive',\n",
              "                                                     [key], {});\n",
              "          if (!dataTable) return;\n",
              "\n",
              "          const docLinkHtml = 'Like what you see? Visit the ' +\n",
              "            '<a target=\"_blank\" href=https://colab.research.google.com/notebooks/data_table.ipynb>data table notebook</a>'\n",
              "            + ' to learn more about interactive tables.';\n",
              "          element.innerHTML = '';\n",
              "          dataTable['output_type'] = 'display_data';\n",
              "          await google.colab.output.renderOutput(dataTable, element);\n",
              "          const docLink = document.createElement('div');\n",
              "          docLink.innerHTML = docLinkHtml;\n",
              "          element.appendChild(docLink);\n",
              "        }\n",
              "      </script>\n",
              "    </div>\n",
              "  </div>\n",
              "  "
            ]
          },
          "metadata": {},
          "execution_count": 7
        }
      ]
    },
    {
      "cell_type": "code",
      "source": [
        "df.shape\n"
      ],
      "metadata": {
        "colab": {
          "base_uri": "https://localhost:8080/"
        },
        "id": "wjpKR_CgCJF-",
        "outputId": "5175e340-499c-487c-e521-74ed4c0bcf75"
      },
      "execution_count": 8,
      "outputs": [
        {
          "output_type": "execute_result",
          "data": {
            "text/plain": [
              "(1143, 13)"
            ]
          },
          "metadata": {},
          "execution_count": 8
        }
      ]
    },
    {
      "cell_type": "code",
      "source": [
        "msno.bar(df, color='Dodgerblue')\n",
        "plt.show()\n"
      ],
      "metadata": {
        "colab": {
          "base_uri": "https://localhost:8080/",
          "height": 434
        },
        "id": "pVLfrR_J8w6S",
        "outputId": "0128c35e-f9b8-4292-d152-1d7a94077437"
      },
      "execution_count": 9,
      "outputs": [
        {
          "output_type": "display_data",
          "data": {
            "text/plain": [
              "<Figure size 1800x720 with 3 Axes>"
            ],
            "image/png": "[encoded data removed]"
          },
          "metadata": {
            "needs_background": "light"
          }
        }
      ]
    },
    {
      "cell_type": "code",
      "source": [
        "df.duplicated()\n"
      ],
      "metadata": {
        "colab": {
          "base_uri": "https://localhost:8080/"
        },
        "id": "1vqsaH4bqYwu",
        "outputId": "99f80054-90bb-42ed-f6ad-78d949ebee7d"
      },
      "execution_count": 10,
      "outputs": [
        {
          "output_type": "execute_result",
          "data": {
            "text/plain": [
              "0       False\n",
              "1       False\n",
              "2       False\n",
              "3       False\n",
              "4       False\n",
              "        ...  \n",
              "1138    False\n",
              "1139    False\n",
              "1140    False\n",
              "1141    False\n",
              "1142    False\n",
              "Length: 1143, dtype: bool"
            ]
          },
          "metadata": {},
          "execution_count": 10
        }
      ]
    },
    {
      "cell_type": "code",
      "source": [
        "df.head()\n"
      ],
      "metadata": {
        "colab": {
          "base_uri": "https://localhost:8080/",
          "height": 305
        },
        "id": "pC5QALhpB41H",
        "outputId": "6f436735-4651-4816-f3e1-b1cba61015c6"
      },
      "execution_count": 11,
      "outputs": [
        {
          "output_type": "execute_result",
          "data": {
            "text/plain": [
              "   fixed acidity  volatile acidity  citric acid  residual sugar  chlorides  \\\n",
              "0            7.4              0.70         0.00             1.9      0.076   \n",
              "1            7.8              0.88         0.00             2.6      0.098   \n",
              "2            7.8              0.76         0.04             2.3      0.092   \n",
              "3           11.2              0.28         0.56             1.9      0.075   \n",
              "4            7.4              0.70         0.00             1.9      0.076   \n",
              "\n",
              "   free sulfur dioxide  total sulfur dioxide  density    pH  sulphates  \\\n",
              "0                 11.0                  34.0   0.9978  3.51       0.56   \n",
              "1                 25.0                  67.0   0.9968  3.20       0.68   \n",
              "2                 15.0                  54.0   0.9970  3.26       0.65   \n",
              "3                 17.0                  60.0   0.9980  3.16       0.58   \n",
              "4                 11.0                  34.0   0.9978  3.51       0.56   \n",
              "\n",
              "   alcohol  quality  Id  \n",
              "0      9.4        5   0  \n",
              "1      9.8        5   1  \n",
              "2      9.8        5   2  \n",
              "3      9.8        6   3  \n",
              "4      9.4        5   4  "
            ],
            "text/html": [
              "\n",
              "  <div id=\"df-bb9ebf44-830b-4c80-bc8d-55c16f343454\">\n",
              "    <div class=\"colab-df-container\">\n",
              "      <div>\n",
              "<style scoped>\n",
              "    .dataframe tbody tr th:only-of-type {\n",
              "        vertical-align: middle;\n",
              "    }\n",
              "\n",
              "    .dataframe tbody tr th {\n",
              "        vertical-align: top;\n",
              "    }\n",
              "\n",
              "    .dataframe thead th {\n",
              "        text-align: right;\n",
              "    }\n",
              "</style>\n",
              "<table border=\"1\" class=\"dataframe\">\n",
              "  <thead>\n",
              "    <tr style=\"text-align: right;\">\n",
              "      <th></th>\n",
              "      <th>fixed acidity</th>\n",
              "      <th>volatile acidity</th>\n",
              "      <th>citric acid</th>\n",
              "      <th>residual sugar</th>\n",
              "      <th>chlorides</th>\n",
              "      <th>free sulfur dioxide</th>\n",
              "      <th>total sulfur dioxide</th>\n",
              "      <th>density</th>\n",
              "      <th>pH</th>\n",
              "      <th>sulphates</th>\n",
              "      <th>alcohol</th>\n",
              "      <th>quality</th>\n",
              "      <th>Id</th>\n",
              "    </tr>\n",
              "  </thead>\n",
              "  <tbody>\n",
              "    <tr>\n",
              "      <th>0</th>\n",
              "      <td>7.4</td>\n",
              "      <td>0.70</td>\n",
              "      <td>0.00</td>\n",
              "      <td>1.9</td>\n",
              "      <td>0.076</td>\n",
              "      <td>11.0</td>\n",
              "      <td>34.0</td>\n",
              "      <td>0.9978</td>\n",
              "      <td>3.51</td>\n",
              "      <td>0.56</td>\n",
              "      <td>9.4</td>\n",
              "      <td>5</td>\n",
              "      <td>0</td>\n",
              "    </tr>\n",
              "    <tr>\n",
              "      <th>1</th>\n",
              "      <td>7.8</td>\n",
              "      <td>0.88</td>\n",
              "      <td>0.00</td>\n",
              "      <td>2.6</td>\n",
              "      <td>0.098</td>\n",
              "      <td>25.0</td>\n",
              "      <td>67.0</td>\n",
              "      <td>0.9968</td>\n",
              "      <td>3.20</td>\n",
              "      <td>0.68</td>\n",
              "      <td>9.8</td>\n",
              "      <td>5</td>\n",
              "      <td>1</td>\n",
              "    </tr>\n",
              "    <tr>\n",
              "      <th>2</th>\n",
              "      <td>7.8</td>\n",
              "      <td>0.76</td>\n",
              "      <td>0.04</td>\n",
              "      <td>2.3</td>\n",
              "      <td>0.092</td>\n",
              "      <td>15.0</td>\n",
              "      <td>54.0</td>\n",
              "      <td>0.9970</td>\n",
              "      <td>3.26</td>\n",
              "      <td>0.65</td>\n",
              "      <td>9.8</td>\n",
              "      <td>5</td>\n",
              "      <td>2</td>\n",
              "    </tr>\n",
              "    <tr>\n",
              "      <th>3</th>\n",
              "      <td>11.2</td>\n",
              "      <td>0.28</td>\n",
              "      <td>0.56</td>\n",
              "      <td>1.9</td>\n",
              "      <td>0.075</td>\n",
              "      <td>17.0</td>\n",
              "      <td>60.0</td>\n",
              "      <td>0.9980</td>\n",
              "      <td>3.16</td>\n",
              "      <td>0.58</td>\n",
              "      <td>9.8</td>\n",
              "      <td>6</td>\n",
              "      <td>3</td>\n",
              "    </tr>\n",
              "    <tr>\n",
              "      <th>4</th>\n",
              "      <td>7.4</td>\n",
              "      <td>0.70</td>\n",
              "      <td>0.00</td>\n",
              "      <td>1.9</td>\n",
              "      <td>0.076</td>\n",
              "      <td>11.0</td>\n",
              "      <td>34.0</td>\n",
              "      <td>0.9978</td>\n",
              "      <td>3.51</td>\n",
              "      <td>0.56</td>\n",
              "      <td>9.4</td>\n",
              "      <td>5</td>\n",
              "      <td>4</td>\n",
              "    </tr>\n",
              "  </tbody>\n",
              "</table>\n",
              "</div>\n",
              "      <button class=\"colab-df-convert\" onclick=\"convertToInteractive('df-bb9ebf44-830b-4c80-bc8d-55c16f343454')\"\n",
              "              title=\"Convert this dataframe to an interactive table.\"\n",
              "              style=\"display:none;\">\n",
              "        \n",
              "  <svg xmlns=\"http://www.w3.org/2000/svg\" height=\"24px\"viewBox=\"0 0 24 24\"\n",
              "       width=\"24px\">\n",
              "    <path d=\"M0 0h24v24H0V0z\" fill=\"none\"/>\n",
              "    <path d=\"M18.56 5.44l.94 2.06.94-2.06 2.06-.94-2.06-.94-.94-2.06-.94 2.06-2.06.94zm-11 1L8.5 8.5l.94-2.06 2.06-.94-2.06-.94L8.5 2.5l-.94 2.06-2.06.94zm10 10l.94 2.06.94-2.06 2.06-.94-2.06-.94-.94-2.06-.94 2.06-2.06.94z\"/><path d=\"M17.41 7.96l-1.37-1.37c-.4-.4-.92-.59-1.43-.59-.52 0-1.04.2-1.43.59L10.3 9.45l-7.72 7.72c-.78.78-.78 2.05 0 2.83L4 21.41c.39.39.9.59 1.41.59.51 0 1.02-.2 1.41-.59l7.78-7.78 2.81-2.81c.8-.78.8-2.07 0-2.86zM5.41 20L4 18.59l7.72-7.72 1.47 1.35L5.41 20z\"/>\n",
              "  </svg>\n",
              "      </button>\n",
              "      \n",
              "  <style>\n",
              "    .colab-df-container {\n",
              "      display:flex;\n",
              "      flex-wrap:wrap;\n",
              "      gap: 12px;\n",
              "    }\n",
              "\n",
              "    .colab-df-convert {\n",
              "      background-color: #E8F0FE;\n",
              "      border: none;\n",
              "      border-radius: 50%;\n",
              "      cursor: pointer;\n",
              "      display: none;\n",
              "      fill: #1967D2;\n",
              "      height: 32px;\n",
              "      padding: 0 0 0 0;\n",
              "      width: 32px;\n",
              "    }\n",
              "\n",
              "    .colab-df-convert:hover {\n",
              "      background-color: #E2EBFA;\n",
              "      box-shadow: 0px 1px 2px rgba(60, 64, 67, 0.3), 0px 1px 3px 1px rgba(60, 64, 67, 0.15);\n",
              "      fill: #174EA6;\n",
              "    }\n",
              "\n",
              "    [theme=dark] .colab-df-convert {\n",
              "      background-color: #3B4455;\n",
              "      fill: #D2E3FC;\n",
              "    }\n",
              "\n",
              "    [theme=dark] .colab-df-convert:hover {\n",
              "      background-color: #434B5C;\n",
              "      box-shadow: 0px 1px 3px 1px rgba(0, 0, 0, 0.15);\n",
              "      filter: drop-shadow(0px 1px 2px rgba(0, 0, 0, 0.3));\n",
              "      fill: #FFFFFF;\n",
              "    }\n",
              "  </style>\n",
              "\n",
              "      <script>\n",
              "        const buttonEl =\n",
              "          document.querySelector('#df-bb9ebf44-830b-4c80-bc8d-55c16f343454 button.colab-df-convert');\n",
              "        buttonEl.style.display =\n",
              "          google.colab.kernel.accessAllowed ? 'block' : 'none';\n",
              "\n",
              "        async function convertToInteractive(key) {\n",
              "          const element = document.querySelector('#df-bb9ebf44-830b-4c80-bc8d-55c16f343454');\n",
              "          const dataTable =\n",
              "            await google.colab.kernel.invokeFunction('convertToInteractive',\n",
              "                                                     [key], {});\n",
              "          if (!dataTable) return;\n",
              "\n",
              "          const docLinkHtml = 'Like what you see? Visit the ' +\n",
              "            '<a target=\"_blank\" href=https://colab.research.google.com/notebooks/data_table.ipynb>data table notebook</a>'\n",
              "            + ' to learn more about interactive tables.';\n",
              "          element.innerHTML = '';\n",
              "          dataTable['output_type'] = 'display_data';\n",
              "          await google.colab.output.renderOutput(dataTable, element);\n",
              "          const docLink = document.createElement('div');\n",
              "          docLink.innerHTML = docLinkHtml;\n",
              "          element.appendChild(docLink);\n",
              "        }\n",
              "      </script>\n",
              "    </div>\n",
              "  </div>\n",
              "  "
            ]
          },
          "metadata": {},
          "execution_count": 11
        }
      ]
    },
    {
      "cell_type": "code",
      "source": [
        "df = df.drop('Id', axis=1)\n",
        "df\n"
      ],
      "metadata": {
        "colab": {
          "base_uri": "https://localhost:8080/",
          "height": 522
        },
        "id": "aaBlKKLHCAfF",
        "outputId": "ccdf4357-027b-4d9e-98e8-4c2caaf0e370"
      },
      "execution_count": 12,
      "outputs": [
        {
          "output_type": "execute_result",
          "data": {
            "text/plain": [
              "      fixed acidity  volatile acidity  citric acid  residual sugar  chlorides  \\\n",
              "0               7.4             0.700         0.00             1.9      0.076   \n",
              "1               7.8             0.880         0.00             2.6      0.098   \n",
              "2               7.8             0.760         0.04             2.3      0.092   \n",
              "3              11.2             0.280         0.56             1.9      0.075   \n",
              "4               7.4             0.700         0.00             1.9      0.076   \n",
              "...             ...               ...          ...             ...        ...   \n",
              "1138            6.3             0.510         0.13             2.3      0.076   \n",
              "1139            6.8             0.620         0.08             1.9      0.068   \n",
              "1140            6.2             0.600         0.08             2.0      0.090   \n",
              "1141            5.9             0.550         0.10             2.2      0.062   \n",
              "1142            5.9             0.645         0.12             2.0      0.075   \n",
              "\n",
              "      free sulfur dioxide  total sulfur dioxide  density    pH  sulphates  \\\n",
              "0                    11.0                  34.0  0.99780  3.51       0.56   \n",
              "1                    25.0                  67.0  0.99680  3.20       0.68   \n",
              "2                    15.0                  54.0  0.99700  3.26       0.65   \n",
              "3                    17.0                  60.0  0.99800  3.16       0.58   \n",
              "4                    11.0                  34.0  0.99780  3.51       0.56   \n",
              "...                   ...                   ...      ...   ...        ...   \n",
              "1138                 29.0                  40.0  0.99574  3.42       0.75   \n",
              "1139                 28.0                  38.0  0.99651  3.42       0.82   \n",
              "1140                 32.0                  44.0  0.99490  3.45       0.58   \n",
              "1141                 39.0                  51.0  0.99512  3.52       0.76   \n",
              "1142                 32.0                  44.0  0.99547  3.57       0.71   \n",
              "\n",
              "      alcohol  quality  \n",
              "0         9.4        5  \n",
              "1         9.8        5  \n",
              "2         9.8        5  \n",
              "3         9.8        6  \n",
              "4         9.4        5  \n",
              "...       ...      ...  \n",
              "1138     11.0        6  \n",
              "1139      9.5        6  \n",
              "1140     10.5        5  \n",
              "1141     11.2        6  \n",
              "1142     10.2        5  \n",
              "\n",
              "[1143 rows x 12 columns]"
            ],
            "text/html": [
              "\n",
              "  <div id=\"df-26a9cc92-f3c6-4998-80f9-5c5f773a6ec5\">\n",
              "    <div class=\"colab-df-container\">\n",
              "      <div>\n",
              "<style scoped>\n",
              "    .dataframe tbody tr th:only-of-type {\n",
              "        vertical-align: middle;\n",
              "    }\n",
              "\n",
              "    .dataframe tbody tr th {\n",
              "        vertical-align: top;\n",
              "    }\n",
              "\n",
              "    .dataframe thead th {\n",
              "        text-align: right;\n",
              "    }\n",
              "</style>\n",
              "<table border=\"1\" class=\"dataframe\">\n",
              "  <thead>\n",
              "    <tr style=\"text-align: right;\">\n",
              "      <th></th>\n",
              "      <th>fixed acidity</th>\n",
              "      <th>volatile acidity</th>\n",
              "      <th>citric acid</th>\n",
              "      <th>residual sugar</th>\n",
              "      <th>chlorides</th>\n",
              "      <th>free sulfur dioxide</th>\n",
              "      <th>total sulfur dioxide</th>\n",
              "      <th>density</th>\n",
              "      <th>pH</th>\n",
              "      <th>sulphates</th>\n",
              "      <th>alcohol</th>\n",
              "      <th>quality</th>\n",
              "    </tr>\n",
              "  </thead>\n",
              "  <tbody>\n",
              "    <tr>\n",
              "      <th>0</th>\n",
              "      <td>7.4</td>\n",
              "      <td>0.700</td>\n",
              "      <td>0.00</td>\n",
              "      <td>1.9</td>\n",
              "      <td>0.076</td>\n",
              "      <td>11.0</td>\n",
              "      <td>34.0</td>\n",
              "      <td>0.99780</td>\n",
              "      <td>3.51</td>\n",
              "      <td>0.56</td>\n",
              "      <td>9.4</td>\n",
              "      <td>5</td>\n",
              "    </tr>\n",
              "    <tr>\n",
              "      <th>1</th>\n",
              "      <td>7.8</td>\n",
              "      <td>0.880</td>\n",
              "      <td>0.00</td>\n",
              "      <td>2.6</td>\n",
              "      <td>0.098</td>\n",
              "      <td>25.0</td>\n",
              "      <td>67.0</td>\n",
              "      <td>0.99680</td>\n",
              "      <td>3.20</td>\n",
              "      <td>0.68</td>\n",
              "      <td>9.8</td>\n",
              "      <td>5</td>\n",
              "    </tr>\n",
              "    <tr>\n",
              "      <th>2</th>\n",
              "      <td>7.8</td>\n",
              "      <td>0.760</td>\n",
              "      <td>0.04</td>\n",
              "      <td>2.3</td>\n",
              "      <td>0.092</td>\n",
              "      <td>15.0</td>\n",
              "      <td>54.0</td>\n",
              "      <td>0.99700</td>\n",
              "      <td>3.26</td>\n",
              "      <td>0.65</td>\n",
              "      <td>9.8</td>\n",
              "      <td>5</td>\n",
              "    </tr>\n",
              "    <tr>\n",
              "      <th>3</th>\n",
              "      <td>11.2</td>\n",
              "      <td>0.280</td>\n",
              "      <td>0.56</td>\n",
              "      <td>1.9</td>\n",
              "      <td>0.075</td>\n",
              "      <td>17.0</td>\n",
              "      <td>60.0</td>\n",
              "      <td>0.99800</td>\n",
              "      <td>3.16</td>\n",
              "      <td>0.58</td>\n",
              "      <td>9.8</td>\n",
              "      <td>6</td>\n",
              "    </tr>\n",
              "    <tr>\n",
              "      <th>4</th>\n",
              "      <td>7.4</td>\n",
              "      <td>0.700</td>\n",
              "      <td>0.00</td>\n",
              "      <td>1.9</td>\n",
              "      <td>0.076</td>\n",
              "      <td>11.0</td>\n",
              "      <td>34.0</td>\n",
              "      <td>0.99780</td>\n",
              "      <td>3.51</td>\n",
              "      <td>0.56</td>\n",
              "      <td>9.4</td>\n",
              "      <td>5</td>\n",
              "    </tr>\n",
              "    <tr>\n",
              "      <th>...</th>\n",
              "      <td>...</td>\n",
              "      <td>...</td>\n",
              "      <td>...</td>\n",
              "      <td>...</td>\n",
              "      <td>...</td>\n",
              "      <td>...</td>\n",
              "      <td>...</td>\n",
              "      <td>...</td>\n",
              "      <td>...</td>\n",
              "      <td>...</td>\n",
              "      <td>...</td>\n",
              "      <td>...</td>\n",
              "    </tr>\n",
              "    <tr>\n",
              "      <th>1138</th>\n",
              "      <td>6.3</td>\n",
              "      <td>0.510</td>\n",
              "      <td>0.13</td>\n",
              "      <td>2.3</td>\n",
              "      <td>0.076</td>\n",
              "      <td>29.0</td>\n",
              "      <td>40.0</td>\n",
              "      <td>0.99574</td>\n",
              "      <td>3.42</td>\n",
              "      <td>0.75</td>\n",
              "      <td>11.0</td>\n",
              "      <td>6</td>\n",
              "    </tr>\n",
              "    <tr>\n",
              "      <th>1139</th>\n",
              "      <td>6.8</td>\n",
              "      <td>0.620</td>\n",
              "      <td>0.08</td>\n",
              "      <td>1.9</td>\n",
              "      <td>0.068</td>\n",
              "      <td>28.0</td>\n",
              "      <td>38.0</td>\n",
              "      <td>0.99651</td>\n",
              "      <td>3.42</td>\n",
              "      <td>0.82</td>\n",
              "      <td>9.5</td>\n",
              "      <td>6</td>\n",
              "    </tr>\n",
              "    <tr>\n",
              "      <th>1140</th>\n",
              "      <td>6.2</td>\n",
              "      <td>0.600</td>\n",
              "      <td>0.08</td>\n",
              "      <td>2.0</td>\n",
              "      <td>0.090</td>\n",
              "      <td>32.0</td>\n",
              "      <td>44.0</td>\n",
              "      <td>0.99490</td>\n",
              "      <td>3.45</td>\n",
              "      <td>0.58</td>\n",
              "      <td>10.5</td>\n",
              "      <td>5</td>\n",
              "    </tr>\n",
              "    <tr>\n",
              "      <th>1141</th>\n",
              "      <td>5.9</td>\n",
              "      <td>0.550</td>\n",
              "      <td>0.10</td>\n",
              "      <td>2.2</td>\n",
              "      <td>0.062</td>\n",
              "      <td>39.0</td>\n",
              "      <td>51.0</td>\n",
              "      <td>0.99512</td>\n",
              "      <td>3.52</td>\n",
              "      <td>0.76</td>\n",
              "      <td>11.2</td>\n",
              "      <td>6</td>\n",
              "    </tr>\n",
              "    <tr>\n",
              "      <th>1142</th>\n",
              "      <td>5.9</td>\n",
              "      <td>0.645</td>\n",
              "      <td>0.12</td>\n",
              "      <td>2.0</td>\n",
              "      <td>0.075</td>\n",
              "      <td>32.0</td>\n",
              "      <td>44.0</td>\n",
              "      <td>0.99547</td>\n",
              "      <td>3.57</td>\n",
              "      <td>0.71</td>\n",
              "      <td>10.2</td>\n",
              "      <td>5</td>\n",
              "    </tr>\n",
              "  </tbody>\n",
              "</table>\n",
              "<p>1143 rows × 12 columns</p>\n",
              "</div>\n",
              "      <button class=\"colab-df-convert\" onclick=\"convertToInteractive('df-26a9cc92-f3c6-4998-80f9-5c5f773a6ec5')\"\n",
              "              title=\"Convert this dataframe to an interactive table.\"\n",
              "              style=\"display:none;\">\n",
              "        \n",
              "  <svg xmlns=\"http://www.w3.org/2000/svg\" height=\"24px\"viewBox=\"0 0 24 24\"\n",
              "       width=\"24px\">\n",
              "    <path d=\"M0 0h24v24H0V0z\" fill=\"none\"/>\n",
              "    <path d=\"M18.56 5.44l.94 2.06.94-2.06 2.06-.94-2.06-.94-.94-2.06-.94 2.06-2.06.94zm-11 1L8.5 8.5l.94-2.06 2.06-.94-2.06-.94L8.5 2.5l-.94 2.06-2.06.94zm10 10l.94 2.06.94-2.06 2.06-.94-2.06-.94-.94-2.06-.94 2.06-2.06.94z\"/><path d=\"M17.41 7.96l-1.37-1.37c-.4-.4-.92-.59-1.43-.59-.52 0-1.04.2-1.43.59L10.3 9.45l-7.72 7.72c-.78.78-.78 2.05 0 2.83L4 21.41c.39.39.9.59 1.41.59.51 0 1.02-.2 1.41-.59l7.78-7.78 2.81-2.81c.8-.78.8-2.07 0-2.86zM5.41 20L4 18.59l7.72-7.72 1.47 1.35L5.41 20z\"/>\n",
              "  </svg>\n",
              "      </button>\n",
              "      \n",
              "  <style>\n",
              "    .colab-df-container {\n",
              "      display:flex;\n",
              "      flex-wrap:wrap;\n",
              "      gap: 12px;\n",
              "    }\n",
              "\n",
              "    .colab-df-convert {\n",
              "      background-color: #E8F0FE;\n",
              "      border: none;\n",
              "      border-radius: 50%;\n",
              "      cursor: pointer;\n",
              "      display: none;\n",
              "      fill: #1967D2;\n",
              "      height: 32px;\n",
              "      padding: 0 0 0 0;\n",
              "      width: 32px;\n",
              "    }\n",
              "\n",
              "    .colab-df-convert:hover {\n",
              "      background-color: #E2EBFA;\n",
              "      box-shadow: 0px 1px 2px rgba(60, 64, 67, 0.3), 0px 1px 3px 1px rgba(60, 64, 67, 0.15);\n",
              "      fill: #174EA6;\n",
              "    }\n",
              "\n",
              "    [theme=dark] .colab-df-convert {\n",
              "      background-color: #3B4455;\n",
              "      fill: #D2E3FC;\n",
              "    }\n",
              "\n",
              "    [theme=dark] .colab-df-convert:hover {\n",
              "      background-color: #434B5C;\n",
              "      box-shadow: 0px 1px 3px 1px rgba(0, 0, 0, 0.15);\n",
              "      filter: drop-shadow(0px 1px 2px rgba(0, 0, 0, 0.3));\n",
              "      fill: #FFFFFF;\n",
              "    }\n",
              "  </style>\n",
              "\n",
              "      <script>\n",
              "        const buttonEl =\n",
              "          document.querySelector('#df-26a9cc92-f3c6-4998-80f9-5c5f773a6ec5 button.colab-df-convert');\n",
              "        buttonEl.style.display =\n",
              "          google.colab.kernel.accessAllowed ? 'block' : 'none';\n",
              "\n",
              "        async function convertToInteractive(key) {\n",
              "          const element = document.querySelector('#df-26a9cc92-f3c6-4998-80f9-5c5f773a6ec5');\n",
              "          const dataTable =\n",
              "            await google.colab.kernel.invokeFunction('convertToInteractive',\n",
              "                                                     [key], {});\n",
              "          if (!dataTable) return;\n",
              "\n",
              "          const docLinkHtml = 'Like what you see? Visit the ' +\n",
              "            '<a target=\"_blank\" href=https://colab.research.google.com/notebooks/data_table.ipynb>data table notebook</a>'\n",
              "            + ' to learn more about interactive tables.';\n",
              "          element.innerHTML = '';\n",
              "          dataTable['output_type'] = 'display_data';\n",
              "          await google.colab.output.renderOutput(dataTable, element);\n",
              "          const docLink = document.createElement('div');\n",
              "          docLink.innerHTML = docLinkHtml;\n",
              "          element.appendChild(docLink);\n",
              "        }\n",
              "      </script>\n",
              "    </div>\n",
              "  </div>\n",
              "  "
            ]
          },
          "metadata": {},
          "execution_count": 12
        }
      ]
    },
    {
      "cell_type": "markdown",
      "source": [
        "## Univariate distribution\n",
        "\n",
        "The distribution of input variables is visualized using histograms.\n",
        "\n",
        "Some of the input variables are skewed."
      ],
      "metadata": {
        "id": "9UlXD6c0IAh1"
      }
    },
    {
      "cell_type": "code",
      "source": [
        "df.hist(bins=20, xlabelsize=10, ylabelsize=10, figsize=(15,15))\n",
        "plt.show()\n"
      ],
      "metadata": {
        "colab": {
          "base_uri": "https://localhost:8080/",
          "height": 855
        },
        "id": "tA07GYs7CNeY",
        "outputId": "416029c2-e9a3-4224-8b87-cbc6f175ff9c"
      },
      "execution_count": 13,
      "outputs": [
        {
          "output_type": "display_data",
          "data": {
            "text/plain": [
              "<Figure size 1080x1080 with 12 Axes>"
            ],
            "image/png": "[encoded data removed]"
          },
          "metadata": {
            "needs_background": "light"
          }
        }
      ]
    },
    {
      "cell_type": "code",
      "source": [
        "def symmetry_report(df):\n",
        "  label_list = list()\n",
        "  skewness_list = list()\n",
        "  kurtosis_list = list()\n",
        "  \n",
        "  for label, content in df.iloc[:,:-1].items():\n",
        "    label_list.append(label)\n",
        "    skewness_list.append(round(content.skew(),2))\n",
        "    kurtosis_list.append(round(content.kurtosis(),2))\n",
        "      \n",
        "  df_report=pd.DataFrame()  \n",
        "  df_report['input_variable'] = label_list\n",
        "  df_report['skewness'] = skewness_list\n",
        "  df_report['kurtosis'] = kurtosis_list\n",
        "\n",
        "  \n",
        "  return df_report\n"
      ],
      "metadata": {
        "id": "_dL3mDDWe84u"
      },
      "execution_count": 14,
      "outputs": []
    },
    {
      "cell_type": "code",
      "source": [
        "symmetry_report(df).set_index('input_variable')\n"
      ],
      "metadata": {
        "colab": {
          "base_uri": "https://localhost:8080/",
          "height": 425
        },
        "id": "2fIkECZSTiqI",
        "outputId": "30d983a8-e2d0-4f9f-f626-6ed8d52a1869"
      },
      "execution_count": 15,
      "outputs": [
        {
          "output_type": "execute_result",
          "data": {
            "text/plain": [
              "                      skewness  kurtosis\n",
              "input_variable                          \n",
              "fixed acidity             1.04      1.38\n",
              "volatile acidity          0.68      1.38\n",
              "citric acid               0.37     -0.71\n",
              "residual sugar            4.36     27.68\n",
              "chlorides                 6.03     47.08\n",
              "free sulfur dioxide       1.23      1.93\n",
              "total sulfur dioxide      1.67      5.10\n",
              "density                   0.10      0.89\n",
              "pH                        0.22      0.93\n",
              "sulphates                 2.50     12.02\n",
              "alcohol                   0.86      0.22"
            ],
            "text/html": [
              "\n",
              "  <div id=\"df-9fcc5603-70ed-4cf5-baba-e406440cfadc\">\n",
              "    <div class=\"colab-df-container\">\n",
              "      <div>\n",
              "<style scoped>\n",
              "    .dataframe tbody tr th:only-of-type {\n",
              "        vertical-align: middle;\n",
              "    }\n",
              "\n",
              "    .dataframe tbody tr th {\n",
              "        vertical-align: top;\n",
              "    }\n",
              "\n",
              "    .dataframe thead th {\n",
              "        text-align: right;\n",
              "    }\n",
              "</style>\n",
              "<table border=\"1\" class=\"dataframe\">\n",
              "  <thead>\n",
              "    <tr style=\"text-align: right;\">\n",
              "      <th></th>\n",
              "      <th>skewness</th>\n",
              "      <th>kurtosis</th>\n",
              "    </tr>\n",
              "    <tr>\n",
              "      <th>input_variable</th>\n",
              "      <th></th>\n",
              "      <th></th>\n",
              "    </tr>\n",
              "  </thead>\n",
              "  <tbody>\n",
              "    <tr>\n",
              "      <th>fixed acidity</th>\n",
              "      <td>1.04</td>\n",
              "      <td>1.38</td>\n",
              "    </tr>\n",
              "    <tr>\n",
              "      <th>volatile acidity</th>\n",
              "      <td>0.68</td>\n",
              "      <td>1.38</td>\n",
              "    </tr>\n",
              "    <tr>\n",
              "      <th>citric acid</th>\n",
              "      <td>0.37</td>\n",
              "      <td>-0.71</td>\n",
              "    </tr>\n",
              "    <tr>\n",
              "      <th>residual sugar</th>\n",
              "      <td>4.36</td>\n",
              "      <td>27.68</td>\n",
              "    </tr>\n",
              "    <tr>\n",
              "      <th>chlorides</th>\n",
              "      <td>6.03</td>\n",
              "      <td>47.08</td>\n",
              "    </tr>\n",
              "    <tr>\n",
              "      <th>free sulfur dioxide</th>\n",
              "      <td>1.23</td>\n",
              "      <td>1.93</td>\n",
              "    </tr>\n",
              "    <tr>\n",
              "      <th>total sulfur dioxide</th>\n",
              "      <td>1.67</td>\n",
              "      <td>5.10</td>\n",
              "    </tr>\n",
              "    <tr>\n",
              "      <th>density</th>\n",
              "      <td>0.10</td>\n",
              "      <td>0.89</td>\n",
              "    </tr>\n",
              "    <tr>\n",
              "      <th>pH</th>\n",
              "      <td>0.22</td>\n",
              "      <td>0.93</td>\n",
              "    </tr>\n",
              "    <tr>\n",
              "      <th>sulphates</th>\n",
              "      <td>2.50</td>\n",
              "      <td>12.02</td>\n",
              "    </tr>\n",
              "    <tr>\n",
              "      <th>alcohol</th>\n",
              "      <td>0.86</td>\n",
              "      <td>0.22</td>\n",
              "    </tr>\n",
              "  </tbody>\n",
              "</table>\n",
              "</div>\n",
              "      <button class=\"colab-df-convert\" onclick=\"convertToInteractive('df-9fcc5603-70ed-4cf5-baba-e406440cfadc')\"\n",
              "              title=\"Convert this dataframe to an interactive table.\"\n",
              "              style=\"display:none;\">\n",
              "        \n",
              "  <svg xmlns=\"http://www.w3.org/2000/svg\" height=\"24px\"viewBox=\"0 0 24 24\"\n",
              "       width=\"24px\">\n",
              "    <path d=\"M0 0h24v24H0V0z\" fill=\"none\"/>\n",
              "    <path d=\"M18.56 5.44l.94 2.06.94-2.06 2.06-.94-2.06-.94-.94-2.06-.94 2.06-2.06.94zm-11 1L8.5 8.5l.94-2.06 2.06-.94-2.06-.94L8.5 2.5l-.94 2.06-2.06.94zm10 10l.94 2.06.94-2.06 2.06-.94-2.06-.94-.94-2.06-.94 2.06-2.06.94z\"/><path d=\"M17.41 7.96l-1.37-1.37c-.4-.4-.92-.59-1.43-.59-.52 0-1.04.2-1.43.59L10.3 9.45l-7.72 7.72c-.78.78-.78 2.05 0 2.83L4 21.41c.39.39.9.59 1.41.59.51 0 1.02-.2 1.41-.59l7.78-7.78 2.81-2.81c.8-.78.8-2.07 0-2.86zM5.41 20L4 18.59l7.72-7.72 1.47 1.35L5.41 20z\"/>\n",
              "  </svg>\n",
              "      </button>\n",
              "      \n",
              "  <style>\n",
              "    .colab-df-container {\n",
              "      display:flex;\n",
              "      flex-wrap:wrap;\n",
              "      gap: 12px;\n",
              "    }\n",
              "\n",
              "    .colab-df-convert {\n",
              "      background-color: #E8F0FE;\n",
              "      border: none;\n",
              "      border-radius: 50%;\n",
              "      cursor: pointer;\n",
              "      display: none;\n",
              "      fill: #1967D2;\n",
              "      height: 32px;\n",
              "      padding: 0 0 0 0;\n",
              "      width: 32px;\n",
              "    }\n",
              "\n",
              "    .colab-df-convert:hover {\n",
              "      background-color: #E2EBFA;\n",
              "      box-shadow: 0px 1px 2px rgba(60, 64, 67, 0.3), 0px 1px 3px 1px rgba(60, 64, 67, 0.15);\n",
              "      fill: #174EA6;\n",
              "    }\n",
              "\n",
              "    [theme=dark] .colab-df-convert {\n",
              "      background-color: #3B4455;\n",
              "      fill: #D2E3FC;\n",
              "    }\n",
              "\n",
              "    [theme=dark] .colab-df-convert:hover {\n",
              "      background-color: #434B5C;\n",
              "      box-shadow: 0px 1px 3px 1px rgba(0, 0, 0, 0.15);\n",
              "      filter: drop-shadow(0px 1px 2px rgba(0, 0, 0, 0.3));\n",
              "      fill: #FFFFFF;\n",
              "    }\n",
              "  </style>\n",
              "\n",
              "      <script>\n",
              "        const buttonEl =\n",
              "          document.querySelector('#df-9fcc5603-70ed-4cf5-baba-e406440cfadc button.colab-df-convert');\n",
              "        buttonEl.style.display =\n",
              "          google.colab.kernel.accessAllowed ? 'block' : 'none';\n",
              "\n",
              "        async function convertToInteractive(key) {\n",
              "          const element = document.querySelector('#df-9fcc5603-70ed-4cf5-baba-e406440cfadc');\n",
              "          const dataTable =\n",
              "            await google.colab.kernel.invokeFunction('convertToInteractive',\n",
              "                                                     [key], {});\n",
              "          if (!dataTable) return;\n",
              "\n",
              "          const docLinkHtml = 'Like what you see? Visit the ' +\n",
              "            '<a target=\"_blank\" href=https://colab.research.google.com/notebooks/data_table.ipynb>data table notebook</a>'\n",
              "            + ' to learn more about interactive tables.';\n",
              "          element.innerHTML = '';\n",
              "          dataTable['output_type'] = 'display_data';\n",
              "          await google.colab.output.renderOutput(dataTable, element);\n",
              "          const docLink = document.createElement('div');\n",
              "          docLink.innerHTML = docLinkHtml;\n",
              "          element.appendChild(docLink);\n",
              "        }\n",
              "      </script>\n",
              "    </div>\n",
              "  </div>\n",
              "  "
            ]
          },
          "metadata": {},
          "execution_count": 15
        }
      ]
    },
    {
      "cell_type": "markdown",
      "source": [
        "The most skewed input variable, 'chlorides', has the skewness of 6.026 and  kurtosis 47.48.\n",
        "\n",
        "'residual sugar' variable has the skewness 4.36 and kurtosis 27.68.\n",
        "\n",
        "'sulphates' variable has high kurtosis, 12.017.\n",
        "  \n",
        "\n",
        "Because of skewed data the PowerTransform and StandardScaler both will be used and compared."
      ],
      "metadata": {
        "id": "Vmjc7DpC2Lhg"
      }
    },
    {
      "cell_type": "markdown",
      "source": [
        "##Bivariate distribution - Correlation in data\n",
        "\n",
        "Some input variables are highly correlated."
      ],
      "metadata": {
        "id": "L_5twNxeEQrJ"
      }
    },
    {
      "cell_type": "code",
      "source": [
        "fig, ax = plt.subplots(figsize = (15,15))\n",
        "ax = sns.heatmap(df.corr(), annot=True, cmap='Blues', cbar=True)\n",
        "plt.show()\n"
      ],
      "metadata": {
        "colab": {
          "base_uri": "https://localhost:8080/",
          "height": 904
        },
        "id": "mXUL-xSgDb81",
        "outputId": "2c955277-8547-49a6-b2d8-c7a84b2b07af"
      },
      "execution_count": 16,
      "outputs": [
        {
          "output_type": "display_data",
          "data": {
            "text/plain": [
              "<Figure size 1080x1080 with 2 Axes>"
            ],
            "image/png": "[encoded data removed]"
          },
          "metadata": {
            "needs_background": "light"
          }
        }
      ]
    },
    {
      "cell_type": "code",
      "source": [
        "#dropping highly correlated features\n",
        "def omit_high_corr(df, max_corr):\n",
        "  corr_matrix = df.corr().abs()\n",
        "  upper_triangular = corr_matrix.where(np.triu(np.ones(corr_matrix.shape),k=1).astype(bool))\n",
        "  columns_to_drop = [column for column in upper_triangular.columns if any(upper_triangular[column] > max_corr)]\n",
        "  df=df.drop(df[columns_to_drop], axis=1)\n",
        "  print(columns_to_drop)\n",
        "  return df\n",
        "  "
      ],
      "metadata": {
        "id": "FNb22Tcc5er-"
      },
      "execution_count": 17,
      "outputs": []
    },
    {
      "cell_type": "markdown",
      "source": [
        "The input variables with pearsons-r correlation higher than 0.65 will be omitted."
      ],
      "metadata": {
        "id": "XXRPVXqrX3lt"
      }
    },
    {
      "cell_type": "code",
      "source": [
        "df = omit_high_corr(df, 0.65)\n"
      ],
      "metadata": {
        "id": "RvM9pqTnVXke",
        "colab": {
          "base_uri": "https://localhost:8080/"
        },
        "outputId": "e4e2d05a-6b0c-4ae9-b744-d910bb72058a"
      },
      "execution_count": 18,
      "outputs": [
        {
          "output_type": "stream",
          "name": "stdout",
          "text": [
            "['citric acid', 'total sulfur dioxide', 'density', 'pH']\n"
          ]
        }
      ]
    },
    {
      "cell_type": "markdown",
      "source": [
        "The 4 input variables will be omitted from the further analysis due to higher correlation."
      ],
      "metadata": {
        "id": "-gO_vrn-WAQ1"
      }
    },
    {
      "cell_type": "code",
      "source": [
        "df.shape\n"
      ],
      "metadata": {
        "colab": {
          "base_uri": "https://localhost:8080/"
        },
        "id": "dB424pV9Gsyc",
        "outputId": "bc528447-bde4-46fd-93e9-42afd45b74d1"
      },
      "execution_count": 19,
      "outputs": [
        {
          "output_type": "execute_result",
          "data": {
            "text/plain": [
              "(1143, 8)"
            ]
          },
          "metadata": {},
          "execution_count": 19
        }
      ]
    },
    {
      "cell_type": "markdown",
      "source": [
        "###'quality' class column - dependent variable\n",
        "\n",
        "The dataset has 6 different classes.\n",
        "\n"
      ],
      "metadata": {
        "id": "B2BMSrfS9GIg"
      }
    },
    {
      "cell_type": "code",
      "source": [
        "df['quality'].unique()"
      ],
      "metadata": {
        "colab": {
          "base_uri": "https://localhost:8080/"
        },
        "id": "u4s5T3R9C4yB",
        "outputId": "b8a3773b-613e-493e-f142-09559529ff0b"
      },
      "execution_count": 20,
      "outputs": [
        {
          "output_type": "execute_result",
          "data": {
            "text/plain": [
              "array([5, 6, 7, 4, 8, 3])"
            ]
          },
          "metadata": {},
          "execution_count": 20
        }
      ]
    },
    {
      "cell_type": "markdown",
      "source": [
        "The classes are imbalanced."
      ],
      "metadata": {
        "id": "Lz1yhljBYLQl"
      }
    },
    {
      "cell_type": "code",
      "source": [
        "df['quality'].hist()\n",
        "plt.title('Distribution of Wine Classes', size=20)\n",
        "plt.xlabel('classes', size=14)\n",
        "plt.ylabel('frequency', size=14)\n",
        "plt.show()\n"
      ],
      "metadata": {
        "colab": {
          "base_uri": "https://localhost:8080/",
          "height": 304
        },
        "id": "IkLrmATzDIC_",
        "outputId": "58caa2c1-14fe-4e37-9d4e-1b835eb2d33f"
      },
      "execution_count": 21,
      "outputs": [
        {
          "output_type": "display_data",
          "data": {
            "text/plain": [
              "<Figure size 432x288 with 1 Axes>"
            ],
            "image/png": "[encoded data removed]"
          },
          "metadata": {
            "needs_background": "light"
          }
        }
      ]
    },
    {
      "cell_type": "code",
      "source": [
        "counter = Counter(df['quality'])\n",
        "\n",
        "print(f\"{'Class':>10} {'Counts':>10} {'Percentage':>15}\")\n",
        "for k,v in counter.items():\n",
        "\tpercentage = round(v * 100 / len(df['quality']), 2)\n",
        "\tprint(f'\\n{k:10} {v:10} {percentage:>15}')\n",
        " "
      ],
      "metadata": {
        "colab": {
          "base_uri": "https://localhost:8080/"
        },
        "id": "9q59gLd9YQru",
        "outputId": "7155ed72-4e46-408c-8673-d2aa03d501d5"
      },
      "execution_count": 22,
      "outputs": [
        {
          "output_type": "stream",
          "name": "stdout",
          "text": [
            "     Class     Counts      Percentage\n",
            "\n",
            "         5        483           42.26\n",
            "\n",
            "         6        462           40.42\n",
            "\n",
            "         7        143           12.51\n",
            "\n",
            "         4         33            2.89\n",
            "\n",
            "         8         16             1.4\n",
            "\n",
            "         3          6            0.52\n"
          ]
        }
      ]
    },
    {
      "cell_type": "markdown",
      "source": [
        "The distribution of classes is highly imbalanced so the balancing of the classes will be performed."
      ],
      "metadata": {
        "id": "Y8Cz94vHYQ7v"
      }
    },
    {
      "cell_type": "markdown",
      "source": [
        "Since the 'quality' column is regarded as a cathegorical variable, in order to understand if the quality of the wine is changing with every input variable, which are all numerical, besides the visualization by histogram, box-plot and bar plot, the ANOVA test will be performed.\n",
        "\n",
        "ANOVA test  will indicate, especially when visualization is not giving unambiguous answer, weather the mean value of the input variable is varying significantly for at least two different cathegories. This will determine the input variable as a predictor for the quality of the wine class.\n",
        "\n"
      ],
      "metadata": {
        "id": "OMu5UjfjYazs"
      }
    },
    {
      "cell_type": "code",
      "source": [
        "#predictive power for the wine quality of each feature\n",
        "\n",
        "fig, ax = plt.subplots(nrows=7, ncols=3, figsize=(20,25))\n",
        "\n",
        "for i in range(0,7):\n",
        "  x = df.columns.values[i]\n",
        "  y = df['quality']\n",
        "  sns.kdeplot(x, data=df, hue=y, palette='bright', ax=ax[i,0])\n",
        "  sns.boxplot(y,x, data=df, palette='bright', ax=ax[i,1]) \n",
        "  sns.barplot(y,x, palette='bright', data=df,ax=ax[i,2]) \n",
        " \n",
        "plt.show() \n"
      ],
      "metadata": {
        "id": "8Bq4S7hcGlNi"
      },
      "execution_count": null,
      "outputs": []
    },
    {
      "cell_type": "markdown",
      "source": [
        "ANOVA test gives the result that the residual sugar is not predictor for this problem, so it will be dropped in further analyisis'"
      ],
      "metadata": {
        "id": "lANmWhIDO9pK"
      }
    },
    {
      "cell_type": "code",
      "source": [
        "for i in range(0, 6):\n",
        "  CategoryGroupLists=df.groupby('quality')[df.columns.values[i]].apply(list)\n",
        "  AnovaResults = f_oneway(*CategoryGroupLists)\n",
        "\n",
        "  print(f'Anova test P-Value for the variables quality and {df.columns.values[i]}: {round(AnovaResults[1],3)}')\n",
        "  "
      ],
      "metadata": {
        "colab": {
          "base_uri": "https://localhost:8080/"
        },
        "id": "0gSRlC2WMotn",
        "outputId": "ee37057e-9fab-48a5-f301-c23acb3dd10f"
      },
      "execution_count": 24,
      "outputs": [
        {
          "output_type": "stream",
          "name": "stdout",
          "text": [
            "Anova test P-Value for the variables quality and fixed acidity: 0.001\n",
            "Anova test P-Value for the variables quality and volatile acidity: 0.0\n",
            "Anova test P-Value for the variables quality and residual sugar: 0.291\n",
            "Anova test P-Value for the variables quality and chlorides: 0.003\n",
            "Anova test P-Value for the variables quality and free sulfur dioxide: 0.02\n",
            "Anova test P-Value for the variables quality and sulphates: 0.0\n"
          ]
        }
      ]
    },
    {
      "cell_type": "code",
      "source": [
        "df = df.drop('residual sugar', axis=1)\n",
        "df.shape\n"
      ],
      "metadata": {
        "colab": {
          "base_uri": "https://localhost:8080/"
        },
        "id": "W_DjPkiia3Y1",
        "outputId": "1e5b83eb-2be9-4eec-e813-fcd7a0f33bd0"
      },
      "execution_count": 25,
      "outputs": [
        {
          "output_type": "execute_result",
          "data": {
            "text/plain": [
              "(1143, 7)"
            ]
          },
          "metadata": {},
          "execution_count": 25
        }
      ]
    },
    {
      "cell_type": "markdown",
      "source": [
        "## Data Preprocessing"
      ],
      "metadata": {
        "id": "3rKS-m9_7gNU"
      }
    },
    {
      "cell_type": "markdown",
      "source": [
        "The cathegory 3 has only 6 observations. \n",
        "Since the Repeated Stratified KFold will be used for the model evaluation, the number of splits will be 10, there is not enough elements of the cathegory 3 for each split, so the classcathegory 3 will be neglected."
      ],
      "metadata": {
        "id": "c88u1ZkJZ18H"
      }
    },
    {
      "cell_type": "code",
      "source": [
        "# the class 3 has only 6 observations so we will neglect it\n",
        "df = df[df['quality']!=3]\n"
      ],
      "metadata": {
        "id": "04iS9JLYD3jg"
      },
      "execution_count": 26,
      "outputs": []
    },
    {
      "cell_type": "code",
      "source": [
        "df.shape\n"
      ],
      "metadata": {
        "colab": {
          "base_uri": "https://localhost:8080/"
        },
        "id": "1Q5llBGsEb31",
        "outputId": "bd2a26d5-e58f-43b5-92ac-64e3b0573559"
      },
      "execution_count": 27,
      "outputs": [
        {
          "output_type": "execute_result",
          "data": {
            "text/plain": [
              "(1137, 7)"
            ]
          },
          "metadata": {},
          "execution_count": 27
        }
      ]
    },
    {
      "cell_type": "markdown",
      "source": [
        "Balancing the dataset.\n",
        "\n",
        "Each class will be downsampled or upsampled to 227 samples (total number of samples divided by the number of classes)."
      ],
      "metadata": {
        "id": "85vJMjC77uJV"
      }
    },
    {
      "cell_type": "code",
      "source": [
        "# we will upsample and downsample the rest 5 classes because we have imbalanced dataset. we will have in each class 227 (1137//5)\n",
        "target = df['quality']\n",
        "\n",
        "features = df.iloc[:, :-1]\n",
        "i_class5 = np.where(target == 5)[0]\n",
        "i_class6 = np.where(target == 6)[0]\n",
        "print(i_class5.shape, i_class6.shape)\n",
        "\n",
        "n_class5 = len(i_class5)\n",
        "n_class6 = len(i_class6)\n",
        "\n",
        "i_class5_downsampled = np.random.choice(i_class5, size=227, replace=False)\n",
        "i_class6_downsampled = np.random.choice(i_class6, size=227, replace=False)\n",
        "\n",
        "np.hstack((target.iloc[i_class5_downsampled], target.iloc[i_class6_downsampled ]))\n",
        "np.vstack((features.iloc[i_class5_downsampled,:], features.iloc[i_class6_downsampled,:] ))\n"
      ],
      "metadata": {
        "colab": {
          "base_uri": "https://localhost:8080/"
        },
        "id": "c5VSummsErX8",
        "outputId": "bd095890-0c35-482a-a078-360b0ff9eeaf"
      },
      "execution_count": 28,
      "outputs": [
        {
          "output_type": "stream",
          "name": "stdout",
          "text": [
            "(483,) (462,)\n"
          ]
        },
        {
          "output_type": "execute_result",
          "data": {
            "text/plain": [
              "array([[ 9.3  ,  0.43 ,  0.085,  9.   ,  0.55 ,  9.5  ],\n",
              "       [ 9.9  ,  0.54 ,  0.071, 16.   ,  0.62 ,  9.4  ],\n",
              "       [ 9.5  ,  0.86 ,  0.079, 13.   ,  0.62 , 10.   ],\n",
              "       ...,\n",
              "       [11.9  ,  0.38 ,  0.121,  7.   ,  0.76 , 10.4  ],\n",
              "       [ 7.7  ,  0.6  ,  0.079, 19.   ,  0.62 , 10.1  ],\n",
              "       [ 7.1  ,  0.75 ,  0.059, 11.   ,  0.4  , 12.8  ]])"
            ]
          },
          "metadata": {},
          "execution_count": 28
        }
      ]
    },
    {
      "cell_type": "code",
      "source": [
        "i_class4 = np.where(target == 4)[0]\n",
        "i_class7 = np.where(target == 7)[0]\n",
        "i_class8 = np.where(target == 8)[0]\n",
        "\n",
        "i_class4_upsampled = np.random.choice(i_class4, size=227, replace=True)\n",
        "i_class7_upsampled = np.random.choice(i_class7, size=227, replace=True)\n",
        "i_class8_upsampled = np.random.choice(i_class8, size=227, replace=True)\n",
        "\n",
        "np.concatenate((target.iloc[i_class4_upsampled], target.iloc[i_class7_upsampled ], target.iloc[i_class8_upsampled]))\n",
        "\n",
        "np.vstack((features.iloc[i_class4_upsampled, :], features.iloc[i_class7_upsampled, :], features.iloc[i_class8_upsampled, :] ))\n"
      ],
      "metadata": {
        "colab": {
          "base_uri": "https://localhost:8080/"
        },
        "id": "7fHQSZ_3E8bX",
        "outputId": "eb1f145f-b42e-49f0-9bd1-6402b446a630"
      },
      "execution_count": 29,
      "outputs": [
        {
          "output_type": "execute_result",
          "data": {
            "text/plain": [
              "array([[ 7.3  ,  0.35 ,  0.067, 28.   ,  0.54 , 10.   ],\n",
              "       [ 7.5  ,  0.38 ,  0.073, 22.   ,  0.7  ,  9.6  ],\n",
              "       [ 6.2  ,  0.785,  0.06 ,  6.   ,  0.61 , 10.   ],\n",
              "       ...,\n",
              "       [11.3  ,  0.62 ,  0.086,  6.   ,  0.69 , 13.4  ],\n",
              "       [ 7.2  ,  0.33 ,  0.061,  3.   ,  1.1  , 10.   ],\n",
              "       [10.7  ,  0.35 ,  0.07 ,  5.   ,  0.65 , 11.   ]])"
            ]
          },
          "metadata": {},
          "execution_count": 29
        }
      ]
    },
    {
      "cell_type": "code",
      "source": [
        "y = np.concatenate((target.iloc[i_class4_upsampled], \n",
        "                    target.iloc[i_class7_upsampled], \n",
        "                    target.iloc[i_class8_upsampled],\n",
        "                    target.iloc[i_class5_downsampled], \n",
        "                    target.iloc[i_class6_downsampled])\n",
        ")\n",
        "\n",
        "X = np.vstack((features.iloc[i_class4_upsampled, :],\n",
        "               features.iloc[i_class7_upsampled, :], \n",
        "               features.iloc[i_class8_upsampled, :],\n",
        "               features.iloc[i_class5_downsampled, :],\n",
        "               features.iloc[i_class6_downsampled, :]\n",
        "))\n"
      ],
      "metadata": {
        "id": "o8IJ0oQBFEyq"
      },
      "execution_count": 30,
      "outputs": []
    },
    {
      "cell_type": "code",
      "source": [
        "\n",
        "fig, ax = plt.subplots(nrows=1, ncols=6, figsize=(20,10))\n",
        "\n",
        "\n",
        "for i in range(0,6):\n",
        "  sns.kdeplot(data=df, x=df.columns.values[i], hue='quality', palette='bright', ax=ax[i], warn_singular=False)\n",
        "plt.show()\n"
      ],
      "metadata": {
        "colab": {
          "base_uri": "https://localhost:8080/",
          "height": 445
        },
        "id": "zI2OUprUnQcR",
        "outputId": "aaa9cd5d-555a-4c4d-a878-b528f3bb9c58"
      },
      "execution_count": 31,
      "outputs": [
        {
          "output_type": "display_data",
          "data": {
            "text/plain": [
              "<Figure size 1440x720 with 6 Axes>"
            ],
            "image/png": "[encoded data removed]"
          },
          "metadata": {
            "needs_background": "light"
          }
        }
      ]
    },
    {
      "cell_type": "markdown",
      "source": [
        "Because of the skewed input variables the model will be selected and evaluated for two scaling options, Standards Scaler and Power Transform."
      ],
      "metadata": {
        "id": "ZZUH9YP-7T1o"
      }
    },
    {
      "cell_type": "markdown",
      "source": [
        "#Model Selection"
      ],
      "metadata": {
        "id": "zz2XAZyZ8q9r"
      }
    },
    {
      "cell_type": "code",
      "source": [
        "def evaluate_model(X, y, model):\n",
        "\trskf = RepeatedStratifiedKFold(n_splits=10, n_repeats=3, random_state=1)\n",
        "\tscores = cross_val_score(model, X, y, scoring='accuracy', cv=rskf, n_jobs=-1)\n",
        "\treturn scores\n",
        "\t"
      ],
      "metadata": {
        "id": "po5hPNh9FdAq"
      },
      "execution_count": 32,
      "outputs": []
    },
    {
      "cell_type": "code",
      "source": [
        "X_train, X_test, y_train, y_test = train_test_split(X, y, test_size=0.2, random_state=1, shuffle=True)\n"
      ],
      "metadata": {
        "id": "Tmeqt7e2K_db"
      },
      "execution_count": 33,
      "outputs": []
    },
    {
      "cell_type": "markdown",
      "source": [
        "Scaling data using Standard Scaler."
      ],
      "metadata": {
        "id": "T22UwyISRC1P"
      }
    },
    {
      "cell_type": "code",
      "source": [
        "scaler = preprocessing.StandardScaler()\n",
        "le = preprocessing.LabelEncoder()\n",
        "\n",
        "X_train = scaler.fit_transform(X_train)\n",
        "y_train = le.fit_transform(y_train)\n",
        "\n",
        "X_test = scaler.transform(X_test)\n",
        "y_test = le.transform(y_test)\n"
      ],
      "metadata": {
        "id": "-jtkyFq0FQzf"
      },
      "execution_count": 34,
      "outputs": []
    },
    {
      "cell_type": "markdown",
      "source": [
        "Scaling data using the Power Transform."
      ],
      "metadata": {
        "id": "dN44FwHDRIKn"
      }
    },
    {
      "cell_type": "code",
      "source": [
        "X_train_pt, X_test_pt, y_train_pt, y_test_pt = train_test_split(X, y, test_size=0.2, random_state=1, shuffle=True)\n"
      ],
      "metadata": {
        "id": "jNn9c8J73C1H"
      },
      "execution_count": 35,
      "outputs": []
    },
    {
      "cell_type": "code",
      "source": [
        "pt = PowerTransformer(method='yeo-johnson', standardize=True, copy=True)\n",
        "le_pt = preprocessing.LabelEncoder()\n",
        "\n",
        "X_train_pt = pt.fit_transform(X_train_pt)\n",
        "y_train_pt = le_pt.fit_transform(y_train)\n",
        "\n",
        "X_test_pt = pt.fit_transform(X_test_pt)\n",
        "y_test_pt = le_pt.fit_transform(y_test)"
      ],
      "metadata": {
        "id": "F5XQL7Nw2J23"
      },
      "execution_count": 36,
      "outputs": []
    },
    {
      "cell_type": "markdown",
      "source": [
        "The below listed models will be evaluated on the training set, for the two scaling options."
      ],
      "metadata": {
        "id": "iYp0E9iS7rN3"
      }
    },
    {
      "cell_type": "code",
      "source": [
        "models = [LogisticRegression(random_state=0, multi_class=\"ovr\"),\n",
        "\tLogisticRegression(solver='lbfgs', multi_class='multinomial'),\n",
        "\tLinearDiscriminantAnalysis(),\n",
        "\tLinearSVC(),\n",
        "\tKNeighborsClassifier(n_neighbors=1),\n",
        "\tGaussianProcessClassifier(),\n",
        "\tOneVsRestClassifier(SVC()),\n",
        "\tBaggingClassifier(n_estimators = 1000),\n",
        "\tRandomForestClassifier(n_estimators=1000),\n",
        "\tExtraTreesClassifier(n_estimators=1000)\n",
        "\t]\n",
        "models_shortname =['LROVR','LR','LDA', 'SVM','KNN','GP','OVR_SVC', 'EBB', 'RF', 'ET']\n",
        "models, models_shortname \n",
        "\n"
      ],
      "metadata": {
        "colab": {
          "base_uri": "https://localhost:8080/"
        },
        "id": "ruyTSdo_mIR-",
        "outputId": "dee761f6-1064-4bb7-ff99-4aba32ee6d7b"
      },
      "execution_count": 37,
      "outputs": [
        {
          "output_type": "execute_result",
          "data": {
            "text/plain": [
              "([LogisticRegression(multi_class='ovr', random_state=0),\n",
              "  LogisticRegression(multi_class='multinomial'),\n",
              "  LinearDiscriminantAnalysis(),\n",
              "  LinearSVC(),\n",
              "  KNeighborsClassifier(n_neighbors=1),\n",
              "  GaussianProcessClassifier(),\n",
              "  OneVsRestClassifier(estimator=SVC()),\n",
              "  BaggingClassifier(n_estimators=1000),\n",
              "  RandomForestClassifier(n_estimators=1000),\n",
              "  ExtraTreesClassifier(n_estimators=1000)],\n",
              " ['LROVR', 'LR', 'LDA', 'SVM', 'KNN', 'GP', 'OVR_SVC', 'EBB', 'RF', 'ET'])"
            ]
          },
          "metadata": {},
          "execution_count": 37
        }
      ]
    },
    {
      "cell_type": "code",
      "source": [
        "results = list()\n",
        "\n",
        "for item in models:\n",
        "\tscores = evaluate_model(X_train, y_train, item)\n",
        "\tresults.append(scores)\n",
        "\t\n",
        "\tprint(f'>{item}\\t Mean Accuracy: {np.mean(scores):.3f}\\t Standard Deviation:{np.std(scores):.3f}')\n",
        "plt.boxplot(results, labels=models_shortname, showmeans=True)\n",
        "plt.show()\n"
      ],
      "metadata": {
        "colab": {
          "base_uri": "https://localhost:8080/",
          "height": 443
        },
        "id": "xI67n9fTF37q",
        "outputId": "6e3ba15c-9809-4926-bb92-e93f39a7fdb4"
      },
      "execution_count": 38,
      "outputs": [
        {
          "output_type": "stream",
          "name": "stdout",
          "text": [
            ">LogisticRegression(multi_class='ovr', random_state=0)\t Mean Accuracy: 0.463\t Standard Deviation:0.057\n",
            ">LogisticRegression(multi_class='multinomial')\t Mean Accuracy: 0.458\t Standard Deviation:0.056\n",
            ">LinearDiscriminantAnalysis()\t Mean Accuracy: 0.470\t Standard Deviation:0.059\n",
            ">LinearSVC()\t Mean Accuracy: 0.463\t Standard Deviation:0.040\n",
            ">KNeighborsClassifier(n_neighbors=1)\t Mean Accuracy: 0.784\t Standard Deviation:0.036\n",
            ">GaussianProcessClassifier()\t Mean Accuracy: 0.691\t Standard Deviation:0.046\n",
            ">OneVsRestClassifier(estimator=SVC())\t Mean Accuracy: 0.632\t Standard Deviation:0.043\n",
            ">BaggingClassifier(n_estimators=1000)\t Mean Accuracy: 0.798\t Standard Deviation:0.034\n",
            ">RandomForestClassifier(n_estimators=1000)\t Mean Accuracy: 0.806\t Standard Deviation:0.038\n",
            ">ExtraTreesClassifier(n_estimators=1000)\t Mean Accuracy: 0.831\t Standard Deviation:0.029\n"
          ]
        },
        {
          "output_type": "display_data",
          "data": {
            "text/plain": [
              "<Figure size 432x288 with 1 Axes>"
            ],
            "image/png": "[encoded data removed]"
          },
          "metadata": {
            "needs_background": "light"
          }
        }
      ]
    },
    {
      "cell_type": "markdown",
      "source": [
        "Evaluation of models on the training set scaled by Power Transform."
      ],
      "metadata": {
        "id": "FU1bhq2f9qwb"
      }
    },
    {
      "cell_type": "code",
      "source": [
        "results = list()\n",
        "\n",
        "\n",
        "for item in models:\n",
        "\tscores = evaluate_model(X_train_pt, y_train_pt, item)\n",
        "\tresults.append(scores)\n",
        "\t\n",
        "\tprint(f'>{item}\\t Mean Accuracy: {np.mean(scores):.3f}\\t Standard Deviation:{np.std(scores):.3f}')\n",
        "plt.boxplot(results, labels=models_shortname, showmeans=True)\n",
        "plt.show()"
      ],
      "metadata": {
        "colab": {
          "base_uri": "https://localhost:8080/",
          "height": 443
        },
        "id": "OLgXIC-z3p9g",
        "outputId": "211a3a6e-073c-4f26-ac79-290726c03d27"
      },
      "execution_count": 39,
      "outputs": [
        {
          "output_type": "stream",
          "name": "stdout",
          "text": [
            ">LogisticRegression(multi_class='ovr', random_state=0)\t Mean Accuracy: 0.468\t Standard Deviation:0.046\n",
            ">LogisticRegression(multi_class='multinomial')\t Mean Accuracy: 0.478\t Standard Deviation:0.052\n",
            ">LinearDiscriminantAnalysis()\t Mean Accuracy: 0.504\t Standard Deviation:0.050\n",
            ">LinearSVC()\t Mean Accuracy: 0.463\t Standard Deviation:0.040\n",
            ">KNeighborsClassifier(n_neighbors=1)\t Mean Accuracy: 0.779\t Standard Deviation:0.040\n",
            ">GaussianProcessClassifier()\t Mean Accuracy: 0.710\t Standard Deviation:0.037\n",
            ">OneVsRestClassifier(estimator=SVC())\t Mean Accuracy: 0.648\t Standard Deviation:0.037\n",
            ">BaggingClassifier(n_estimators=1000)\t Mean Accuracy: 0.797\t Standard Deviation:0.035\n",
            ">RandomForestClassifier(n_estimators=1000)\t Mean Accuracy: 0.809\t Standard Deviation:0.038\n",
            ">ExtraTreesClassifier(n_estimators=1000)\t Mean Accuracy: 0.833\t Standard Deviation:0.034\n"
          ]
        },
        {
          "output_type": "display_data",
          "data": {
            "text/plain": [
              "<Figure size 432x288 with 1 Axes>"
            ],
            "image/png": "[encoded data removed]"
          },
          "metadata": {
            "needs_background": "light"
          }
        }
      ]
    },
    {
      "cell_type": "markdown",
      "source": [
        "## Model Evaluation"
      ],
      "metadata": {
        "id": "L8qzUV4h88fN"
      }
    },
    {
      "cell_type": "markdown",
      "source": [
        "Evaluation of the models that performed with about 80% scoring accuracy on the test set using the features scaled with the Standard Scaler."
      ],
      "metadata": {
        "id": "bNSKCD-Q-JwB"
      }
    },
    {
      "cell_type": "code",
      "source": [
        "models_test = [\n",
        "\tKNeighborsClassifier(n_neighbors=1),\n",
        "\tGaussianProcessClassifier(),\n",
        "\tBaggingClassifier(n_estimators = 1000),\n",
        "\tRandomForestClassifier(n_estimators=1000),\n",
        "\tExtraTreesClassifier(n_estimators=1000)\n",
        "\t]\n",
        "models_shortname =['KNN','GP', 'EBB', 'RF', 'ET']\n",
        "models, models_shortname \n"
      ],
      "metadata": {
        "colab": {
          "base_uri": "https://localhost:8080/"
        },
        "id": "ZAPOUPgcSrgO",
        "outputId": "f709689d-c07f-4860-b294-00ba01b92d37"
      },
      "execution_count": 40,
      "outputs": [
        {
          "output_type": "execute_result",
          "data": {
            "text/plain": [
              "([LogisticRegression(multi_class='ovr', random_state=0),\n",
              "  LogisticRegression(multi_class='multinomial'),\n",
              "  LinearDiscriminantAnalysis(),\n",
              "  LinearSVC(),\n",
              "  KNeighborsClassifier(n_neighbors=1),\n",
              "  GaussianProcessClassifier(),\n",
              "  OneVsRestClassifier(estimator=SVC()),\n",
              "  BaggingClassifier(n_estimators=1000),\n",
              "  RandomForestClassifier(n_estimators=1000),\n",
              "  ExtraTreesClassifier(n_estimators=1000)],\n",
              " ['KNN', 'GP', 'EBB', 'RF', 'ET'])"
            ]
          },
          "metadata": {},
          "execution_count": 40
        }
      ]
    },
    {
      "cell_type": "code",
      "source": [
        "results_final = list()\n",
        "\n",
        "# evaluate each model\n",
        "for model in models_test:\n",
        "  model.fit(X_train, y_train)\n",
        "  y_pred = model.predict(X_test)\n",
        "  accuracy_score(y_test, y_pred)\n",
        "  results_final.append(accuracy_score(y_test, y_pred))\n",
        "  print( f\"The accuracy with {model} and standard scaler: {round(accuracy_score(y_test, y_pred), 2)}\") \n",
        "  "
      ],
      "metadata": {
        "id": "2A83XZp451y1",
        "colab": {
          "base_uri": "https://localhost:8080/"
        },
        "outputId": "e1607a6e-9197-4f00-ef72-600d0bdff539"
      },
      "execution_count": 41,
      "outputs": [
        {
          "output_type": "stream",
          "name": "stdout",
          "text": [
            "The accuracy with KNeighborsClassifier(n_neighbors=1) and standard scaler: 0.77\n",
            "The accuracy with GaussianProcessClassifier() and standard scaler: 0.68\n",
            "The accuracy with BaggingClassifier(n_estimators=1000) and standard scaler: 0.79\n",
            "The accuracy with RandomForestClassifier(n_estimators=1000) and standard scaler: 0.79\n",
            "The accuracy with ExtraTreesClassifier(n_estimators=1000) and standard scaler: 0.81\n"
          ]
        }
      ]
    },
    {
      "cell_type": "markdown",
      "source": [
        ""
      ],
      "metadata": {
        "id": "LDrn23QD-MQw"
      }
    },
    {
      "cell_type": "markdown",
      "source": [
        "Evaluation of the models that performed with about 80% scoring accuracy on the test set using the features scaled with the Power Transform."
      ],
      "metadata": {
        "id": "m4F44MBh-SK9"
      }
    },
    {
      "cell_type": "code",
      "source": [
        "results_pt = list()\n",
        "for model_pt in models_test:\n",
        "  model_pt.fit(X_train_pt, y_train_pt)\n",
        "  y_pred_pt = model_pt.predict(X_test_pt)\n",
        "  accuracy_score(y_test_pt, y_pred_pt)\n",
        "  results_pt.append(accuracy_score(y_test_pt, y_pred_pt))\n",
        "  print( f\"The accuracy with {model_pt} and power transform: {round(accuracy_score(y_test_pt, y_pred_pt), 2)}\") \n"
      ],
      "metadata": {
        "id": "7tK_XOr1lwzD",
        "colab": {
          "base_uri": "https://localhost:8080/"
        },
        "outputId": "ae1e5ae9-d1f1-4974-b9a9-8d0db6af076d"
      },
      "execution_count": 42,
      "outputs": [
        {
          "output_type": "stream",
          "name": "stdout",
          "text": [
            "The accuracy with KNeighborsClassifier(n_neighbors=1) and power transform: 0.78\n",
            "The accuracy with GaussianProcessClassifier() and power transform: 0.72\n",
            "The accuracy with BaggingClassifier(n_estimators=1000) and power transform: 0.68\n",
            "The accuracy with RandomForestClassifier(n_estimators=1000) and power transform: 0.7\n",
            "The accuracy with ExtraTreesClassifier(n_estimators=1000) and power transform: 0.7\n"
          ]
        }
      ]
    },
    {
      "cell_type": "markdown",
      "source": [
        "## Conclusions\n",
        "\n",
        "We can see that the models:\n",
        "\n",
        " \n",
        "\n",
        " \n",
        "\n",
        "\n",
        "*   BaggingClassifier(n_estimators=1000)\n",
        "*   RandomForestClassifier(n_estimators=1000) \n",
        "*   ExtraTreesClassifier(n_estimators=1000)\n",
        "\n",
        "\n",
        "\n",
        "have accuracy about 80% on the train and the test set.\n",
        "\n",
        "The results are different using Standard Scaler or Power Transform. Standard Scaler transformation gave the better results.\n",
        "\n",
        "The best accuracy achieved, 82%, is with ExtraTreesClassifier(n_estimators=1000) and data transformed using Standard Scaler."
      ],
      "metadata": {
        "id": "7pRLyU-ZDdEK"
      }
    }
  ]
}