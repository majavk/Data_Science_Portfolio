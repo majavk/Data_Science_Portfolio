{
  "cells": [
    {
      "cell_type": "markdown",
      "metadata": {
        "id": "view-in-github",
        "colab_type": "text"
      },
      "source": [
        "<a href=\"https://colab.research.google.com/github/majavk/Data_Science_Portfolio/blob/main/Copy_of_MVK__Exercise_in_ML.ipynb\" target=\"_parent\"><img src=\"https://colab.research.google.com/assets/colab-badge.svg\" alt=\"Open In Colab\"/></a>"
      ]
    },
    {
      "cell_type": "code",
      "execution_count": null,
      "metadata": {
        "id": "LNO3Ig3QTplO"
      },
      "outputs": [],
      "source": [
        "\n",
        "#                                     ________  _______  _________  ___  ___  ________   \n",
        "#                                    |\\   ____\\|\\  ___ \\|\\___   ___\\\\  \\|\\  \\|\\   __  \\  \n",
        "#                                    \\ \\  \\___|\\ \\   __/\\|___ \\  \\_\\ \\  \\\\\\  \\ \\  \\|\\  \\ \n",
        "#                                     \\ \\_____  \\ \\  \\_|/__  \\ \\  \\ \\ \\  \\\\\\  \\ \\   ____\\\n",
        "#                                      \\|____|\\  \\ \\  \\_|\\ \\  \\ \\  \\ \\ \\  \\\\\\  \\ \\  \\___|\n",
        "#                                        ____\\_\\  \\ \\_______\\  \\ \\__\\ \\ \\_______\\ \\__\\   \n",
        "#                                       |\\_________\\|_______|   \\|__|  \\|_______|\\|__|   \n",
        "#                                       \\|_________|                                     \n",
        "\n",
        "\n",
        "# Import of libraries and access of Colab to Google account\n",
        "\n",
        "from google.colab import auth\n",
        "auth.authenticate_user()\n",
        "import gspread\n",
        "from google.auth import default\n",
        "creds, _ = default()\n",
        "gc = gspread.authorize(creds)\n",
        "\n",
        "# import libraries\n",
        "#input DATA\n",
        "\n",
        "import numpy as np            #for manipulating vectors\n",
        "import pandas as pd           #per manipulating dataframes\n",
        "\n",
        "# graphs, figures\n",
        "\n",
        "import matplotlib.pyplot as plt #for plots\n",
        "import seaborn as sns # for confusion matrix figures\n",
        "\n",
        "#machine learning tools\n",
        "\n",
        "from sklearn.tree import DecisionTreeClassifier\n",
        "from sklearn.pipeline import Pipeline\n",
        "from sklearn.preprocessing import StandardScaler,RobustScaler\n",
        "from sklearn.feature_selection import SelectFromModel\n",
        "from sklearn.ensemble import RandomForestClassifier, ExtraTreesClassifier        # ensemble machine learning model with bagging\n",
        "import xgboost as xgb      # import XGBoostClassifier, ensemble machine learning model with boosting \n",
        "from sklearn.svm import SVC #support vector machines\n",
        "from sklearn.neural_network import MLPClassifier # neural network\n",
        "from sklearn.decomposition import PCA\n",
        "\n",
        "from sklearn import feature_selection #various feature selection\n",
        "import collections\n",
        "from imblearn.over_sampling import SMOTE # SMOTE oversampling\n",
        "\n",
        "# tools for assessing the model\n",
        "\n",
        "from sklearn.metrics import classification_report, confusion_matrix, accuracy_score, precision_score, recall_score, f1_score, accuracy_score, roc_curve, auc # tools to evaluate  your model performance\n",
        "from sklearn.model_selection import train_test_split, cross_val_score, KFold,cross_val_predict, GridSearchCV   # other tools for model performance, specific for cross-validation\n",
        "from sklearn.model_selection import cross_val_score\n",
        "import time\n",
        "\n",
        "\n",
        "\n"
      ]
    },
    {
      "cell_type": "code",
      "execution_count": null,
      "metadata": {
        "id": "5eJokp13gFYu",
        "colab": {
          "base_uri": "https://localhost:8080/"
        },
        "outputId": "bf5a0a8f-8e0d-4f50-e8cb-50fed1c807cd"
      },
      "outputs": [
        {
          "output_type": "execute_result",
          "data": {
            "text/plain": [
              "(0.568870523415978, 0.43112947658402206)"
            ]
          },
          "metadata": {},
          "execution_count": 7
        }
      ],
      "source": [
        "#\n",
        "#                                     _____                  _         _       _        \n",
        "#                                    |_   _|                | |       | |     | |       \n",
        "#                                      | | _ __  _ __  _   _| |_    __| | __ _| |_ __\n",
        "#                                      | || '_ \\| '_ \\| | | | __|  / _` |/ _` | __/ _` |\n",
        "#                                     _| || | | | |_) | |_| | |_  | (_| | (_| | || (_| |\n",
        "#                                     \\___/_| |_| .__/ \\__,_|\\__|  \\__,_|\\__,_|\\__\\__,_|\n",
        "#                                               | |                                     \n",
        "#                                               |_|                                     \n",
        "\n",
        "#Choice of the dataSET to analyse\n",
        "\n",
        "#dataset='Wisconsin'            \n",
        "dataset='HPV'\n",
        "#dataset='EGFR'\n",
        "\n",
        "# lettura del set di dati da foglio Google Sheets\n",
        "\n",
        "sht = gc.open_by_url('https://docs.google.com/spreadsheets/d/1lEOCQHOmD3RXbkS0kQbfZ7oDytiCrLsR_NjGPjYMBbU/edit?usp=sharing')\n",
        "Wisconsin = sht.worksheet(dataset+'Data');data = pd.DataFrame(Wisconsin.get_all_records())\n",
        "data = data.fillna(method='ffill') # \n",
        "Y = data['outcome']        # outcome\n",
        "X = data.drop('outcome', axis=1)    # features\n",
        "np.mean(Y), np.mean(1-Y)"
      ]
    },
    {
      "cell_type": "code",
      "source": [
        "X.shape"
      ],
      "metadata": {
        "colab": {
          "base_uri": "https://localhost:8080/"
        },
        "id": "f2A0sB2iQOGs",
        "outputId": "1cbbe88a-1cc2-4827-82b9-29898cf21c4e"
      },
      "execution_count": null,
      "outputs": [
        {
          "output_type": "execute_result",
          "data": {
            "text/plain": [
              "(726, 49)"
            ]
          },
          "metadata": {},
          "execution_count": 8
        }
      ]
    },
    {
      "cell_type": "code",
      "execution_count": null,
      "metadata": {
        "id": "UVL4peoEpoPF",
        "colab": {
          "base_uri": "https://localhost:8080/"
        },
        "outputId": "2afd7ce3-59a6-4ce4-e89c-95a7c830d386"
      },
      "outputs": [
        {
          "output_type": "stream",
          "name": "stdout",
          "text": [
            "Train set without SMOTE:  Counter({1: 288, 0: 220})\n",
            "Train set with SMOTE:  Counter({1: 288, 0: 288})\n"
          ]
        }
      ],
      "source": [
        "#split the dataset into train and test datasets and check if your dataset is balanced\n",
        "X_train, X_test, Y_train, Y_test = train_test_split (X, Y, test_size = 0.30, random_state=21); print(\"Train set without SMOTE: \", collections.Counter(Y_train))\n",
        "\n",
        "sm = SMOTE(random_state=15);stringSMOTE='no'\n",
        "\n",
        "# line to add SMOTE oversampling, uncomment to apply SMOTE:\n",
        "\n",
        "X_train, Y_train = sm.fit_resample(X_train, Y_train);print(\"Train set with SMOTE: \", collections.Counter(Y_train));stringSMOTE='yes'"
      ]
    },
    {
      "cell_type": "code",
      "source": [
        "collections.Counter(Y_train)"
      ],
      "metadata": {
        "colab": {
          "base_uri": "https://localhost:8080/"
        },
        "id": "FZrv3j1XDozb",
        "outputId": "ffd97ba2-0888-4192-8197-7c58ac4d3a18"
      },
      "execution_count": null,
      "outputs": [
        {
          "output_type": "execute_result",
          "data": {
            "text/plain": [
              "Counter({1: 288, 0: 288})"
            ]
          },
          "metadata": {},
          "execution_count": 10
        }
      ]
    },
    {
      "cell_type": "code",
      "source": [
        "X_train.shape"
      ],
      "metadata": {
        "colab": {
          "base_uri": "https://localhost:8080/"
        },
        "id": "RmUTUJhRDyVt",
        "outputId": "1d5f8489-b326-4ee2-8662-76970ce90ece"
      },
      "execution_count": null,
      "outputs": [
        {
          "output_type": "execute_result",
          "data": {
            "text/plain": [
              "(576, 49)"
            ]
          },
          "metadata": {},
          "execution_count": 11
        }
      ]
    },
    {
      "cell_type": "code",
      "execution_count": null,
      "metadata": {
        "id": "s635Dglwgtqp"
      },
      "outputs": [],
      "source": [
        "#                                       (_) _     _ (_)(_)                                                                (_)               (_)(_)         \n",
        "#                                       (_)(_)   (_)(_)(_)                       _  _   _  _       _  _  _        _  _  _ (_)   _  _  _  _     (_)         \n",
        "#                                       (_) (_)_(_) (_)(_)                      (_)(_)_(_)(_)   _ (_)(_)(_) _   _(_)(_)(_)(_)  (_)(_)(_)(_)_   (_)         \n",
        "#                                       (_)   (_)   (_)(_)                     (_)   (_)   (_) (_)         (_) (_)        (_) (_) _  _  _ (_)  (_)         \n",
        "#                                       (_)         (_)(_)                     (_)   (_)   (_) (_)         (_) (_)        (_) (_)(_)(_)(_)(_)  (_)         \n",
        "#                                       (_)         (_)(_) _  _  _  _          (_)   (_)   (_) (_) _  _  _ (_) (_)_  _  _ (_) (_)_  _  _  _  _ (_) _       \n",
        "#                                       (_)         (_)(_)(_)(_)(_)(_)         (_)   (_)   (_)    (_)(_)(_)      (_)(_)(_)(_)   (_)(_)(_)(_)(_)(_)(_)\n",
        "\n",
        "# building the ML PIPELINE\n",
        "#pca = PCA()\n",
        "#choice of classifier\n",
        "#clf = MLPClassifier(hidden_layer_sizes=(15,))    #choose one of the following:RandomForestClassifier(), DecisionTreeClassifier(), xgb.sklearn.XGBClassifier() , ExtraTreesClassifier(), SVC(probability=True), MLPClassifier(hidden_layer_sizes=(15,))\n",
        "clf=MLPClassifier(hidden_layer_sizes=(15,))\n",
        "\n",
        "#choose scaler\n",
        "#scaler= StandardScaler()\n",
        "scaler= RobustScaler()\n",
        "\n",
        "#choice of feature selection\n",
        "#f5 = feature_selection.RFE(estimator=clf,step=1)        #RFE sequentially eliminates features based on their importance. Requires a classifier which can estimate predictor importance (eg. decision trees)\n",
        "#f5 = feature_selection.SequentialFeatureSelector(estimator=clf,direction='forward') ## sequentially adds features. slow...\n",
        "#f5 = feature_selection.SequentialFeatureSelector(estimator=clf,direction='backward') ## sequentially removes features\n",
        "f5 = SelectFromModel(estimator=DecisionTreeClassifier())  # selects features according to importance, requires classifier estimating importance\n",
        "\n",
        "# let's build the pipeline\n",
        "pipe = Pipeline([('scaler', scaler),('FS', f5),('clf', clf)])\n",
        "#pipe = Pipeline([('pca', pca),('FS', f5),('clf', clf)])\n",
        "# to add pca:\n",
        "#('pca', pca)\n",
        "\n"
      ]
    },
    {
      "cell_type": "code",
      "execution_count": null,
      "metadata": {
        "id": "AuPEcLG81Gyc",
        "colab": {
          "base_uri": "https://localhost:8080/"
        },
        "outputId": "1bfcf7b9-1fff-45df-9abb-491bce1a7f2c"
      },
      "outputs": [
        {
          "output_type": "stream",
          "name": "stdout",
          "text": [
            "dict_keys(['memory', 'steps', 'verbose', 'scaler', 'FS', 'clf', 'scaler__copy', 'scaler__quantile_range', 'scaler__unit_variance', 'scaler__with_centering', 'scaler__with_scaling', 'FS__estimator__ccp_alpha', 'FS__estimator__class_weight', 'FS__estimator__criterion', 'FS__estimator__max_depth', 'FS__estimator__max_features', 'FS__estimator__max_leaf_nodes', 'FS__estimator__min_impurity_decrease', 'FS__estimator__min_samples_leaf', 'FS__estimator__min_samples_split', 'FS__estimator__min_weight_fraction_leaf', 'FS__estimator__random_state', 'FS__estimator__splitter', 'FS__estimator', 'FS__importance_getter', 'FS__max_features', 'FS__norm_order', 'FS__prefit', 'FS__threshold', 'clf__activation', 'clf__alpha', 'clf__batch_size', 'clf__beta_1', 'clf__beta_2', 'clf__early_stopping', 'clf__epsilon', 'clf__hidden_layer_sizes', 'clf__learning_rate', 'clf__learning_rate_init', 'clf__max_fun', 'clf__max_iter', 'clf__momentum', 'clf__n_iter_no_change', 'clf__nesterovs_momentum', 'clf__power_t', 'clf__random_state', 'clf__shuffle', 'clf__solver', 'clf__tol', 'clf__validation_fraction', 'clf__verbose', 'clf__warm_start'])\n"
          ]
        }
      ],
      "source": [
        "print(pipe.get_params().keys())         # let's have a look to the hyperparameters in the pipeline"
      ]
    },
    {
      "cell_type": "code",
      "execution_count": null,
      "metadata": {
        "id": "39vrSLd4Cpd9",
        "colab": {
          "base_uri": "https://localhost:8080/"
        },
        "outputId": "89e26f39-fff4-43dc-a425-7b68c71ac1d6"
      },
      "outputs": [
        {
          "output_type": "stream",
          "name": "stdout",
          "text": [
            "{'FS__max_features': [5, 15, 30], 'clf__hidden_layer_sizes': [(20, 20)], 'clf__activation': ['relu', 'logistic'], 'clf__nesterovs_momentum': [True], 'clf__max_iter': [1000], 'clf__learning_rate': ['adaptive'], 'clf__shuffle': [True]}\n"
          ]
        }
      ],
      "source": [
        "# search for best performing hyperparameters:\n",
        "# first we define a grid of values for the hyperparameters. We define ranges of values for the number of selected features in the feature selection and then a parameter of the ML classifier\n",
        "#[3,5,10,20,30,40,45]\n",
        "param_grid_fs = {'FS__n_features_to_select': [5,15,30]};               #definition of the hyperparameters to tune, and range of values. \n",
        "if f5.__class__.__name__=='SelectFromModel':param_grid_fs = {'FS__max_features': [5,15,30]};      #for SelectFromModel use 'FS__max_features'\n",
        "param_grid_clf ={'clf__max_depth':[3,5,10,16]}\n",
        "if clf.__class__.__name__=='SVC': param_grid_clf = {'clf__C' : [0.5,1.0]}; #'EML__kernel' = ['poly', 'rbf', 'sigmoid'] #con kernel linear non permette feature importance\n",
        "#if clf.__class__.__name__=='XGBClassifier': param_grid_clf = {'clf__learning_rate': [(0.01,0.05,0.1,0.5,0.9)]}\n",
        "#if clf.__class__.__name__=='MLPClassifier': param_grid_clf = {'clf__hidden_layer_sizes': [(20,20), (10,10), (5,5)],'clf__activation': ['tanh', 'relu']}; \n",
        "if clf.__class__.__name__=='MLPClassifier': param_grid_clf = {'clf__hidden_layer_sizes': [(20,20)],'clf__activation': ['relu','logistic'],'clf__nesterovs_momentum': [True], 'clf__max_iter':[1000], \n",
        "                                                              'clf__learning_rate':['adaptive'], 'clf__shuffle':[True]};\n",
        "\n",
        "\n",
        "# let's combine the parameters into one grid\n",
        "param_grid = {**param_grid_fs, **param_grid_clf}\n",
        "#param_grid = {**param_grid_fs}\n",
        "\n",
        "print(param_grid) "
      ]
    },
    {
      "cell_type": "code",
      "execution_count": null,
      "metadata": {
        "id": "zPpdOcQbuC5B",
        "colab": {
          "base_uri": "https://localhost:8080/"
        },
        "outputId": "eb777881-745a-4a14-fd52-210b39e91d6a"
      },
      "outputs": [
        {
          "output_type": "stream",
          "name": "stdout",
          "text": [
            "Fitting 5 folds for each of 6 candidates, totalling 30 fits\n",
            "{'FS__max_features': 30, 'clf__activation': 'relu', 'clf__hidden_layer_sizes': (20, 20), 'clf__learning_rate': 'adaptive', 'clf__max_iter': 1000, 'clf__nesterovs_momentum': True, 'clf__shuffle': True}\n",
            "time taken to run: 47.21567306600002\n",
            "47.21567306600002\n"
          ]
        },
        {
          "output_type": "stream",
          "name": "stderr",
          "text": [
            "/usr/local/lib/python3.8/dist-packages/sklearn/neural_network/_multilayer_perceptron.py:692: ConvergenceWarning: Stochastic Optimizer: Maximum iterations (1000) reached and the optimization hasn't converged yet.\n",
            "  warnings.warn(\n"
          ]
        }
      ],
      "source": [
        "t1 = time.perf_counter()  # to measure the time required for optimization\n",
        "\n",
        "# search the set of hyperparameters providing the best result in 5-fold cross-validation \n",
        "search = GridSearchCV(pipe, param_grid, n_jobs=-1, cv=5, verbose=2) #define a search strategy\n",
        "rf_fit=search.fit(X_train, Y_train)\n",
        "\n",
        "# have a look at the optimal parameters found:\n",
        "print(search.best_params_)\n",
        "\n",
        "t2 = time.perf_counter(); print('time taken to run:',t2-t1)\n",
        "\n",
        "# best model:\n",
        "\n",
        "#rf_fit.best_estimator_\n",
        "\n",
        "print(t2-t1)"
      ]
    },
    {
      "cell_type": "code",
      "source": [
        "print(search.best_params_)"
      ],
      "metadata": {
        "colab": {
          "base_uri": "https://localhost:8080/"
        },
        "id": "Ccyl5JTHHyJi",
        "outputId": "811cc92d-6ef5-406f-f487-60300b53ac98"
      },
      "execution_count": null,
      "outputs": [
        {
          "output_type": "stream",
          "name": "stdout",
          "text": [
            "{'FS__max_features': 30, 'clf__activation': 'relu', 'clf__hidden_layer_sizes': (20, 20), 'clf__learning_rate': 'adaptive', 'clf__max_iter': 1000, 'clf__nesterovs_momentum': True, 'clf__shuffle': True}\n"
          ]
        }
      ]
    },
    {
      "cell_type": "code",
      "execution_count": null,
      "metadata": {
        "id": "C50qp2ZVaZYW",
        "colab": {
          "base_uri": "https://localhost:8080/",
          "height": 369
        },
        "outputId": "c1a952d6-e472-4bf8-cc12-2c9936c5c912"
      },
      "outputs": [
        {
          "output_type": "stream",
          "name": "stdout",
          "text": [
            "Accuracy: 0.706\n",
            "Precision: 0.744\n",
            "Recall (also termed sensitivity): 0.744\n",
            "Specificity (=recall of negative): 0.656\n"
          ]
        },
        {
          "output_type": "display_data",
          "data": {
            "text/plain": [
              "<Figure size 432x288 with 2 Axes>"
            ],
            "image/png": "[encoded data removed]"
          },
          "metadata": {
            "needs_background": "light"
          }
        }
      ],
      "source": [
        "\n",
        "                                                                                       \n",
        "                                                                                       \n",
        "#                                                              ,--,                                       ___               \n",
        "#                                           ,---.            ,--.'|     ,--,         ,---,              ,--.'|_             \n",
        "#                                          /__./|            |  | :   ,--.'|       ,---.'|              |  | :,'            \n",
        "#                                     ,---.;  ; |            :  : '   |  |,        |   | :              :  : ' :            \n",
        "#                                    /___/ \\  | |   ,--.--.  |  ' |   `--'_        |   | |   ,--.--.  .;__,'  /     ,---.   \n",
        "#                                    \\   ;  \\ ' |  /       \\ '  | |   ,' ,'|     ,--.__| |  /       \\ |  |   |     /     \\  \n",
        "#                                     \\   \\  \\: | .--.  .-. ||  | :   '  | |    /   ,'   | .--.  .-. |:__,'| :    /    /  | \n",
        "#                                      ;   \\  ' .  \\__\\/: . .'  : |__ |  | :   .   '  /  |  \\__\\/: . .  '  : |__ .    ' / | \n",
        "#                                       \\   \\   '  ,\" .--.; ||  | '.'|'  : |__ '   ; |:  |  ,\" .--.; |  |  | '.'|'   ;   /| \n",
        "#                                        \\   `  ; /  /  ,.  |;  :    ;|  | '.'||   | '/  ' /  /  ,.  |  ;  :    ;'   |  / | \n",
        "#                                         :   \\ |;  :   .'   \\  ,   / ;  :    ;|   :    :|;  :   .'   \\ |  ,   / |   :    | \n",
        "#                                          '---\" |  ,     .-./---`-'  |  ,   /  \\   \\  /  |  ,     .-./  ---`-'   \\   \\  /  \n",
        "#                                                 `--`---'             ---`-'    `----'    `--`---'                `----'   \n",
        "\n",
        "# Evaluation of Model PERFORMANCE in the test dataset\n",
        "\n",
        "# first we make predictions on the test dataset using the trained ML model:\n",
        "#predictions = rf_fit.best_estimator_.predict(X_test)\n",
        "predictions = rf_fit.predict(X_test)\n",
        "# we calculate accuracy, precision, recall and show the confusion matrix:\n",
        "\n",
        "com = confusion_matrix(Y_test,predictions)\n",
        "sns.heatmap(com,annot=True,fmt=\"d\")\n",
        "plt.xlabel('Predictions', fontsize=12)\n",
        "plt.ylabel('Actuals', fontsize=12)\n",
        "plt.title('Confusion Matrix in validation, '+clf.__class__.__name__, fontsize=12)\n",
        "\n",
        "print('Accuracy: %.3f' % accuracy_score(Y_test,predictions))\n",
        "print('Precision: %.3f' % precision_score(Y_test, predictions))\n",
        "print('Recall (also termed sensitivity): %.3f' % recall_score(Y_test, predictions))\n",
        "print('Specificity (=recall of negative): %.3f' % recall_score(Y_test, predictions,pos_label=0))"
      ]
    },
    {
      "cell_type": "code",
      "execution_count": null,
      "metadata": {
        "id": "qapSJWKa5Aey"
      },
      "outputs": [],
      "source": [
        "#ROC and AUC \n",
        "# For ROC curve, we need to convert the output of thw binary classifier into a continuous variable. Some ML models allow to calculate the probability of positivity:\n",
        "if clf.__class__.__name__!='SVC' and clf.__class__.__name__!='MLPClassifier':\n",
        "  y_prob = rf_fit.best_estimator_.predict_proba(X_test)\n",
        "  y_sorted = np.unique(Y)\n",
        "  indices = np.argmax(y_prob, axis=1)\n",
        "  # Get the label for each sample\n",
        "  y_pred = y_sorted[indices]\n",
        "\n",
        "  y_prob[:,0]\n",
        "  #graph of ROC (true positive vs false positive for decreasing threshold for discrimination)\n",
        "  false_positive_rate, true_positive_rate, thresholds = roc_curve(Y_test, y_prob[:,1])\n",
        "  roc_auc = auc(false_positive_rate, true_positive_rate)\n",
        "\n",
        "  plt.figure(figsize=(10,10));plt.title('Receiver Operating Characteristic, '+clf.__class__.__name__)\n",
        "  plt.plot(false_positive_rate,true_positive_rate, color='red',label = 'AUC = %0.2f' % roc_auc)\n",
        "  plt.legend(loc = 'lower right')\n",
        "  plt.plot([0, 1], [0, 1],linestyle='--')\n",
        "  plt.axis('tight');plt.ylabel('True Positive Rate');plt.xlabel('False Positive Rate')"
      ]
    },
    {
      "cell_type": "code",
      "execution_count": null,
      "metadata": {
        "id": "CAxpwkkgT6HU",
        "colab": {
          "base_uri": "https://localhost:8080/"
        },
        "outputId": "fef2b304-eb5c-4a59-9b45-82c84ee991cf"
      },
      "outputs": [
        {
          "output_type": "stream",
          "name": "stdout",
          "text": [
            "Index(['concave points_mean', 'texture_worst', 'perimeter_worst', 'area_worst',\n",
            "       'concave points_worst'],\n",
            "      dtype='object')\n"
          ]
        }
      ],
      "source": [
        "#\n",
        "#                                      _       _                           _        _       \n",
        "#                                     (_)     | |                         | |      | |      \n",
        "#                                      _ _ __ | |_ ___ _ __ _ __  _ __ ___| |_ __ _| |_ ___ \n",
        "#                                     | | '_ \\| __/ _ \\ '__| '_ \\| '__/ _ \\ __/ _` | __/ _ \\\n",
        "#                                     | | | | | ||  __/ |  | |_) | | |  __/ || (_| | ||  __/\n",
        "#                                     |_|_| |_|\\__\\___|_|  | .__/|_|  \\___|\\__\\__,_|\\__\\___|\n",
        "#                                                          | |                              \n",
        "#                                                          |_|                              \n",
        "\n",
        "# ML MODEL INTERPRETABILITY\n",
        "# which are the features selected by the FS for modelling?  \n",
        "\n",
        "feature_idx =search.best_estimator_.named_steps[\"FS\"].get_support()\n",
        "feature_name = X_train.columns[feature_idx]\n",
        "print(feature_name)\n",
        "\n",
        "# let's sort the features according to their importance in the model. Note that only some ML models allow importance estimation, among these all decision trees models.  \n",
        "\n",
        "if clf.__class__.__name__!='SVC' and clf.__class__.__name__!='MLPClassifier':\n",
        "\n",
        "# graph of feature importance\n",
        "  sorted_idx = search.best_estimator_.named_steps[\"clf\"].feature_importances_.argsort()\n",
        "  plt.barh(feature_name[sorted_idx], search.best_estimator_.named_steps[\"clf\"].feature_importances_[sorted_idx])\n",
        "  plt.xlabel(\"Feature Importance\");"
      ]
    },
    {
      "cell_type": "code",
      "execution_count": null,
      "metadata": {
        "id": "jqLmEC6XReZ5",
        "colab": {
          "base_uri": "https://localhost:8080/",
          "height": 585
        },
        "outputId": "ab4a0936-7f63-427e-dffe-52d69fc10d78"
      },
      "outputs": [
        {
          "output_type": "display_data",
          "data": {
            "text/plain": [
              "<Figure size 576x576 with 2 Axes>"
            ],
            "image/png": "[encoded data removed]"
          },
          "metadata": {
            "needs_background": "light"
          }
        }
      ],
      "source": [
        "# let's check the correlation among selected features\n",
        "\n",
        "df = pd.DataFrame(X_train,columns=feature_name)\n",
        "fig = plt.figure(figsize=(8, 8))\n",
        "dataplot=sns.heatmap(df.corr())\n",
        "plt.show()"
      ]
    },
    {
      "cell_type": "code",
      "execution_count": null,
      "metadata": {
        "id": "taQH8lDAlfHg",
        "colab": {
          "base_uri": "https://localhost:8080/"
        },
        "outputId": "199a5070-9ead-4c97-fa44-c7dae4e32aa5"
      },
      "outputs": [
        {
          "output_type": "execute_result",
          "data": {
            "text/plain": [
              "MannwhitneyuResult(statistic=array([ 1954. , 13607.5,  1827.5,  2233. ,  2156. ]), pvalue=array([1.66647690e-73, 9.10424135e-28, 3.99947207e-74, 3.80276078e-72,\n",
              "       1.60776101e-72]))"
            ]
          },
          "metadata": {},
          "execution_count": 210
        }
      ],
      "source": [
        "# are the selected features correlated with the outcome?\n",
        "# we use the Wilcoxon rank-sum test to assess if the features are different between positives and negatives\n",
        "\n",
        "import scipy.stats as stats\n",
        "# perform two-sided test. You can use 'greater' or 'less' for one-sided test\n",
        "stats.mannwhitneyu(df[Y_train==0], df[Y_train==1])"
      ]
    },
    {
      "cell_type": "code",
      "execution_count": null,
      "metadata": {
        "id": "crs5N0mb3C90"
      },
      "outputs": [],
      "source": [
        "# If the model used is a decision tree, why not showing the obtained tree?\n",
        "\n",
        "if clf.__class__.__name__=='DecisionTreeClassifier':\n",
        "  from sklearn import tree\n",
        "  fig = plt.figure(figsize=(25,20))\n",
        "  fig = plt.figure(figsize=(25,20))\n",
        "  _ = tree.plot_tree(search.best_estimator_.named_steps[\"clf\"], \n",
        "                   feature_names=feature_name,  \n",
        "                   #class_names=iris.target_names,\n",
        "                   filled=True)\n",
        "\n",
        "  fig.savefig(\"decistion_tree.png\")\n",
        "\n"
      ]
    },
    {
      "cell_type": "code",
      "execution_count": null,
      "metadata": {
        "id": "uvihxdjw9oVh",
        "colab": {
          "base_uri": "https://localhost:8080/"
        },
        "outputId": "853986e8-068f-459e-8cb7-fc78d13c4fa4"
      },
      "outputs": [
        {
          "output_type": "execute_result",
          "data": {
            "text/plain": [
              "{'spreadsheetId': '1lEOCQHOmD3RXbkS0kQbfZ7oDytiCrLsR_NjGPjYMBbU',\n",
              " 'updatedRange': 'WisconsinResults!A6:J6',\n",
              " 'updatedRows': 1,\n",
              " 'updatedColumns': 10,\n",
              " 'updatedCells': 10}"
            ]
          },
          "metadata": {},
          "execution_count": 211
        }
      ],
      "source": [
        "#\n",
        "#           ,-----.      ___    _ ,---------. .-------.   ___    _ ,---------.  \n",
        "#         .'  .-,  '.  .'   |  | |\\          \\\\  _(`)_ \\.'   |  | |\\          \\ \n",
        "#        / ,-.|  \\ _ \\ |   .'  | | `--.  ,---'| (_ o._)||   .'  | | `--.  ,---' \n",
        "#       ;  \\  '_ /  | :.'  '_  | |    |   \\   |  (_,_) /.'  '_  | |    |   \\    \n",
        "#       |  _`,/ \\ _/  |'   ( \\.-.|    :_ _:   |   '-.-' '   ( \\.-.|    :_ _:    \n",
        "#       : (  '\\_/ \\   ;' (`. _` /|    (_I_)   |   |     ' (`. _` /|    (_I_)    \n",
        "#        \\ `\"/  \\  ) / | (_ (_) _)   (_(=)_)  |   |     | (_ (_) _)   (_(=)_)   \n",
        "#         '. \\_/``\".'   \\ /  . \\ /    (_I_)   /   )      \\ /  . \\ /    (_I_)    \n",
        "#           '-----'      ``-'`-''     '---'   `---'       ``-'`-''     '---'    \n",
        "                                                                        \n",
        "\n",
        "\n",
        "\n",
        "# Prepare report on Google Sheet\n",
        "\n",
        "# write your name or nome de plume and email: \n",
        "myname='Maja Vojnic Kortmis, maja.vojnickortmis@gmail.com'\n",
        "# write some note if you wish\n",
        "mynotes='MLP classifier'\n",
        "\n",
        "#---------------------------------------------------------------------------------\n",
        "\n",
        "from datetime import datetime\n",
        "\n",
        "# datetime object containing current date and time\n",
        "now = datetime.now()\n",
        "# dd/mm/YY H:M:S\n",
        "\n",
        "res_string=[]\n",
        "res_string.append(now.strftime(\"%d/%m/%Y %H:%M:%S\"))\n",
        "res_string.append('%.3f'% (t2/60-t1/60)) \n",
        "res_string.append('%.3f'% accuracy_score(Y_test,predictions))\n",
        "res_string.append('%.3f'% recall_score(Y_test, predictions)) #res_string.append('Recall (also termed sensitivity): %.3f' % recall_score(Y_test, predictions))\n",
        "res_string.append('%.3f'% recall_score(Y_test, predictions,pos_label=0)) #res_string.append('Specificity (=recall of negative): %.3f' % recall_score(Y_test, predictions,pos_label=0))\n",
        "res_string.append(str(pipe.steps)) #pipeline\n",
        "res_string.append(str(search.best_params_))\n",
        "res_string.append(stringSMOTE)\n",
        "res_string.append(myname)\n",
        "res_string.append(mynotes)\n",
        "\n",
        "sht = gc.open_by_url('https://docs.google.com/spreadsheets/d/1lEOCQHOmD3RXbkS0kQbfZ7oDytiCrLsR_NjGPjYMBbU/edit?usp=sharing')\n",
        "sht2=sht.worksheet(dataset+'Results')\n",
        "\n",
        "rows = sht2.get_all_values()\n",
        "cell_list = sht2.range(('A'+str(int(np.size(rows)/np.size(res_string))+1))+':'+('J'+str(int(np.size(rows)/np.size(res_string))+1)))\n",
        "\n",
        "for index, cell in enumerate(cell_list):               #for cell in cell_list\n",
        "  cell.value = res_string[index] #random.randint(1, 10)\n",
        "sht2.update_cells(cell_list)"
      ]
    }
  ],
  "metadata": {
    "colab": {
      "provenance": [],
      "include_colab_link": true
    },
    "kernelspec": {
      "display_name": "Python 3",
      "name": "python3"
    },
    "language_info": {
      "name": "python"
    }
  },
  "nbformat": 4,
  "nbformat_minor": 0
}